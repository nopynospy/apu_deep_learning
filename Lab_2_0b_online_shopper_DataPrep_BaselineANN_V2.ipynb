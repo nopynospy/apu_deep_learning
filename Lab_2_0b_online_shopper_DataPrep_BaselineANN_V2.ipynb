{
  "nbformat": 4,
  "nbformat_minor": 0,
  "metadata": {
    "colab": {
      "name": "Lab 2.0b-online shopper-DataPrep-BaselineANN_V2.ipynb",
      "provenance": [],
      "collapsed_sections": []
    },
    "kernelspec": {
      "name": "python3",
      "display_name": "Python 3"
    }
  },
  "cells": [
    {
      "cell_type": "markdown",
      "metadata": {
        "id": "AuZvEqEG72hd"
      },
      "source": [
        "# Online Shopper-Baseline + External train-valid split"
      ]
    },
    {
      "cell_type": "markdown",
      "metadata": {
        "id": "fxXoCC7z8yrA"
      },
      "source": [
        "This is a preprocessed dataset. Some of the variables are dropped. All variables are converted to numeric. Revenue is the target variable. It is a factorial varible converted to numeric. This is a classification problem.\n"
      ]
    },
    {
      "cell_type": "markdown",
      "metadata": {
        "id": "01JKthAjbvQ0"
      },
      "source": [
        "Import python data science libraries. Set number of displayed rows and columns, as well as width of pandas table."
      ]
    },
    {
      "cell_type": "code",
      "metadata": {
        "id": "GwKjjRksjUb3"
      },
      "source": [
        "import pandas as pd\n",
        "import numpy as np\n",
        "pd.set_option('display.max_rows', 500)\n",
        "pd.set_option('display.max_columns', 500)\n",
        "pd.set_option('display.width', 1000)\n",
        "\n"
      ],
      "execution_count": 1,
      "outputs": []
    },
    {
      "cell_type": "markdown",
      "metadata": {
        "id": "h4QENiybb7ri"
      },
      "source": [
        "Import train and test datasets"
      ]
    },
    {
      "cell_type": "code",
      "metadata": {
        "id": "CunITUivkQMJ"
      },
      "source": [
        "train_full = pd.read_csv('https://raw.githubusercontent.com/nopynospy/apu_deep_learning/main/online%20shop_train.csv')"
      ],
      "execution_count": 2,
      "outputs": []
    },
    {
      "cell_type": "code",
      "metadata": {
        "id": "uG-5Q6Lwmdn2"
      },
      "source": [
        "test = pd.read_csv('https://raw.githubusercontent.com/nopynospy/apu_deep_learning/main/online%20shop_test.csv')"
      ],
      "execution_count": 3,
      "outputs": []
    },
    {
      "cell_type": "markdown",
      "metadata": {
        "id": "jjivmYnkcT8E"
      },
      "source": [
        "Get the number of rows and columns of both datasets"
      ]
    },
    {
      "cell_type": "code",
      "metadata": {
        "id": "lBBpaut3jzPH",
        "outputId": "2edf769b-1cb6-4857-d27b-7733e29e375d",
        "colab": {
          "base_uri": "https://localhost:8080/"
        }
      },
      "source": [
        "train_full.shape"
      ],
      "execution_count": 4,
      "outputs": [
        {
          "output_type": "execute_result",
          "data": {
            "text/plain": [
              "(16626, 13)"
            ]
          },
          "metadata": {},
          "execution_count": 4
        }
      ]
    },
    {
      "cell_type": "code",
      "metadata": {
        "id": "6JABmSiUnm9B",
        "outputId": "701f48a4-23e2-489f-85d9-58781247bedf",
        "colab": {
          "base_uri": "https://localhost:8080/"
        }
      },
      "source": [
        "test.shape"
      ],
      "execution_count": 5,
      "outputs": [
        {
          "output_type": "execute_result",
          "data": {
            "text/plain": [
              "(2466, 13)"
            ]
          },
          "metadata": {},
          "execution_count": 5
        }
      ]
    },
    {
      "cell_type": "markdown",
      "metadata": {
        "id": "M_ocBT7KcYrM"
      },
      "source": [
        "Show first 5 rows in train dataset"
      ]
    },
    {
      "cell_type": "code",
      "metadata": {
        "id": "I-FBqjngnuR_",
        "outputId": "4b653a58-42ed-4f1e-b6ee-a4de5d89bbfa",
        "colab": {
          "base_uri": "https://localhost:8080/",
          "height": 206
        }
      },
      "source": [
        "train_full.head()"
      ],
      "execution_count": 6,
      "outputs": [
        {
          "output_type": "execute_result",
          "data": {
            "text/html": [
              "<div>\n",
              "<style scoped>\n",
              "    .dataframe tbody tr th:only-of-type {\n",
              "        vertical-align: middle;\n",
              "    }\n",
              "\n",
              "    .dataframe tbody tr th {\n",
              "        vertical-align: top;\n",
              "    }\n",
              "\n",
              "    .dataframe thead th {\n",
              "        text-align: right;\n",
              "    }\n",
              "</style>\n",
              "<table border=\"1\" class=\"dataframe\">\n",
              "  <thead>\n",
              "    <tr style=\"text-align: right;\">\n",
              "      <th></th>\n",
              "      <th>Administrative</th>\n",
              "      <th>Informational</th>\n",
              "      <th>ProductRelated</th>\n",
              "      <th>ExitRates</th>\n",
              "      <th>PageValues</th>\n",
              "      <th>SpecialDay</th>\n",
              "      <th>Month</th>\n",
              "      <th>Region</th>\n",
              "      <th>TrafficType</th>\n",
              "      <th>VisitorType0</th>\n",
              "      <th>VisitorType1</th>\n",
              "      <th>Weekend</th>\n",
              "      <th>Revenue</th>\n",
              "    </tr>\n",
              "  </thead>\n",
              "  <tbody>\n",
              "    <tr>\n",
              "      <th>0</th>\n",
              "      <td>0</td>\n",
              "      <td>0</td>\n",
              "      <td>12</td>\n",
              "      <td>0.069444</td>\n",
              "      <td>0.000000</td>\n",
              "      <td>0.8</td>\n",
              "      <td>5</td>\n",
              "      <td>2</td>\n",
              "      <td>2</td>\n",
              "      <td>0.0</td>\n",
              "      <td>1.0</td>\n",
              "      <td>0</td>\n",
              "      <td>0</td>\n",
              "    </tr>\n",
              "    <tr>\n",
              "      <th>1</th>\n",
              "      <td>0</td>\n",
              "      <td>0</td>\n",
              "      <td>44</td>\n",
              "      <td>0.032143</td>\n",
              "      <td>0.000000</td>\n",
              "      <td>0.0</td>\n",
              "      <td>12</td>\n",
              "      <td>1</td>\n",
              "      <td>1</td>\n",
              "      <td>0.0</td>\n",
              "      <td>1.0</td>\n",
              "      <td>0</td>\n",
              "      <td>0</td>\n",
              "    </tr>\n",
              "    <tr>\n",
              "      <th>2</th>\n",
              "      <td>2</td>\n",
              "      <td>0</td>\n",
              "      <td>7</td>\n",
              "      <td>0.011111</td>\n",
              "      <td>0.000000</td>\n",
              "      <td>0.0</td>\n",
              "      <td>3</td>\n",
              "      <td>8</td>\n",
              "      <td>2</td>\n",
              "      <td>0.0</td>\n",
              "      <td>0.0</td>\n",
              "      <td>0</td>\n",
              "      <td>0</td>\n",
              "    </tr>\n",
              "    <tr>\n",
              "      <th>3</th>\n",
              "      <td>3</td>\n",
              "      <td>0</td>\n",
              "      <td>37</td>\n",
              "      <td>0.004274</td>\n",
              "      <td>47.931282</td>\n",
              "      <td>0.0</td>\n",
              "      <td>5</td>\n",
              "      <td>3</td>\n",
              "      <td>2</td>\n",
              "      <td>0.0</td>\n",
              "      <td>0.0</td>\n",
              "      <td>1</td>\n",
              "      <td>1</td>\n",
              "    </tr>\n",
              "    <tr>\n",
              "      <th>4</th>\n",
              "      <td>0</td>\n",
              "      <td>0</td>\n",
              "      <td>1</td>\n",
              "      <td>0.200000</td>\n",
              "      <td>0.000000</td>\n",
              "      <td>0.0</td>\n",
              "      <td>5</td>\n",
              "      <td>3</td>\n",
              "      <td>3</td>\n",
              "      <td>0.0</td>\n",
              "      <td>1.0</td>\n",
              "      <td>1</td>\n",
              "      <td>0</td>\n",
              "    </tr>\n",
              "  </tbody>\n",
              "</table>\n",
              "</div>"
            ],
            "text/plain": [
              "   Administrative  Informational  ProductRelated  ExitRates  PageValues  SpecialDay  Month  Region  TrafficType  VisitorType0  VisitorType1  Weekend  Revenue\n",
              "0               0              0              12   0.069444    0.000000         0.8      5       2            2           0.0           1.0        0        0\n",
              "1               0              0              44   0.032143    0.000000         0.0     12       1            1           0.0           1.0        0        0\n",
              "2               2              0               7   0.011111    0.000000         0.0      3       8            2           0.0           0.0        0        0\n",
              "3               3              0              37   0.004274   47.931282         0.0      5       3            2           0.0           0.0        1        1\n",
              "4               0              0               1   0.200000    0.000000         0.0      5       3            3           0.0           1.0        1        0"
            ]
          },
          "metadata": {},
          "execution_count": 6
        }
      ]
    },
    {
      "cell_type": "markdown",
      "metadata": {
        "id": "9CVKWmSxcdR7"
      },
      "source": [
        "Get descriptives in train dataset"
      ]
    },
    {
      "cell_type": "code",
      "metadata": {
        "id": "jS0VZuN_oL9_",
        "outputId": "8029b477-e32f-43d1-d93f-2238eb4a39f8",
        "colab": {
          "base_uri": "https://localhost:8080/",
          "height": 320
        }
      },
      "source": [
        "train_full.describe()"
      ],
      "execution_count": 7,
      "outputs": [
        {
          "output_type": "execute_result",
          "data": {
            "text/html": [
              "<div>\n",
              "<style scoped>\n",
              "    .dataframe tbody tr th:only-of-type {\n",
              "        vertical-align: middle;\n",
              "    }\n",
              "\n",
              "    .dataframe tbody tr th {\n",
              "        vertical-align: top;\n",
              "    }\n",
              "\n",
              "    .dataframe thead th {\n",
              "        text-align: right;\n",
              "    }\n",
              "</style>\n",
              "<table border=\"1\" class=\"dataframe\">\n",
              "  <thead>\n",
              "    <tr style=\"text-align: right;\">\n",
              "      <th></th>\n",
              "      <th>Administrative</th>\n",
              "      <th>Informational</th>\n",
              "      <th>ProductRelated</th>\n",
              "      <th>ExitRates</th>\n",
              "      <th>PageValues</th>\n",
              "      <th>SpecialDay</th>\n",
              "      <th>Month</th>\n",
              "      <th>Region</th>\n",
              "      <th>TrafficType</th>\n",
              "      <th>VisitorType0</th>\n",
              "      <th>VisitorType1</th>\n",
              "      <th>Weekend</th>\n",
              "      <th>Revenue</th>\n",
              "    </tr>\n",
              "  </thead>\n",
              "  <tbody>\n",
              "    <tr>\n",
              "      <th>count</th>\n",
              "      <td>16626.000000</td>\n",
              "      <td>16626.000000</td>\n",
              "      <td>16626.000000</td>\n",
              "      <td>16626.000000</td>\n",
              "      <td>16626.000000</td>\n",
              "      <td>16626.000000</td>\n",
              "      <td>16626.000000</td>\n",
              "      <td>16626.000000</td>\n",
              "      <td>16626.000000</td>\n",
              "      <td>16626.000000</td>\n",
              "      <td>16626.00000</td>\n",
              "      <td>16626.000000</td>\n",
              "      <td>16626.000000</td>\n",
              "    </tr>\n",
              "    <tr>\n",
              "      <th>mean</th>\n",
              "      <td>2.297907</td>\n",
              "      <td>0.457296</td>\n",
              "      <td>37.823950</td>\n",
              "      <td>0.033312</td>\n",
              "      <td>14.074354</td>\n",
              "      <td>0.038374</td>\n",
              "      <td>8.129737</td>\n",
              "      <td>2.838807</td>\n",
              "      <td>3.556358</td>\n",
              "      <td>0.004451</td>\n",
              "      <td>0.82359</td>\n",
              "      <td>0.238181</td>\n",
              "      <td>0.500000</td>\n",
              "    </tr>\n",
              "    <tr>\n",
              "      <th>std</th>\n",
              "      <td>3.168297</td>\n",
              "      <td>1.160715</td>\n",
              "      <td>50.922376</td>\n",
              "      <td>0.040125</td>\n",
              "      <td>27.136885</td>\n",
              "      <td>0.159034</td>\n",
              "      <td>3.354549</td>\n",
              "      <td>2.277844</td>\n",
              "      <td>3.514761</td>\n",
              "      <td>0.066568</td>\n",
              "      <td>0.38118</td>\n",
              "      <td>0.425983</td>\n",
              "      <td>0.500015</td>\n",
              "    </tr>\n",
              "    <tr>\n",
              "      <th>min</th>\n",
              "      <td>0.000000</td>\n",
              "      <td>0.000000</td>\n",
              "      <td>0.000000</td>\n",
              "      <td>0.000000</td>\n",
              "      <td>0.000000</td>\n",
              "      <td>0.000000</td>\n",
              "      <td>2.000000</td>\n",
              "      <td>1.000000</td>\n",
              "      <td>1.000000</td>\n",
              "      <td>0.000000</td>\n",
              "      <td>0.00000</td>\n",
              "      <td>0.000000</td>\n",
              "      <td>0.000000</td>\n",
              "    </tr>\n",
              "    <tr>\n",
              "      <th>25%</th>\n",
              "      <td>0.000000</td>\n",
              "      <td>0.000000</td>\n",
              "      <td>10.000000</td>\n",
              "      <td>0.012372</td>\n",
              "      <td>0.000000</td>\n",
              "      <td>0.000000</td>\n",
              "      <td>5.000000</td>\n",
              "      <td>1.000000</td>\n",
              "      <td>2.000000</td>\n",
              "      <td>0.000000</td>\n",
              "      <td>1.00000</td>\n",
              "      <td>0.000000</td>\n",
              "      <td>0.000000</td>\n",
              "    </tr>\n",
              "    <tr>\n",
              "      <th>50%</th>\n",
              "      <td>1.000000</td>\n",
              "      <td>0.000000</td>\n",
              "      <td>21.000000</td>\n",
              "      <td>0.020534</td>\n",
              "      <td>0.000000</td>\n",
              "      <td>0.000000</td>\n",
              "      <td>10.000000</td>\n",
              "      <td>2.000000</td>\n",
              "      <td>2.000000</td>\n",
              "      <td>0.000000</td>\n",
              "      <td>1.00000</td>\n",
              "      <td>0.000000</td>\n",
              "      <td>0.500000</td>\n",
              "    </tr>\n",
              "    <tr>\n",
              "      <th>75%</th>\n",
              "      <td>4.000000</td>\n",
              "      <td>0.000000</td>\n",
              "      <td>44.000000</td>\n",
              "      <td>0.035150</td>\n",
              "      <td>17.857937</td>\n",
              "      <td>0.000000</td>\n",
              "      <td>11.000000</td>\n",
              "      <td>4.000000</td>\n",
              "      <td>4.000000</td>\n",
              "      <td>0.000000</td>\n",
              "      <td>1.00000</td>\n",
              "      <td>0.000000</td>\n",
              "      <td>1.000000</td>\n",
              "    </tr>\n",
              "    <tr>\n",
              "      <th>max</th>\n",
              "      <td>27.000000</td>\n",
              "      <td>24.000000</td>\n",
              "      <td>705.000000</td>\n",
              "      <td>0.200000</td>\n",
              "      <td>361.763742</td>\n",
              "      <td>1.000000</td>\n",
              "      <td>12.000000</td>\n",
              "      <td>9.000000</td>\n",
              "      <td>20.000000</td>\n",
              "      <td>1.000000</td>\n",
              "      <td>1.00000</td>\n",
              "      <td>1.000000</td>\n",
              "      <td>1.000000</td>\n",
              "    </tr>\n",
              "  </tbody>\n",
              "</table>\n",
              "</div>"
            ],
            "text/plain": [
              "       Administrative  Informational  ProductRelated     ExitRates    PageValues    SpecialDay         Month        Region   TrafficType  VisitorType0  VisitorType1       Weekend       Revenue\n",
              "count    16626.000000   16626.000000    16626.000000  16626.000000  16626.000000  16626.000000  16626.000000  16626.000000  16626.000000  16626.000000   16626.00000  16626.000000  16626.000000\n",
              "mean         2.297907       0.457296       37.823950      0.033312     14.074354      0.038374      8.129737      2.838807      3.556358      0.004451       0.82359      0.238181      0.500000\n",
              "std          3.168297       1.160715       50.922376      0.040125     27.136885      0.159034      3.354549      2.277844      3.514761      0.066568       0.38118      0.425983      0.500015\n",
              "min          0.000000       0.000000        0.000000      0.000000      0.000000      0.000000      2.000000      1.000000      1.000000      0.000000       0.00000      0.000000      0.000000\n",
              "25%          0.000000       0.000000       10.000000      0.012372      0.000000      0.000000      5.000000      1.000000      2.000000      0.000000       1.00000      0.000000      0.000000\n",
              "50%          1.000000       0.000000       21.000000      0.020534      0.000000      0.000000     10.000000      2.000000      2.000000      0.000000       1.00000      0.000000      0.500000\n",
              "75%          4.000000       0.000000       44.000000      0.035150     17.857937      0.000000     11.000000      4.000000      4.000000      0.000000       1.00000      0.000000      1.000000\n",
              "max         27.000000      24.000000      705.000000      0.200000    361.763742      1.000000     12.000000      9.000000     20.000000      1.000000       1.00000      1.000000      1.000000"
            ]
          },
          "metadata": {},
          "execution_count": 7
        }
      ]
    },
    {
      "cell_type": "markdown",
      "metadata": {
        "id": "yvx-sYUJclNT"
      },
      "source": [
        "Get the specifications of each column in train dataset"
      ]
    },
    {
      "cell_type": "code",
      "metadata": {
        "id": "vI_0NE9hoXKK",
        "outputId": "44b8b5c7-05d2-4168-8952-ae51d7fa7640",
        "colab": {
          "base_uri": "https://localhost:8080/"
        }
      },
      "source": [
        "train_full.info()"
      ],
      "execution_count": 8,
      "outputs": [
        {
          "output_type": "stream",
          "name": "stdout",
          "text": [
            "<class 'pandas.core.frame.DataFrame'>\n",
            "RangeIndex: 16626 entries, 0 to 16625\n",
            "Data columns (total 13 columns):\n",
            " #   Column          Non-Null Count  Dtype  \n",
            "---  ------          --------------  -----  \n",
            " 0   Administrative  16626 non-null  int64  \n",
            " 1   Informational   16626 non-null  int64  \n",
            " 2   ProductRelated  16626 non-null  int64  \n",
            " 3   ExitRates       16626 non-null  float64\n",
            " 4   PageValues      16626 non-null  float64\n",
            " 5   SpecialDay      16626 non-null  float64\n",
            " 6   Month           16626 non-null  int64  \n",
            " 7   Region          16626 non-null  int64  \n",
            " 8   TrafficType     16626 non-null  int64  \n",
            " 9   VisitorType0    16626 non-null  float64\n",
            " 10  VisitorType1    16626 non-null  float64\n",
            " 11  Weekend         16626 non-null  int64  \n",
            " 12  Revenue         16626 non-null  int64  \n",
            "dtypes: float64(5), int64(8)\n",
            "memory usage: 1.6 MB\n"
          ]
        }
      ]
    },
    {
      "cell_type": "markdown",
      "metadata": {
        "id": "VUTVzeTvc6K6"
      },
      "source": [
        "Based on the previous code blocks, all of the columns are numeric. However, VisitorType0 and VisitorType1 are binaries (only 0 and 1), so their float64 can be changed to int64, because of the lack of decimals."
      ]
    },
    {
      "cell_type": "code",
      "metadata": {
        "id": "tv8JD-IpOf27",
        "outputId": "f4c97f53-f72d-46a6-9a1f-0226350e4668",
        "colab": {
          "base_uri": "https://localhost:8080/"
        }
      },
      "source": [
        "train_full.VisitorType0 = train_full.VisitorType0.astype(int)\n",
        "train_full.VisitorType1 = train_full.VisitorType1.astype(int)\n",
        "train_full.info()"
      ],
      "execution_count": 9,
      "outputs": [
        {
          "output_type": "stream",
          "name": "stdout",
          "text": [
            "<class 'pandas.core.frame.DataFrame'>\n",
            "RangeIndex: 16626 entries, 0 to 16625\n",
            "Data columns (total 13 columns):\n",
            " #   Column          Non-Null Count  Dtype  \n",
            "---  ------          --------------  -----  \n",
            " 0   Administrative  16626 non-null  int64  \n",
            " 1   Informational   16626 non-null  int64  \n",
            " 2   ProductRelated  16626 non-null  int64  \n",
            " 3   ExitRates       16626 non-null  float64\n",
            " 4   PageValues      16626 non-null  float64\n",
            " 5   SpecialDay      16626 non-null  float64\n",
            " 6   Month           16626 non-null  int64  \n",
            " 7   Region          16626 non-null  int64  \n",
            " 8   TrafficType     16626 non-null  int64  \n",
            " 9   VisitorType0    16626 non-null  int64  \n",
            " 10  VisitorType1    16626 non-null  int64  \n",
            " 11  Weekend         16626 non-null  int64  \n",
            " 12  Revenue         16626 non-null  int64  \n",
            "dtypes: float64(3), int64(10)\n",
            "memory usage: 1.6 MB\n"
          ]
        }
      ]
    },
    {
      "cell_type": "markdown",
      "metadata": {
        "id": "YtlWMTD7YLbG"
      },
      "source": [
        "Use seaborn, a visualization library, to create a count plot on the revenue column."
      ]
    },
    {
      "cell_type": "code",
      "metadata": {
        "id": "ggo3yuGwslJp"
      },
      "source": [
        "import seaborn as sns"
      ],
      "execution_count": 10,
      "outputs": []
    },
    {
      "cell_type": "code",
      "metadata": {
        "id": "p0WwJMWcpAr2",
        "outputId": "1877056f-629f-49b5-ba2e-17c6f056edb6",
        "colab": {
          "base_uri": "https://localhost:8080/",
          "height": 351
        }
      },
      "source": [
        "\n",
        "sns.countplot(train_full['Revenue'], palette='BuPu')"
      ],
      "execution_count": 11,
      "outputs": [
        {
          "output_type": "stream",
          "name": "stderr",
          "text": [
            "/usr/local/lib/python3.7/dist-packages/seaborn/_decorators.py:43: FutureWarning: Pass the following variable as a keyword arg: x. From version 0.12, the only valid positional argument will be `data`, and passing other arguments without an explicit keyword will result in an error or misinterpretation.\n",
            "  FutureWarning\n"
          ]
        },
        {
          "output_type": "execute_result",
          "data": {
            "text/plain": [
              "<matplotlib.axes._subplots.AxesSubplot at 0x7f91fae5cbd0>"
            ]
          },
          "metadata": {},
          "execution_count": 11
        },
        {
          "output_type": "display_data",
          "data": {
            "image/png": "[encoded data removed]",
            "text/plain": [
              "<Figure size 432x288 with 1 Axes>"
            ]
          },
          "metadata": {
            "needs_background": "light"
          }
        }
      ]
    },
    {
      "cell_type": "markdown",
      "metadata": {
        "id": "89nwcnPM8aTT"
      },
      "source": [
        "This is a balanced dataset"
      ]
    },
    {
      "cell_type": "markdown",
      "metadata": {
        "id": "oEp2mNfPd96M"
      },
      "source": [
        "Import matplotlib, a visualization library, to create a heatmap on the Pearson correlations among the variables in training dataset."
      ]
    },
    {
      "cell_type": "code",
      "metadata": {
        "id": "XGInnm2IpRVQ"
      },
      "source": [
        "import matplotlib.pyplot as plt"
      ],
      "execution_count": 12,
      "outputs": []
    },
    {
      "cell_type": "code",
      "metadata": {
        "id": "XitNfFD7qAOm",
        "outputId": "693974b3-9458-4941-a295-8929e71b39aa",
        "colab": {
          "base_uri": "https://localhost:8080/",
          "height": 1000
        }
      },
      "source": [
        "plt.figure(figsize = (20,20))\n",
        "g = sns.heatmap(train_full.corr(),annot=True, cmap = 'BuPu')"
      ],
      "execution_count": 13,
      "outputs": [
        {
          "output_type": "display_data",
          "data": {
            "image/png": "[encoded data removed]",
            "text/plain": [
              "<Figure size 1440x1440 with 2 Axes>"
            ]
          },
          "metadata": {
            "needs_background": "light"
          }
        }
      ]
    },
    {
      "cell_type": "markdown",
      "metadata": {
        "id": "-PxVOIdS9yJt"
      },
      "source": [
        "Comment: Revenue has maximum correlation with PageValues\n"
      ]
    },
    {
      "cell_type": "markdown",
      "metadata": {
        "id": "EBZMB15t7zHS"
      },
      "source": [
        "## Split train_full data into train and validation datasets using Sklearn\n",
        "\n",
        "The split is done at a 0.8:0.2 ratio"
      ]
    },
    {
      "cell_type": "code",
      "metadata": {
        "id": "Vl8zdbJPCbLZ"
      },
      "source": [
        "from sklearn.model_selection import train_test_split\n"
      ],
      "execution_count": 14,
      "outputs": []
    },
    {
      "cell_type": "code",
      "metadata": {
        "id": "UnoRy3cZDiRi"
      },
      "source": [
        "train, valid = train_test_split (train_full, test_size = 0.2, random_state = 0)"
      ],
      "execution_count": 15,
      "outputs": []
    },
    {
      "cell_type": "code",
      "metadata": {
        "id": "5vLReUJGEiEZ",
        "outputId": "03fe727d-f615-41b7-dc05-847227a3399f",
        "colab": {
          "base_uri": "https://localhost:8080/"
        }
      },
      "source": [
        "train.shape"
      ],
      "execution_count": 16,
      "outputs": [
        {
          "output_type": "execute_result",
          "data": {
            "text/plain": [
              "(13300, 13)"
            ]
          },
          "metadata": {},
          "execution_count": 16
        }
      ]
    },
    {
      "cell_type": "code",
      "metadata": {
        "id": "BhADlJkQERni",
        "outputId": "121036ad-4587-40fd-8a29-e8ecf68af8b3",
        "colab": {
          "base_uri": "https://localhost:8080/"
        }
      },
      "source": [
        "valid.shape"
      ],
      "execution_count": 17,
      "outputs": [
        {
          "output_type": "execute_result",
          "data": {
            "text/plain": [
              "(3326, 13)"
            ]
          },
          "metadata": {},
          "execution_count": 17
        }
      ]
    },
    {
      "cell_type": "markdown",
      "metadata": {
        "id": "CMTd9AOXeX9R"
      },
      "source": [
        "Because revenue is the independent variable (y) and it is at the last column in the datasets, iloc can be used with a -1 index to seperate the datasets into train and valid sets."
      ]
    },
    {
      "cell_type": "code",
      "metadata": {
        "id": "KQ2_4rZiFXpr"
      },
      "source": [
        "X_train = train.iloc[:,:-1]\n",
        "y_train = train.iloc[:,-1]"
      ],
      "execution_count": 18,
      "outputs": []
    },
    {
      "cell_type": "code",
      "metadata": {
        "id": "_8W0ngntFS9B"
      },
      "source": [
        "X_valid = valid.iloc[:,:-1]\n",
        "y_valid = valid.iloc[:,-1]"
      ],
      "execution_count": 19,
      "outputs": []
    },
    {
      "cell_type": "code",
      "metadata": {
        "id": "PEXZyB2FC-FT",
        "outputId": "88c71740-be55-4ac8-9878-6b3784c1538b",
        "colab": {
          "base_uri": "https://localhost:8080/"
        }
      },
      "source": [
        "X_train.shape"
      ],
      "execution_count": 20,
      "outputs": [
        {
          "output_type": "execute_result",
          "data": {
            "text/plain": [
              "(13300, 12)"
            ]
          },
          "metadata": {},
          "execution_count": 20
        }
      ]
    },
    {
      "cell_type": "code",
      "metadata": {
        "id": "RSsTbhHxDEmq",
        "outputId": "06b4229f-1e1d-4fd1-cd46-0f76f4853600",
        "colab": {
          "base_uri": "https://localhost:8080/"
        }
      },
      "source": [
        "X_valid.shape"
      ],
      "execution_count": 21,
      "outputs": [
        {
          "output_type": "execute_result",
          "data": {
            "text/plain": [
              "(3326, 12)"
            ]
          },
          "metadata": {},
          "execution_count": 21
        }
      ]
    },
    {
      "cell_type": "markdown",
      "metadata": {
        "id": "wdW0sEj1eHR-"
      },
      "source": [
        "### Task: For your dataset, include code to check the balance of train and valid data"
      ]
    },
    {
      "cell_type": "code",
      "metadata": {
        "id": "C7TVofyFe_cy",
        "outputId": "b7079e6e-26cf-427a-908e-8989e60b8763",
        "colab": {
          "base_uri": "https://localhost:8080/"
        }
      },
      "source": [
        "y_train.head()"
      ],
      "execution_count": 23,
      "outputs": [
        {
          "output_type": "execute_result",
          "data": {
            "text/plain": [
              "11159    1\n",
              "3002     0\n",
              "2411     0\n",
              "15753    1\n",
              "2584     0\n",
              "Name: Revenue, dtype: int64"
            ]
          },
          "metadata": {},
          "execution_count": 23
        }
      ]
    },
    {
      "cell_type": "markdown",
      "metadata": {
        "id": "qdRagfDBgowx"
      },
      "source": [
        "Because there is only 1 column, which does not even have its own header, to use countplot on it, just put the dataset name without its column header."
      ]
    },
    {
      "cell_type": "code",
      "metadata": {
        "id": "y1HGZHctexVJ",
        "outputId": "67db728b-dc1f-4486-b0b0-91dc11b0598a",
        "colab": {
          "base_uri": "https://localhost:8080/",
          "height": 351
        }
      },
      "source": [
        "sns.countplot(y_train, palette='BuPu')"
      ],
      "execution_count": 24,
      "outputs": [
        {
          "output_type": "stream",
          "name": "stderr",
          "text": [
            "/usr/local/lib/python3.7/dist-packages/seaborn/_decorators.py:43: FutureWarning: Pass the following variable as a keyword arg: x. From version 0.12, the only valid positional argument will be `data`, and passing other arguments without an explicit keyword will result in an error or misinterpretation.\n",
            "  FutureWarning\n"
          ]
        },
        {
          "output_type": "execute_result",
          "data": {
            "text/plain": [
              "<matplotlib.axes._subplots.AxesSubplot at 0x7f91ef1e8650>"
            ]
          },
          "metadata": {},
          "execution_count": 24
        },
        {
          "output_type": "display_data",
          "data": {
            "image/png": "[encoded data removed]",
            "text/plain": [
              "<Figure size 432x288 with 1 Axes>"
            ]
          },
          "metadata": {
            "needs_background": "light"
          }
        }
      ]
    },
    {
      "cell_type": "code",
      "metadata": {
        "id": "jsJpA8mte6dJ",
        "outputId": "cb767e94-0b6b-4fe0-d9c1-83a683eb024b",
        "colab": {
          "base_uri": "https://localhost:8080/",
          "height": 351
        }
      },
      "source": [
        "sns.countplot(y_valid, palette='BuPu')"
      ],
      "execution_count": 25,
      "outputs": [
        {
          "output_type": "stream",
          "name": "stderr",
          "text": [
            "/usr/local/lib/python3.7/dist-packages/seaborn/_decorators.py:43: FutureWarning: Pass the following variable as a keyword arg: x. From version 0.12, the only valid positional argument will be `data`, and passing other arguments without an explicit keyword will result in an error or misinterpretation.\n",
            "  FutureWarning\n"
          ]
        },
        {
          "output_type": "execute_result",
          "data": {
            "text/plain": [
              "<matplotlib.axes._subplots.AxesSubplot at 0x7f91ef153190>"
            ]
          },
          "metadata": {},
          "execution_count": 25
        },
        {
          "output_type": "display_data",
          "data": {
            "image/png": "[encoded data removed]",
            "text/plain": [
              "<Figure size 432x288 with 1 Axes>"
            ]
          },
          "metadata": {
            "needs_background": "light"
          }
        }
      ]
    },
    {
      "cell_type": "markdown",
      "metadata": {
        "id": "miQisQ5_g01p"
      },
      "source": [
        "Yes, both datasets are very balanced, which is good for classification"
      ]
    },
    {
      "cell_type": "markdown",
      "metadata": {
        "id": "88zIXfoxduJw"
      },
      "source": [
        "## Call tensor flow and keras\n",
        "\n",
        "As well as getting the version installed by default in colab. The seeds for both are set to 42, so that the results can be replicated."
      ]
    },
    {
      "cell_type": "code",
      "metadata": {
        "id": "G69g-x_WdqUJ"
      },
      "source": [
        "import tensorflow as tf"
      ],
      "execution_count": 26,
      "outputs": []
    },
    {
      "cell_type": "code",
      "metadata": {
        "id": "PDxpoH8xdqUO",
        "outputId": "1367f985-62a7-47a0-cb42-48192be8319d",
        "colab": {
          "base_uri": "https://localhost:8080/",
          "height": 35
        }
      },
      "source": [
        "tf.__version__"
      ],
      "execution_count": 27,
      "outputs": [
        {
          "output_type": "execute_result",
          "data": {
            "application/vnd.google.colaboratory.intrinsic+json": {
              "type": "string"
            },
            "text/plain": [
              "'2.6.0'"
            ]
          },
          "metadata": {},
          "execution_count": 27
        }
      ]
    },
    {
      "cell_type": "code",
      "metadata": {
        "id": "sbqqZcJ3dqUQ"
      },
      "source": [
        "from tensorflow import keras"
      ],
      "execution_count": 28,
      "outputs": []
    },
    {
      "cell_type": "code",
      "metadata": {
        "id": "gFA-xpbTdqUS",
        "outputId": "dd9cb7ab-4a4b-4098-80b5-edb64346af39",
        "colab": {
          "base_uri": "https://localhost:8080/",
          "height": 35
        }
      },
      "source": [
        "keras.__version__"
      ],
      "execution_count": 29,
      "outputs": [
        {
          "output_type": "execute_result",
          "data": {
            "application/vnd.google.colaboratory.intrinsic+json": {
              "type": "string"
            },
            "text/plain": [
              "'2.6.0'"
            ]
          },
          "metadata": {},
          "execution_count": 29
        }
      ]
    },
    {
      "cell_type": "code",
      "metadata": {
        "id": "yqJB5MPu9PZD"
      },
      "source": [
        "\n",
        "np.random.seed(42)\n",
        "tf.random.set_seed(42)"
      ],
      "execution_count": 30,
      "outputs": []
    },
    {
      "cell_type": "markdown",
      "metadata": {
        "id": "1OntXKMRdAOD"
      },
      "source": [
        "## OneHot Encode Target Variable For Classification\n"
      ]
    },
    {
      "cell_type": "code",
      "metadata": {
        "id": "p-SNU4sedWCG"
      },
      "source": [
        "from keras import utils as np_utils"
      ],
      "execution_count": 31,
      "outputs": []
    },
    {
      "cell_type": "code",
      "metadata": {
        "id": "7qdmQT__wxM2"
      },
      "source": [
        "y_tra = keras.utils.to_categorical(y_train, num_classes=None, dtype=\"float32\")"
      ],
      "execution_count": 32,
      "outputs": []
    },
    {
      "cell_type": "code",
      "metadata": {
        "id": "l28VmB5bxofQ"
      },
      "source": [
        "y_val = keras.utils.to_categorical(y_valid, num_classes=None, dtype=\"float32\")"
      ],
      "execution_count": 33,
      "outputs": []
    },
    {
      "cell_type": "code",
      "metadata": {
        "id": "oS7ZxOLvhOCk",
        "outputId": "1ab38f3e-7fbb-4bb1-fef7-9b96f6428076",
        "colab": {
          "base_uri": "https://localhost:8080/"
        }
      },
      "source": [
        "y_tra"
      ],
      "execution_count": 35,
      "outputs": [
        {
          "output_type": "execute_result",
          "data": {
            "text/plain": [
              "array([[0., 1.],\n",
              "       [1., 0.],\n",
              "       [1., 0.],\n",
              "       ...,\n",
              "       [1., 0.],\n",
              "       [0., 1.],\n",
              "       [0., 1.]], dtype=float32)"
            ]
          },
          "metadata": {},
          "execution_count": 35
        }
      ]
    },
    {
      "cell_type": "markdown",
      "metadata": {
        "id": "oWttierExx0y"
      },
      "source": [
        "Now we have created train, validate and test sets. target variable y is OneHot encoded. These are: (X_train, y_tra), (X-valid, y_val), (X_test, y_tes)"
      ]
    },
    {
      "cell_type": "code",
      "metadata": {
        "id": "231nF2w9KSm_"
      },
      "source": [
        "from keras.models import Sequential\n",
        "from keras.layers import Dense\n",
        "from keras.utils.vis_utils import plot_model"
      ],
      "execution_count": 36,
      "outputs": []
    },
    {
      "cell_type": "code",
      "metadata": {
        "id": "bF30ScDwKyfe",
        "outputId": "42bf98a7-199a-4f1a-fda5-7e834a344bab",
        "colab": {
          "base_uri": "https://localhost:8080/"
        }
      },
      "source": [
        "def create_baseline():\n",
        "    #Initializing Neural Network\n",
        "    classifier = Sequential()\n",
        "\n",
        "    ##Defining the architecture of ANN\n",
        "   \n",
        "    # First layer \n",
        "    classifier.add(Dense(units = 512, kernel_initializer = 'he_uniform', activation = 'relu', input_dim = 12))\n",
        "    \n",
        "    # Second layer\n",
        "    classifier.add(Dense(units= 128 , kernel_initializer = 'he_uniform', activation = 'relu'))\n",
        "    \n",
        "    classifier.add(Dense(units= 96, kernel_initializer = 'he_uniform', activation = 'relu'))\n",
        "    # Adding the output layer\n",
        "    classifier.add(Dense(units = 2, kernel_initializer = 'he_uniform', activation = 'softmax'))\n",
        "    \n",
        "   \n",
        "    # Compiling Neural Network\n",
        "    ## specifying optimizer \n",
        "    ## This is the metaparameter, specfiying the metaparameter , (adam is popular optimizer like SGD, and GD, \n",
        "    ## the binary_corssentropy is because it has 2 class)\n",
        "    \n",
        "    \n",
        "    # classifier.compile(optimizer = 'SGD', loss = 'binary_crossentropy', metrics = ['accuracy'])\n",
        "    classifier.compile(optimizer = 'SGD', loss = 'categorical_crossentropy', metrics = ['accuracy'])\n",
        "    return classifier\n",
        "\n",
        "model = create_baseline()\n",
        "print(model.summary())\n",
        "#plot_model(model, to_file='model_plot.png', show_shapes=True, show_layer_names=True)"
      ],
      "execution_count": 37,
      "outputs": [
        {
          "output_type": "stream",
          "name": "stdout",
          "text": [
            "Model: \"sequential\"\n",
            "_________________________________________________________________\n",
            "Layer (type)                 Output Shape              Param #   \n",
            "=================================================================\n",
            "dense (Dense)                (None, 512)               6656      \n",
            "_________________________________________________________________\n",
            "dense_1 (Dense)              (None, 128)               65664     \n",
            "_________________________________________________________________\n",
            "dense_2 (Dense)              (None, 96)                12384     \n",
            "_________________________________________________________________\n",
            "dense_3 (Dense)              (None, 2)                 194       \n",
            "=================================================================\n",
            "Total params: 84,898\n",
            "Trainable params: 84,898\n",
            "Non-trainable params: 0\n",
            "_________________________________________________________________\n",
            "None\n"
          ]
        }
      ]
    },
    {
      "cell_type": "markdown",
      "metadata": {
        "id": "PXxrbZnqMh6y"
      },
      "source": [
        "*   Because this is sequential, only in first layer that input dimension is specified, so the next layer will use it as input\n",
        "*   ReLU stands for rectified linear unit activation function\n",
        "*   'None' in the output shape is 'None' because the first dimension refers to batch size. In most situations, it will be redefined and not fixed, so it is ignored by the library.\n",
        "*   The calculation of param is shape * (input dimenstion + 1). For example, 512 * (12 + 1) = 6656. 128 * (512 + 1) = 65664.\n",
        "*   Compared to other activation functions, ReLU is computationally more efficient. It is almost like a linear function. It does not saturate and converges faster than other activation functions. The gradient is constant, which helps in the issue of vanishing gradient.\n",
        "*   Softmax is usually used in output layer to show the probabilities of each class."
      ]
    },
    {
      "cell_type": "code",
      "metadata": {
        "id": "2JpYm0pVLssw",
        "outputId": "61476e01-cc2b-422d-88ce-89b8f9d63ad5",
        "colab": {
          "base_uri": "https://localhost:8080/"
        }
      },
      "source": [
        "history = model.fit(X_train, y_tra, validation_data= (X_valid, y_val), epochs = 50,  batch_size = 32, verbose = 2)\n",
        "         "
      ],
      "execution_count": 38,
      "outputs": [
        {
          "output_type": "stream",
          "name": "stdout",
          "text": [
            "Epoch 1/50\n",
            "416/416 - 2s - loss: 1.1456 - accuracy: 0.7639 - val_loss: 0.4644 - val_accuracy: 0.7727\n",
            "Epoch 2/50\n",
            "416/416 - 1s - loss: 0.4589 - accuracy: 0.7941 - val_loss: 0.4682 - val_accuracy: 0.7962\n",
            "Epoch 3/50\n",
            "416/416 - 1s - loss: 0.4441 - accuracy: 0.8070 - val_loss: 0.4494 - val_accuracy: 0.8352\n",
            "Epoch 4/50\n",
            "416/416 - 1s - loss: 0.4329 - accuracy: 0.8319 - val_loss: 0.5169 - val_accuracy: 0.8064\n",
            "Epoch 5/50\n",
            "416/416 - 1s - loss: 0.4200 - accuracy: 0.8361 - val_loss: 0.4379 - val_accuracy: 0.7877\n",
            "Epoch 6/50\n",
            "416/416 - 1s - loss: 0.4205 - accuracy: 0.8290 - val_loss: 0.4760 - val_accuracy: 0.7922\n",
            "Epoch 7/50\n",
            "416/416 - 1s - loss: 0.4258 - accuracy: 0.8214 - val_loss: 0.4074 - val_accuracy: 0.8331\n",
            "Epoch 8/50\n",
            "416/416 - 1s - loss: 0.4036 - accuracy: 0.8419 - val_loss: 0.4148 - val_accuracy: 0.8241\n",
            "Epoch 9/50\n",
            "416/416 - 1s - loss: 0.4106 - accuracy: 0.8419 - val_loss: 0.4590 - val_accuracy: 0.8370\n",
            "Epoch 10/50\n",
            "416/416 - 1s - loss: 0.4028 - accuracy: 0.8423 - val_loss: 0.3931 - val_accuracy: 0.8416\n",
            "Epoch 11/50\n",
            "416/416 - 1s - loss: 0.4009 - accuracy: 0.8429 - val_loss: 0.3958 - val_accuracy: 0.8376\n",
            "Epoch 12/50\n",
            "416/416 - 1s - loss: 0.3910 - accuracy: 0.8417 - val_loss: 0.4391 - val_accuracy: 0.8422\n",
            "Epoch 13/50\n",
            "416/416 - 1s - loss: 0.3905 - accuracy: 0.8444 - val_loss: 0.3883 - val_accuracy: 0.8506\n",
            "Epoch 14/50\n",
            "416/416 - 1s - loss: 0.3863 - accuracy: 0.8432 - val_loss: 0.4285 - val_accuracy: 0.8292\n",
            "Epoch 15/50\n",
            "416/416 - 1s - loss: 0.3895 - accuracy: 0.8449 - val_loss: 0.4084 - val_accuracy: 0.8458\n",
            "Epoch 16/50\n",
            "416/416 - 1s - loss: 0.3882 - accuracy: 0.8416 - val_loss: 0.3835 - val_accuracy: 0.8388\n",
            "Epoch 17/50\n",
            "416/416 - 1s - loss: 0.3796 - accuracy: 0.8471 - val_loss: 0.4191 - val_accuracy: 0.8238\n",
            "Epoch 18/50\n",
            "416/416 - 1s - loss: 0.3793 - accuracy: 0.8491 - val_loss: 0.3956 - val_accuracy: 0.8280\n",
            "Epoch 19/50\n",
            "416/416 - 1s - loss: 0.3864 - accuracy: 0.8428 - val_loss: 0.3841 - val_accuracy: 0.8416\n",
            "Epoch 20/50\n",
            "416/416 - 1s - loss: 0.3780 - accuracy: 0.8445 - val_loss: 0.3878 - val_accuracy: 0.8506\n",
            "Epoch 21/50\n",
            "416/416 - 1s - loss: 0.3751 - accuracy: 0.8441 - val_loss: 0.3740 - val_accuracy: 0.8509\n",
            "Epoch 22/50\n",
            "416/416 - 1s - loss: 0.3774 - accuracy: 0.8462 - val_loss: 0.4235 - val_accuracy: 0.8004\n",
            "Epoch 23/50\n",
            "416/416 - 1s - loss: 0.3785 - accuracy: 0.8410 - val_loss: 0.3852 - val_accuracy: 0.8385\n",
            "Epoch 24/50\n",
            "416/416 - 1s - loss: 0.3691 - accuracy: 0.8494 - val_loss: 0.3830 - val_accuracy: 0.8434\n",
            "Epoch 25/50\n",
            "416/416 - 1s - loss: 0.3695 - accuracy: 0.8479 - val_loss: 0.3801 - val_accuracy: 0.8566\n",
            "Epoch 26/50\n",
            "416/416 - 1s - loss: 0.3731 - accuracy: 0.8441 - val_loss: 0.3906 - val_accuracy: 0.8328\n",
            "Epoch 27/50\n",
            "416/416 - 1s - loss: 0.3736 - accuracy: 0.8444 - val_loss: 0.3860 - val_accuracy: 0.8428\n",
            "Epoch 28/50\n",
            "416/416 - 1s - loss: 0.3678 - accuracy: 0.8456 - val_loss: 0.3730 - val_accuracy: 0.8464\n",
            "Epoch 29/50\n",
            "416/416 - 1s - loss: 0.3678 - accuracy: 0.8454 - val_loss: 0.3682 - val_accuracy: 0.8440\n",
            "Epoch 30/50\n",
            "416/416 - 1s - loss: 0.3640 - accuracy: 0.8529 - val_loss: 0.3696 - val_accuracy: 0.8524\n",
            "Epoch 31/50\n",
            "416/416 - 1s - loss: 0.3674 - accuracy: 0.8487 - val_loss: 0.3787 - val_accuracy: 0.8455\n",
            "Epoch 32/50\n",
            "416/416 - 1s - loss: 0.3617 - accuracy: 0.8491 - val_loss: 0.4109 - val_accuracy: 0.8289\n",
            "Epoch 33/50\n",
            "416/416 - 1s - loss: 0.3724 - accuracy: 0.8481 - val_loss: 0.3950 - val_accuracy: 0.8437\n",
            "Epoch 34/50\n",
            "416/416 - 1s - loss: 0.3630 - accuracy: 0.8522 - val_loss: 0.3893 - val_accuracy: 0.8283\n",
            "Epoch 35/50\n",
            "416/416 - 1s - loss: 0.3597 - accuracy: 0.8520 - val_loss: 0.3902 - val_accuracy: 0.8482\n",
            "Epoch 36/50\n",
            "416/416 - 1s - loss: 0.3625 - accuracy: 0.8491 - val_loss: 0.3733 - val_accuracy: 0.8452\n",
            "Epoch 37/50\n",
            "416/416 - 1s - loss: 0.3619 - accuracy: 0.8514 - val_loss: 0.3581 - val_accuracy: 0.8521\n",
            "Epoch 38/50\n",
            "416/416 - 1s - loss: 0.3637 - accuracy: 0.8496 - val_loss: 0.3712 - val_accuracy: 0.8470\n",
            "Epoch 39/50\n",
            "416/416 - 1s - loss: 0.3565 - accuracy: 0.8523 - val_loss: 0.3653 - val_accuracy: 0.8452\n",
            "Epoch 40/50\n",
            "416/416 - 1s - loss: 0.3559 - accuracy: 0.8492 - val_loss: 0.3658 - val_accuracy: 0.8416\n",
            "Epoch 41/50\n",
            "416/416 - 1s - loss: 0.3617 - accuracy: 0.8487 - val_loss: 0.3732 - val_accuracy: 0.8467\n",
            "Epoch 42/50\n",
            "416/416 - 1s - loss: 0.3686 - accuracy: 0.8429 - val_loss: 0.3670 - val_accuracy: 0.8446\n",
            "Epoch 43/50\n",
            "416/416 - 1s - loss: 0.3548 - accuracy: 0.8527 - val_loss: 0.3570 - val_accuracy: 0.8518\n",
            "Epoch 44/50\n",
            "416/416 - 1s - loss: 0.3543 - accuracy: 0.8505 - val_loss: 0.3772 - val_accuracy: 0.8440\n",
            "Epoch 45/50\n",
            "416/416 - 1s - loss: 0.3526 - accuracy: 0.8508 - val_loss: 0.3718 - val_accuracy: 0.8400\n",
            "Epoch 46/50\n",
            "416/416 - 1s - loss: 0.3529 - accuracy: 0.8526 - val_loss: 0.5286 - val_accuracy: 0.8214\n",
            "Epoch 47/50\n",
            "416/416 - 1s - loss: 0.3588 - accuracy: 0.8541 - val_loss: 0.3907 - val_accuracy: 0.8280\n",
            "Epoch 48/50\n",
            "416/416 - 1s - loss: 0.3518 - accuracy: 0.8538 - val_loss: 0.3640 - val_accuracy: 0.8509\n",
            "Epoch 49/50\n",
            "416/416 - 1s - loss: 0.3504 - accuracy: 0.8512 - val_loss: 0.3593 - val_accuracy: 0.8437\n",
            "Epoch 50/50\n",
            "416/416 - 1s - loss: 0.3577 - accuracy: 0.8493 - val_loss: 0.3558 - val_accuracy: 0.8554\n"
          ]
        }
      ]
    },
    {
      "cell_type": "markdown",
      "metadata": {
        "id": "UJKndDrkoiXH"
      },
      "source": [
        "At each epoch, loss and Accuracy are the current loss and accuracy of the training set. val_loss and val_acc are the loss and accuracy of the trained neural nets to the validation dataset."
      ]
    },
    {
      "cell_type": "code",
      "metadata": {
        "id": "pkqcDZ90rGAu",
        "outputId": "cb8f6b67-f4dc-489f-ad93-58daf8cf4dd8",
        "colab": {
          "base_uri": "https://localhost:8080/",
          "height": 295
        }
      },
      "source": [
        "# summarize history for accuracy\n",
        "plt.plot(history.history['accuracy'])\n",
        "plt.plot(history.history['val_accuracy'])\n",
        "plt.title('model accuracy')\n",
        "plt.ylabel('accuracy')\n",
        "plt.xlabel('epoch')\n",
        "plt.legend(['train', 'test'], loc='upper left')\n",
        "plt.show()\n"
      ],
      "execution_count": 42,
      "outputs": [
        {
          "output_type": "display_data",
          "data": {
            "image/png": "[encoded data removed]",
            "text/plain": [
              "<Figure size 432x288 with 1 Axes>"
            ]
          },
          "metadata": {
            "needs_background": "light"
          }
        }
      ]
    },
    {
      "cell_type": "markdown",
      "metadata": {
        "id": "Pt9KFaRhrZNm"
      },
      "source": [
        "There is not much increase in accuracy at higher epochs, so more epochs would not increase accuracy by much."
      ]
    },
    {
      "cell_type": "code",
      "metadata": {
        "id": "m-TIeUs4rHXu",
        "outputId": "4d1af807-90e8-49ee-f598-e552a0a7cf91",
        "colab": {
          "base_uri": "https://localhost:8080/",
          "height": 295
        }
      },
      "source": [
        "# summarize history for loss\n",
        "plt.plot(history.history['loss'])\n",
        "plt.plot(history.history['val_loss'])\n",
        "plt.title('model loss')\n",
        "plt.ylabel('loss')\n",
        "plt.xlabel('epoch')\n",
        "plt.legend(['train', 'test'], loc='upper left')\n",
        "plt.show()"
      ],
      "execution_count": 43,
      "outputs": [
        {
          "output_type": "display_data",
          "data": {
            "image/png": "[encoded data removed]",
            "text/plain": [
              "<Figure size 432x288 with 1 Axes>"
            ]
          },
          "metadata": {
            "needs_background": "light"
          }
        }
      ]
    },
    {
      "cell_type": "markdown",
      "metadata": {
        "id": "EBp_eZKxrwd2"
      },
      "source": [
        "At higher epochs, the decrease in losses is not much as well, so more epochs will result in little decrease in losses."
      ]
    },
    {
      "cell_type": "code",
      "metadata": {
        "id": "p8w9OGqxSNvc",
        "outputId": "1d11956b-69ce-476c-9453-b748203be547",
        "colab": {
          "base_uri": "https://localhost:8080/",
          "height": 324
        }
      },
      "source": [
        "\n",
        "pd.DataFrame(history.history).plot(figsize=(8, 5))\n",
        "plt.grid(True)\n",
        "plt.gca().set_ylim(0, 1)\n",
        "plt.show()"
      ],
      "execution_count": 39,
      "outputs": [
        {
          "output_type": "display_data",
          "data": {
            "image/png": "[encoded data removed]",
            "text/plain": [
              "<Figure size 576x360 with 1 Axes>"
            ]
          },
          "metadata": {
            "needs_background": "light"
          }
        }
      ]
    },
    {
      "cell_type": "code",
      "metadata": {
        "id": "YaurynCStcPr",
        "outputId": "61b0de1f-0818-49b1-88c4-4941c5485109",
        "colab": {
          "base_uri": "https://localhost:8080/",
          "height": 324
        }
      },
      "source": [
        "pd.DataFrame(history.history).plot(figsize=(8, 5))\n",
        "plt.grid(True)\n",
        "plt.gca().set_ylim(0, 1)\n",
        "# plt.savefig ('/content/drive/My Drive/Colab Notebooks/output.png')\n",
        "plt.show()"
      ],
      "execution_count": 41,
      "outputs": [
        {
          "output_type": "display_data",
          "data": {
            "image/png": "[encoded data removed]",
            "text/plain": [
              "<Figure size 576x360 with 1 Axes>"
            ]
          },
          "metadata": {
            "needs_background": "light"
          }
        }
      ]
    },
    {
      "cell_type": "markdown",
      "metadata": {
        "id": "oSwfxbiRgwuw"
      },
      "source": [
        "## Tasks\n",
        "1. Compare and comment on the results of Lab2.0 and Lab2.0a. \n",
        "2. Create two other network architectures of your choice. Build and compare results among these architectures.\n",
        "3. Change validation parameters: Optimizer, Epochs. Repeat with Steps 1 and 2\n",
        "\n"
      ]
    },
    {
      "cell_type": "markdown",
      "metadata": {
        "id": "rUpJBx0SXgR1"
      },
      "source": [
        "Explore this command:\n",
        "keras.backend.clear_session()"
      ]
    },
    {
      "cell_type": "markdown",
      "metadata": {
        "id": "iWvZBEOeXjVe"
      },
      "source": [
        "Memory used will be increased at a global state, especially if models are created in for loop. This command avoids cluttering from old models."
      ]
    },
    {
      "cell_type": "code",
      "metadata": {
        "id": "NvzFpKDgsW1W"
      },
      "source": [
        "tf.keras.backend.clear_session()"
      ],
      "execution_count": 44,
      "outputs": []
    }
  ]
}