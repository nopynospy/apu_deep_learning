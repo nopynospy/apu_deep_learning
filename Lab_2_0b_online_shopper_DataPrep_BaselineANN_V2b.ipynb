{
  "nbformat": 4,
  "nbformat_minor": 0,
  "metadata": {
    "colab": {
      "name": "Lab 2.0b-online shopper-DataPrep-BaselineANN_V2.ipynb",
      "provenance": [],
      "collapsed_sections": []
    },
    "kernelspec": {
      "name": "python3",
      "display_name": "Python 3"
    },
    "accelerator": "GPU"
  },
  "cells": [
    {
      "cell_type": "markdown",
      "metadata": {
        "id": "AuZvEqEG72hd"
      },
      "source": [
        "# Online Shopper-Baseline + External train-valid split"
      ]
    },
    {
      "cell_type": "markdown",
      "metadata": {
        "id": "fxXoCC7z8yrA"
      },
      "source": [
        "This is a preprocessed dataset. Some of the variables are dropped. All variables are converted to numeric. Revenue is the target variable. It is a factorial varible converted to numeric. This is a classification problem.\n"
      ]
    },
    {
      "cell_type": "code",
      "metadata": {
        "id": "GwKjjRksjUb3"
      },
      "source": [
        "import pandas as pd\n",
        "import numpy as np\n",
        "pd.set_option('display.max_rows', 500)\n",
        "pd.set_option('display.max_columns', 500)\n",
        "pd.set_option('display.width', 1000)\n",
        "\n"
      ],
      "execution_count": null,
      "outputs": []
    },
    {
      "cell_type": "code",
      "metadata": {
        "id": "CunITUivkQMJ"
      },
      "source": [
        "train_full = pd.read_csv('/content/drive/My Drive/Colab Notebooks/Data/online shop_train.csv')"
      ],
      "execution_count": null,
      "outputs": []
    },
    {
      "cell_type": "code",
      "metadata": {
        "id": "uG-5Q6Lwmdn2"
      },
      "source": [
        "test = pd.read_csv('/content/drive/My Drive/Colab Notebooks/Data/online shop_test.csv')"
      ],
      "execution_count": null,
      "outputs": []
    },
    {
      "cell_type": "code",
      "metadata": {
        "id": "lBBpaut3jzPH"
      },
      "source": [
        "train_full.shape"
      ],
      "execution_count": null,
      "outputs": []
    },
    {
      "cell_type": "code",
      "metadata": {
        "id": "6JABmSiUnm9B"
      },
      "source": [
        "test.shape"
      ],
      "execution_count": null,
      "outputs": []
    },
    {
      "cell_type": "code",
      "metadata": {
        "id": "I-FBqjngnuR_"
      },
      "source": [
        "train_full.head()"
      ],
      "execution_count": null,
      "outputs": []
    },
    {
      "cell_type": "code",
      "metadata": {
        "id": "jS0VZuN_oL9_"
      },
      "source": [
        "train_full.describe()"
      ],
      "execution_count": null,
      "outputs": []
    },
    {
      "cell_type": "code",
      "metadata": {
        "id": "vI_0NE9hoXKK"
      },
      "source": [
        "train_full.info()"
      ],
      "execution_count": null,
      "outputs": []
    },
    {
      "cell_type": "code",
      "metadata": {
        "id": "tv8JD-IpOf27"
      },
      "source": [
        "train_full.VisitorType0 = train_full.VisitorType0.astype(int)\n",
        "train_full.VisitorType1 = train_full.VisitorType0.astype(int)"
      ],
      "execution_count": null,
      "outputs": []
    },
    {
      "cell_type": "markdown",
      "metadata": {
        "id": "YtlWMTD7YLbG"
      },
      "source": [
        ""
      ]
    },
    {
      "cell_type": "code",
      "metadata": {
        "id": "ggo3yuGwslJp"
      },
      "source": [
        "import seaborn as sns"
      ],
      "execution_count": null,
      "outputs": []
    },
    {
      "cell_type": "code",
      "metadata": {
        "id": "p0WwJMWcpAr2"
      },
      "source": [
        "\n",
        "sns.countplot(train_full['Revenue'], palette='BuPu')"
      ],
      "execution_count": null,
      "outputs": []
    },
    {
      "cell_type": "markdown",
      "metadata": {
        "id": "89nwcnPM8aTT"
      },
      "source": [
        "This is a balanced dataset"
      ]
    },
    {
      "cell_type": "code",
      "metadata": {
        "id": "XGInnm2IpRVQ"
      },
      "source": [
        "import matplotlib.pyplot as plt"
      ],
      "execution_count": null,
      "outputs": []
    },
    {
      "cell_type": "code",
      "metadata": {
        "id": "XitNfFD7qAOm"
      },
      "source": [
        "plt.figure(figsize = (20,20))\n",
        "g = sns.heatmap(train_full.corr(),annot=True, cmap = 'BuPu')"
      ],
      "execution_count": null,
      "outputs": []
    },
    {
      "cell_type": "markdown",
      "metadata": {
        "id": "-PxVOIdS9yJt"
      },
      "source": [
        "Comment: Revenue has maximum correlation with PageValues\n"
      ]
    },
    {
      "cell_type": "markdown",
      "metadata": {
        "id": "EBZMB15t7zHS"
      },
      "source": [
        "## Split train_full data into train and validation datasets using Sklearn"
      ]
    },
    {
      "cell_type": "code",
      "metadata": {
        "id": "Vl8zdbJPCbLZ"
      },
      "source": [
        "from sklearn.model_selection import train_test_split\n"
      ],
      "execution_count": null,
      "outputs": []
    },
    {
      "cell_type": "code",
      "metadata": {
        "id": "UnoRy3cZDiRi"
      },
      "source": [
        "train, valid = train_test_split (train_full, test_size = 0.2, random_state = 0)"
      ],
      "execution_count": null,
      "outputs": []
    },
    {
      "cell_type": "code",
      "metadata": {
        "id": "5vLReUJGEiEZ"
      },
      "source": [
        "train.shape"
      ],
      "execution_count": null,
      "outputs": []
    },
    {
      "cell_type": "code",
      "metadata": {
        "id": "BhADlJkQERni"
      },
      "source": [
        "valid.shape"
      ],
      "execution_count": null,
      "outputs": []
    },
    {
      "cell_type": "code",
      "metadata": {
        "id": "KQ2_4rZiFXpr"
      },
      "source": [
        "X_train = train.iloc[:,:-1]\n",
        "y_train = train.iloc[:,-1]"
      ],
      "execution_count": null,
      "outputs": []
    },
    {
      "cell_type": "code",
      "metadata": {
        "id": "_8W0ngntFS9B"
      },
      "source": [
        "X_valid = valid.iloc[:,:-1]\n",
        "y_valid = valid.iloc[:,-1]"
      ],
      "execution_count": null,
      "outputs": []
    },
    {
      "cell_type": "code",
      "metadata": {
        "id": "PEXZyB2FC-FT"
      },
      "source": [
        "X_train.shape"
      ],
      "execution_count": null,
      "outputs": []
    },
    {
      "cell_type": "code",
      "metadata": {
        "id": "RSsTbhHxDEmq"
      },
      "source": [
        "X_valid.shape"
      ],
      "execution_count": null,
      "outputs": []
    },
    {
      "cell_type": "markdown",
      "metadata": {
        "id": "wdW0sEj1eHR-"
      },
      "source": [
        "### For your dataset, include code to check the balance of train and valid data"
      ]
    },
    {
      "cell_type": "markdown",
      "metadata": {
        "id": "88zIXfoxduJw"
      },
      "source": [
        "## Call tensor flow and keras\n"
      ]
    },
    {
      "cell_type": "code",
      "metadata": {
        "id": "G69g-x_WdqUJ"
      },
      "source": [
        "import tensorflow as tf"
      ],
      "execution_count": null,
      "outputs": []
    },
    {
      "cell_type": "code",
      "metadata": {
        "id": "PDxpoH8xdqUO"
      },
      "source": [
        "tf.__version__"
      ],
      "execution_count": null,
      "outputs": []
    },
    {
      "cell_type": "code",
      "metadata": {
        "id": "sbqqZcJ3dqUQ"
      },
      "source": [
        "from tensorflow import keras"
      ],
      "execution_count": null,
      "outputs": []
    },
    {
      "cell_type": "code",
      "metadata": {
        "id": "gFA-xpbTdqUS"
      },
      "source": [
        "keras.__version__"
      ],
      "execution_count": null,
      "outputs": []
    },
    {
      "cell_type": "code",
      "metadata": {
        "id": "yqJB5MPu9PZD"
      },
      "source": [
        "\n",
        "np.random.seed(42)\n",
        "tf.random.set_seed(42)"
      ],
      "execution_count": null,
      "outputs": []
    },
    {
      "cell_type": "markdown",
      "metadata": {
        "id": "1OntXKMRdAOD"
      },
      "source": [
        "## OneHot Encode Target Variable For Classification\n"
      ]
    },
    {
      "cell_type": "code",
      "metadata": {
        "id": "p-SNU4sedWCG"
      },
      "source": [
        "from keras import utils as np_utils"
      ],
      "execution_count": null,
      "outputs": []
    },
    {
      "cell_type": "code",
      "metadata": {
        "id": "7qdmQT__wxM2"
      },
      "source": [
        "y_tra = keras.utils.to_categorical(y_train, num_classes=None, dtype=\"float32\")"
      ],
      "execution_count": null,
      "outputs": []
    },
    {
      "cell_type": "code",
      "metadata": {
        "id": "l28VmB5bxofQ"
      },
      "source": [
        "y_val = keras.utils.to_categorical(y_valid, num_classes=None, dtype=\"float32\")"
      ],
      "execution_count": null,
      "outputs": []
    },
    {
      "cell_type": "markdown",
      "metadata": {
        "id": "oWttierExx0y"
      },
      "source": [
        "Now we have created train, validate and test sets. target variable y is OneHot encoded. These are: (X_train, y_tra), (X-valid, y_val), (X_test, y_tes)"
      ]
    },
    {
      "cell_type": "code",
      "metadata": {
        "id": "231nF2w9KSm_"
      },
      "source": [
        "from keras.models import Sequential\n",
        "from keras.layers import Dense\n",
        "from keras.utils.vis_utils import plot_model"
      ],
      "execution_count": null,
      "outputs": []
    },
    {
      "cell_type": "code",
      "metadata": {
        "id": "bF30ScDwKyfe"
      },
      "source": [
        "def create_baseline():\n",
        "    #Initializing Neural Network\n",
        "    classifier = Sequential()\n",
        "\n",
        "    ##Defining the architecture of ANN\n",
        "   \n",
        "    # First layer \n",
        "    classifier.add(Dense(units = 512, kernel_initializer = 'he_uniform', activation = 'relu', input_dim = 12))\n",
        "    \n",
        "    \n",
        "    # Second layer\n",
        "    classifier.add(Dense(units= 128 , kernel_initializer = 'he_uniform', activation = 'relu'))\n",
        "    \n",
        "    classifier.add(Dense(units= 96, kernel_initializer = 'he_uniform', activation = 'relu'))\n",
        "    # Adding the output layer\n",
        "    classifier.add(Dense(units = 2, kernel_initializer = 'he_uniform', activation = 'softmax'))\n",
        "    \n",
        "   \n",
        "    # Compiling Neural Network\n",
        "    ## specifying optimizer \n",
        "    ## This is the metaparameter, specfiying the metaparameter , (adam is popular optimizer like SGD, and GD, \n",
        "    ## the binary_corssentropy is because it has 2 class)\n",
        "    \n",
        "    \n",
        "    # classifier.compile(optimizer = 'SGD', loss = 'binary_crossentropy', metrics = ['accuracy'])\n",
        "    classifier.compile(optimizer = 'SGD', loss = 'categorical_crossentropy', metrics = ['accuracy'])\n",
        "    return classifier\n",
        "\n",
        "model = create_baseline()\n",
        "print(model.summary())\n",
        "#plot_model(model, to_file='model_plot.png', show_shapes=True, show_layer_names=True)"
      ],
      "execution_count": null,
      "outputs": []
    },
    {
      "cell_type": "markdown",
      "metadata": {
        "id": "PXxrbZnqMh6y"
      },
      "source": [
        ""
      ]
    },
    {
      "cell_type": "code",
      "metadata": {
        "id": "2JpYm0pVLssw"
      },
      "source": [
        "history = model.fit(X_train, y_tra, validation_data= (X_valid, y_val), epochs = 50,  batch_size = 32, verbose = 2)\n",
        "         "
      ],
      "execution_count": null,
      "outputs": []
    },
    {
      "cell_type": "code",
      "metadata": {
        "id": "p8w9OGqxSNvc"
      },
      "source": [
        "\n",
        "pd.DataFrame(history.history).plot(figsize=(8, 5))\n",
        "plt.grid(True)\n",
        "plt.gca().set_ylim(0, 1)\n",
        "plt.show()"
      ],
      "execution_count": null,
      "outputs": []
    },
    {
      "cell_type": "code",
      "metadata": {
        "id": "YaurynCStcPr"
      },
      "source": [
        "pd.DataFrame(history.history).plot(figsize=(8, 5))\n",
        "plt.grid(True)\n",
        "plt.gca().set_ylim(0, 1)\n",
        "plt.savefig ('/content/drive/My Drive/Colab Notebooks/output.png')\n",
        "plt.show()"
      ],
      "execution_count": null,
      "outputs": []
    },
    {
      "cell_type": "markdown",
      "metadata": {
        "id": "oSwfxbiRgwuw"
      },
      "source": [
        "## Tasks\n",
        "1. Compare and comment on the results of Lab2.0 and Lab2.0a. \n",
        "2. Create two other network architectures of your choice. Build and compare results among these architectures.\n",
        "3. Change validation parameters: Optimizer, Epochs. Repeat with Steps 1 and 2\n",
        "\n"
      ]
    },
    {
      "cell_type": "markdown",
      "metadata": {
        "id": "rUpJBx0SXgR1"
      },
      "source": [
        "Explore this command:\n",
        "keras.backend.clear_session()"
      ]
    },
    {
      "cell_type": "markdown",
      "metadata": {
        "id": "iWvZBEOeXjVe"
      },
      "source": [
        ""
      ]
    }
  ]
}