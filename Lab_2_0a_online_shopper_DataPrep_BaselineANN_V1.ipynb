{
  "nbformat": 4,
  "nbformat_minor": 0,
  "metadata": {
    "colab": {
      "name": "Lab 2.0a-online shopper-DataPrep-BaselineANN_V1.ipynb",
      "provenance": [],
      "collapsed_sections": []
    },
    "kernelspec": {
      "name": "python3",
      "display_name": "Python 3"
    }
  },
  "cells": [
    {
      "cell_type": "markdown",
      "metadata": {
        "id": "AuZvEqEG72hd"
      },
      "source": [
        "# Online Shopper Data Preparation"
      ]
    },
    {
      "cell_type": "code",
      "metadata": {
        "id": "sib3hD3WLAha"
      },
      "source": [
        "from google.colab import drive\n",
        "drive.mount('/content/drive')"
      ],
      "execution_count": null,
      "outputs": []
    },
    {
      "cell_type": "markdown",
      "metadata": {
        "id": "fxXoCC7z8yrA"
      },
      "source": [
        "This is a preprocessed dataset. Some of the variables are dropped. All variables are converted to numeric. Revenue is the target variable. It is a factorial varible converted to numeric. This is a classification problem.\n",
        "\n",
        "\n",
        "\n",
        "\n"
      ]
    },
    {
      "cell_type": "code",
      "metadata": {
        "id": "GwKjjRksjUb3"
      },
      "source": [
        "import pandas as pd\n",
        "import numpy as np\n",
        "pd.set_option('display.max_rows', 50) # ...\n",
        "pd.set_option('display.max_columns', 100) # This instruction is for...\n",
        "pd.set_option('display.width', 1000)\n",
        "\n"
      ],
      "execution_count": null,
      "outputs": []
    },
    {
      "cell_type": "code",
      "metadata": {
        "id": "CunITUivkQMJ"
      },
      "source": [
        "train_full = pd.read_csv('/content/drive/My Drive/Colab Notebooks/Data/online shop_train.csv')"
      ],
      "execution_count": null,
      "outputs": []
    },
    {
      "cell_type": "code",
      "metadata": {
        "id": "uG-5Q6Lwmdn2"
      },
      "source": [
        "test = pd.read_csv('/content/drive/My Drive/Colab Notebooks/Data/online shop_test.csv')"
      ],
      "execution_count": null,
      "outputs": []
    },
    {
      "cell_type": "code",
      "metadata": {
        "id": "lBBpaut3jzPH",
        "colab": {
          "base_uri": "https://localhost:8080/"
        },
        "outputId": "f07a3345-a7ad-4a27-a8fb-1ca88185271c"
      },
      "source": [
        "train_full.shape"
      ],
      "execution_count": null,
      "outputs": [
        {
          "output_type": "execute_result",
          "data": {
            "text/plain": [
              "(16626, 13)"
            ]
          },
          "metadata": {},
          "execution_count": 4
        }
      ]
    },
    {
      "cell_type": "code",
      "metadata": {
        "id": "6JABmSiUnm9B",
        "colab": {
          "base_uri": "https://localhost:8080/"
        },
        "outputId": "4a18f043-660d-4308-a012-27b18b7ecd67"
      },
      "source": [
        "test.shape"
      ],
      "execution_count": null,
      "outputs": [
        {
          "output_type": "execute_result",
          "data": {
            "text/plain": [
              "(2466, 13)"
            ]
          },
          "metadata": {},
          "execution_count": 5
        }
      ]
    },
    {
      "cell_type": "code",
      "metadata": {
        "id": "I-FBqjngnuR_",
        "colab": {
          "base_uri": "https://localhost:8080/",
          "height": 224
        },
        "outputId": "48867f8a-5bb4-4dc4-b884-7a5bf36cfca7"
      },
      "source": [
        "train_full.head()"
      ],
      "execution_count": null,
      "outputs": [
        {
          "output_type": "execute_result",
          "data": {
            "text/html": [
              "<div>\n",
              "<style scoped>\n",
              "    .dataframe tbody tr th:only-of-type {\n",
              "        vertical-align: middle;\n",
              "    }\n",
              "\n",
              "    .dataframe tbody tr th {\n",
              "        vertical-align: top;\n",
              "    }\n",
              "\n",
              "    .dataframe thead th {\n",
              "        text-align: right;\n",
              "    }\n",
              "</style>\n",
              "<table border=\"1\" class=\"dataframe\">\n",
              "  <thead>\n",
              "    <tr style=\"text-align: right;\">\n",
              "      <th></th>\n",
              "      <th>Administrative</th>\n",
              "      <th>Informational</th>\n",
              "      <th>ProductRelated</th>\n",
              "      <th>ExitRates</th>\n",
              "      <th>PageValues</th>\n",
              "      <th>SpecialDay</th>\n",
              "      <th>Month</th>\n",
              "      <th>Region</th>\n",
              "      <th>TrafficType</th>\n",
              "      <th>VisitorType0</th>\n",
              "      <th>VisitorType1</th>\n",
              "      <th>Weekend</th>\n",
              "      <th>Revenue</th>\n",
              "    </tr>\n",
              "  </thead>\n",
              "  <tbody>\n",
              "    <tr>\n",
              "      <th>0</th>\n",
              "      <td>0</td>\n",
              "      <td>0</td>\n",
              "      <td>12</td>\n",
              "      <td>0.069444</td>\n",
              "      <td>0.000000</td>\n",
              "      <td>0.8</td>\n",
              "      <td>5</td>\n",
              "      <td>2</td>\n",
              "      <td>2</td>\n",
              "      <td>0.0</td>\n",
              "      <td>1.0</td>\n",
              "      <td>0</td>\n",
              "      <td>0</td>\n",
              "    </tr>\n",
              "    <tr>\n",
              "      <th>1</th>\n",
              "      <td>0</td>\n",
              "      <td>0</td>\n",
              "      <td>44</td>\n",
              "      <td>0.032143</td>\n",
              "      <td>0.000000</td>\n",
              "      <td>0.0</td>\n",
              "      <td>12</td>\n",
              "      <td>1</td>\n",
              "      <td>1</td>\n",
              "      <td>0.0</td>\n",
              "      <td>1.0</td>\n",
              "      <td>0</td>\n",
              "      <td>0</td>\n",
              "    </tr>\n",
              "    <tr>\n",
              "      <th>2</th>\n",
              "      <td>2</td>\n",
              "      <td>0</td>\n",
              "      <td>7</td>\n",
              "      <td>0.011111</td>\n",
              "      <td>0.000000</td>\n",
              "      <td>0.0</td>\n",
              "      <td>3</td>\n",
              "      <td>8</td>\n",
              "      <td>2</td>\n",
              "      <td>0.0</td>\n",
              "      <td>0.0</td>\n",
              "      <td>0</td>\n",
              "      <td>0</td>\n",
              "    </tr>\n",
              "    <tr>\n",
              "      <th>3</th>\n",
              "      <td>3</td>\n",
              "      <td>0</td>\n",
              "      <td>37</td>\n",
              "      <td>0.004274</td>\n",
              "      <td>47.931282</td>\n",
              "      <td>0.0</td>\n",
              "      <td>5</td>\n",
              "      <td>3</td>\n",
              "      <td>2</td>\n",
              "      <td>0.0</td>\n",
              "      <td>0.0</td>\n",
              "      <td>1</td>\n",
              "      <td>1</td>\n",
              "    </tr>\n",
              "    <tr>\n",
              "      <th>4</th>\n",
              "      <td>0</td>\n",
              "      <td>0</td>\n",
              "      <td>1</td>\n",
              "      <td>0.200000</td>\n",
              "      <td>0.000000</td>\n",
              "      <td>0.0</td>\n",
              "      <td>5</td>\n",
              "      <td>3</td>\n",
              "      <td>3</td>\n",
              "      <td>0.0</td>\n",
              "      <td>1.0</td>\n",
              "      <td>1</td>\n",
              "      <td>0</td>\n",
              "    </tr>\n",
              "  </tbody>\n",
              "</table>\n",
              "</div>"
            ],
            "text/plain": [
              "   Administrative  Informational  ProductRelated  ExitRates  PageValues  SpecialDay  Month  Region  TrafficType  VisitorType0  VisitorType1  Weekend  Revenue\n",
              "0               0              0              12   0.069444    0.000000         0.8      5       2            2           0.0           1.0        0        0\n",
              "1               0              0              44   0.032143    0.000000         0.0     12       1            1           0.0           1.0        0        0\n",
              "2               2              0               7   0.011111    0.000000         0.0      3       8            2           0.0           0.0        0        0\n",
              "3               3              0              37   0.004274   47.931282         0.0      5       3            2           0.0           0.0        1        1\n",
              "4               0              0               1   0.200000    0.000000         0.0      5       3            3           0.0           1.0        1        0"
            ]
          },
          "metadata": {},
          "execution_count": 6
        }
      ]
    },
    {
      "cell_type": "code",
      "metadata": {
        "id": "jS0VZuN_oL9_",
        "colab": {
          "base_uri": "https://localhost:8080/",
          "height": 317
        },
        "outputId": "2fa0d410-593f-4702-88f3-7a5f9cb69c5f"
      },
      "source": [
        "train_full.describe()"
      ],
      "execution_count": null,
      "outputs": [
        {
          "output_type": "execute_result",
          "data": {
            "text/html": [
              "<div>\n",
              "<style scoped>\n",
              "    .dataframe tbody tr th:only-of-type {\n",
              "        vertical-align: middle;\n",
              "    }\n",
              "\n",
              "    .dataframe tbody tr th {\n",
              "        vertical-align: top;\n",
              "    }\n",
              "\n",
              "    .dataframe thead th {\n",
              "        text-align: right;\n",
              "    }\n",
              "</style>\n",
              "<table border=\"1\" class=\"dataframe\">\n",
              "  <thead>\n",
              "    <tr style=\"text-align: right;\">\n",
              "      <th></th>\n",
              "      <th>Administrative</th>\n",
              "      <th>Informational</th>\n",
              "      <th>ProductRelated</th>\n",
              "      <th>ExitRates</th>\n",
              "      <th>PageValues</th>\n",
              "      <th>SpecialDay</th>\n",
              "      <th>Month</th>\n",
              "      <th>Region</th>\n",
              "      <th>TrafficType</th>\n",
              "      <th>VisitorType0</th>\n",
              "      <th>VisitorType1</th>\n",
              "      <th>Weekend</th>\n",
              "      <th>Revenue</th>\n",
              "    </tr>\n",
              "  </thead>\n",
              "  <tbody>\n",
              "    <tr>\n",
              "      <th>count</th>\n",
              "      <td>16626.000000</td>\n",
              "      <td>16626.000000</td>\n",
              "      <td>16626.000000</td>\n",
              "      <td>16626.000000</td>\n",
              "      <td>16626.000000</td>\n",
              "      <td>16626.000000</td>\n",
              "      <td>16626.000000</td>\n",
              "      <td>16626.000000</td>\n",
              "      <td>16626.000000</td>\n",
              "      <td>16626.000000</td>\n",
              "      <td>16626.00000</td>\n",
              "      <td>16626.000000</td>\n",
              "      <td>16626.000000</td>\n",
              "    </tr>\n",
              "    <tr>\n",
              "      <th>mean</th>\n",
              "      <td>2.297907</td>\n",
              "      <td>0.457296</td>\n",
              "      <td>37.823950</td>\n",
              "      <td>0.033312</td>\n",
              "      <td>14.074354</td>\n",
              "      <td>0.038374</td>\n",
              "      <td>8.129737</td>\n",
              "      <td>2.838807</td>\n",
              "      <td>3.556358</td>\n",
              "      <td>0.004451</td>\n",
              "      <td>0.82359</td>\n",
              "      <td>0.238181</td>\n",
              "      <td>0.500000</td>\n",
              "    </tr>\n",
              "    <tr>\n",
              "      <th>std</th>\n",
              "      <td>3.168297</td>\n",
              "      <td>1.160715</td>\n",
              "      <td>50.922376</td>\n",
              "      <td>0.040125</td>\n",
              "      <td>27.136885</td>\n",
              "      <td>0.159034</td>\n",
              "      <td>3.354549</td>\n",
              "      <td>2.277844</td>\n",
              "      <td>3.514761</td>\n",
              "      <td>0.066568</td>\n",
              "      <td>0.38118</td>\n",
              "      <td>0.425983</td>\n",
              "      <td>0.500015</td>\n",
              "    </tr>\n",
              "    <tr>\n",
              "      <th>min</th>\n",
              "      <td>0.000000</td>\n",
              "      <td>0.000000</td>\n",
              "      <td>0.000000</td>\n",
              "      <td>0.000000</td>\n",
              "      <td>0.000000</td>\n",
              "      <td>0.000000</td>\n",
              "      <td>2.000000</td>\n",
              "      <td>1.000000</td>\n",
              "      <td>1.000000</td>\n",
              "      <td>0.000000</td>\n",
              "      <td>0.00000</td>\n",
              "      <td>0.000000</td>\n",
              "      <td>0.000000</td>\n",
              "    </tr>\n",
              "    <tr>\n",
              "      <th>25%</th>\n",
              "      <td>0.000000</td>\n",
              "      <td>0.000000</td>\n",
              "      <td>10.000000</td>\n",
              "      <td>0.012372</td>\n",
              "      <td>0.000000</td>\n",
              "      <td>0.000000</td>\n",
              "      <td>5.000000</td>\n",
              "      <td>1.000000</td>\n",
              "      <td>2.000000</td>\n",
              "      <td>0.000000</td>\n",
              "      <td>1.00000</td>\n",
              "      <td>0.000000</td>\n",
              "      <td>0.000000</td>\n",
              "    </tr>\n",
              "    <tr>\n",
              "      <th>50%</th>\n",
              "      <td>1.000000</td>\n",
              "      <td>0.000000</td>\n",
              "      <td>21.000000</td>\n",
              "      <td>0.020534</td>\n",
              "      <td>0.000000</td>\n",
              "      <td>0.000000</td>\n",
              "      <td>10.000000</td>\n",
              "      <td>2.000000</td>\n",
              "      <td>2.000000</td>\n",
              "      <td>0.000000</td>\n",
              "      <td>1.00000</td>\n",
              "      <td>0.000000</td>\n",
              "      <td>0.500000</td>\n",
              "    </tr>\n",
              "    <tr>\n",
              "      <th>75%</th>\n",
              "      <td>4.000000</td>\n",
              "      <td>0.000000</td>\n",
              "      <td>44.000000</td>\n",
              "      <td>0.035150</td>\n",
              "      <td>17.857937</td>\n",
              "      <td>0.000000</td>\n",
              "      <td>11.000000</td>\n",
              "      <td>4.000000</td>\n",
              "      <td>4.000000</td>\n",
              "      <td>0.000000</td>\n",
              "      <td>1.00000</td>\n",
              "      <td>0.000000</td>\n",
              "      <td>1.000000</td>\n",
              "    </tr>\n",
              "    <tr>\n",
              "      <th>max</th>\n",
              "      <td>27.000000</td>\n",
              "      <td>24.000000</td>\n",
              "      <td>705.000000</td>\n",
              "      <td>0.200000</td>\n",
              "      <td>361.763742</td>\n",
              "      <td>1.000000</td>\n",
              "      <td>12.000000</td>\n",
              "      <td>9.000000</td>\n",
              "      <td>20.000000</td>\n",
              "      <td>1.000000</td>\n",
              "      <td>1.00000</td>\n",
              "      <td>1.000000</td>\n",
              "      <td>1.000000</td>\n",
              "    </tr>\n",
              "  </tbody>\n",
              "</table>\n",
              "</div>"
            ],
            "text/plain": [
              "       Administrative  Informational  ProductRelated     ExitRates    PageValues    SpecialDay         Month        Region   TrafficType  VisitorType0  VisitorType1       Weekend       Revenue\n",
              "count    16626.000000   16626.000000    16626.000000  16626.000000  16626.000000  16626.000000  16626.000000  16626.000000  16626.000000  16626.000000   16626.00000  16626.000000  16626.000000\n",
              "mean         2.297907       0.457296       37.823950      0.033312     14.074354      0.038374      8.129737      2.838807      3.556358      0.004451       0.82359      0.238181      0.500000\n",
              "std          3.168297       1.160715       50.922376      0.040125     27.136885      0.159034      3.354549      2.277844      3.514761      0.066568       0.38118      0.425983      0.500015\n",
              "min          0.000000       0.000000        0.000000      0.000000      0.000000      0.000000      2.000000      1.000000      1.000000      0.000000       0.00000      0.000000      0.000000\n",
              "25%          0.000000       0.000000       10.000000      0.012372      0.000000      0.000000      5.000000      1.000000      2.000000      0.000000       1.00000      0.000000      0.000000\n",
              "50%          1.000000       0.000000       21.000000      0.020534      0.000000      0.000000     10.000000      2.000000      2.000000      0.000000       1.00000      0.000000      0.500000\n",
              "75%          4.000000       0.000000       44.000000      0.035150     17.857937      0.000000     11.000000      4.000000      4.000000      0.000000       1.00000      0.000000      1.000000\n",
              "max         27.000000      24.000000      705.000000      0.200000    361.763742      1.000000     12.000000      9.000000     20.000000      1.000000       1.00000      1.000000      1.000000"
            ]
          },
          "metadata": {},
          "execution_count": 7
        }
      ]
    },
    {
      "cell_type": "code",
      "metadata": {
        "id": "vI_0NE9hoXKK",
        "colab": {
          "base_uri": "https://localhost:8080/"
        },
        "outputId": "abdbb1f0-0e9f-4fe9-df7a-de42cb113526"
      },
      "source": [
        "train_full.info()"
      ],
      "execution_count": null,
      "outputs": [
        {
          "output_type": "stream",
          "name": "stdout",
          "text": [
            "<class 'pandas.core.frame.DataFrame'>\n",
            "RangeIndex: 16626 entries, 0 to 16625\n",
            "Data columns (total 13 columns):\n",
            " #   Column          Non-Null Count  Dtype  \n",
            "---  ------          --------------  -----  \n",
            " 0   Administrative  16626 non-null  int64  \n",
            " 1   Informational   16626 non-null  int64  \n",
            " 2   ProductRelated  16626 non-null  int64  \n",
            " 3   ExitRates       16626 non-null  float64\n",
            " 4   PageValues      16626 non-null  float64\n",
            " 5   SpecialDay      16626 non-null  float64\n",
            " 6   Month           16626 non-null  int64  \n",
            " 7   Region          16626 non-null  int64  \n",
            " 8   TrafficType     16626 non-null  int64  \n",
            " 9   VisitorType0    16626 non-null  float64\n",
            " 10  VisitorType1    16626 non-null  float64\n",
            " 11  Weekend         16626 non-null  int64  \n",
            " 12  Revenue         16626 non-null  int64  \n",
            "dtypes: float64(5), int64(8)\n",
            "memory usage: 1.6 MB\n"
          ]
        }
      ]
    },
    {
      "cell_type": "code",
      "metadata": {
        "id": "tv8JD-IpOf27"
      },
      "source": [
        "train_full.VisitorType0 = train_full.VisitorType0.astype(int)\n",
        "train_full.VisitorType1 = train_full.VisitorType0.astype(int)"
      ],
      "execution_count": null,
      "outputs": []
    },
    {
      "cell_type": "code",
      "metadata": {
        "id": "OgAS_CHnO7I7",
        "colab": {
          "base_uri": "https://localhost:8080/"
        },
        "outputId": "48212437-875d-4585-b021-839c0740754f"
      },
      "source": [
        "train_full.info()"
      ],
      "execution_count": null,
      "outputs": [
        {
          "output_type": "stream",
          "name": "stdout",
          "text": [
            "<class 'pandas.core.frame.DataFrame'>\n",
            "RangeIndex: 16626 entries, 0 to 16625\n",
            "Data columns (total 13 columns):\n",
            " #   Column          Non-Null Count  Dtype  \n",
            "---  ------          --------------  -----  \n",
            " 0   Administrative  16626 non-null  int64  \n",
            " 1   Informational   16626 non-null  int64  \n",
            " 2   ProductRelated  16626 non-null  int64  \n",
            " 3   ExitRates       16626 non-null  float64\n",
            " 4   PageValues      16626 non-null  float64\n",
            " 5   SpecialDay      16626 non-null  float64\n",
            " 6   Month           16626 non-null  int64  \n",
            " 7   Region          16626 non-null  int64  \n",
            " 8   TrafficType     16626 non-null  int64  \n",
            " 9   VisitorType0    16626 non-null  int64  \n",
            " 10  VisitorType1    16626 non-null  int64  \n",
            " 11  Weekend         16626 non-null  int64  \n",
            " 12  Revenue         16626 non-null  int64  \n",
            "dtypes: float64(3), int64(10)\n",
            "memory usage: 1.6 MB\n"
          ]
        }
      ]
    },
    {
      "cell_type": "code",
      "metadata": {
        "id": "p0WwJMWcpAr2",
        "colab": {
          "base_uri": "https://localhost:8080/",
          "height": 350
        },
        "outputId": "49058495-4033-47f8-e689-e5526967e17f"
      },
      "source": [
        "import seaborn as sns\n",
        "sns.countplot(train_full['Revenue'], palette='BuPu')"
      ],
      "execution_count": null,
      "outputs": [
        {
          "output_type": "stream",
          "name": "stderr",
          "text": [
            "/usr/local/lib/python3.7/dist-packages/seaborn/_decorators.py:43: FutureWarning: Pass the following variable as a keyword arg: x. From version 0.12, the only valid positional argument will be `data`, and passing other arguments without an explicit keyword will result in an error or misinterpretation.\n",
            "  FutureWarning\n"
          ]
        },
        {
          "output_type": "execute_result",
          "data": {
            "text/plain": [
              "<matplotlib.axes._subplots.AxesSubplot at 0x7f50ed286dd0>"
            ]
          },
          "metadata": {},
          "execution_count": 11
        },
        {
          "output_type": "display_data",
          "data": {
            "image/png": "[encoded data removed]",
            "text/plain": [
              "<Figure size 432x288 with 1 Axes>"
            ]
          },
          "metadata": {
            "needs_background": "light"
          }
        }
      ]
    },
    {
      "cell_type": "markdown",
      "metadata": {
        "id": "89nwcnPM8aTT"
      },
      "source": [
        "This is a balanced dataset"
      ]
    },
    {
      "cell_type": "code",
      "metadata": {
        "id": "XGInnm2IpRVQ"
      },
      "source": [
        "import matplotlib.pyplot as plt"
      ],
      "execution_count": null,
      "outputs": []
    },
    {
      "cell_type": "code",
      "metadata": {
        "id": "XitNfFD7qAOm"
      },
      "source": [
        "plt.figure(figsize = (20,20))\n",
        "g = sns.heatmap(train_full.corr(),annot=True, cmap = 'BuPu')"
      ],
      "execution_count": null,
      "outputs": []
    },
    {
      "cell_type": "markdown",
      "metadata": {
        "id": "-PxVOIdS9yJt"
      },
      "source": [
        "Comment: Revenue has maximum correlation with PageValues\n"
      ]
    },
    {
      "cell_type": "code",
      "metadata": {
        "id": "IouJqSMXs9JR"
      },
      "source": [
        "X_train_full = train_full.iloc[:,:-1]\n",
        "y_train_full = train_full.iloc[:,-1]"
      ],
      "execution_count": null,
      "outputs": []
    },
    {
      "cell_type": "code",
      "metadata": {
        "colab": {
          "base_uri": "https://localhost:8080/"
        },
        "id": "02FQu6vzM4bJ",
        "outputId": "7fd141fa-928d-40f5-9220-e5a343f27641"
      },
      "source": [
        "X_train_full.shape"
      ],
      "execution_count": null,
      "outputs": [
        {
          "output_type": "execute_result",
          "data": {
            "text/plain": [
              "(16626, 12)"
            ]
          },
          "metadata": {},
          "execution_count": 24
        }
      ]
    },
    {
      "cell_type": "code",
      "metadata": {
        "id": "j5KY8zxwtFpu"
      },
      "source": [
        "X_test = test.iloc[:,:-1]\n",
        "y_test = test.iloc[:,-1]"
      ],
      "execution_count": null,
      "outputs": []
    },
    {
      "cell_type": "code",
      "metadata": {
        "id": "QIXBc3UFtUiO",
        "colab": {
          "base_uri": "https://localhost:8080/",
          "height": 224
        },
        "outputId": "8cdf9fe6-02c6-4a87-caa8-3a3115f4b481"
      },
      "source": [
        "X_train_full.head()"
      ],
      "execution_count": null,
      "outputs": [
        {
          "output_type": "execute_result",
          "data": {
            "text/html": [
              "<div>\n",
              "<style scoped>\n",
              "    .dataframe tbody tr th:only-of-type {\n",
              "        vertical-align: middle;\n",
              "    }\n",
              "\n",
              "    .dataframe tbody tr th {\n",
              "        vertical-align: top;\n",
              "    }\n",
              "\n",
              "    .dataframe thead th {\n",
              "        text-align: right;\n",
              "    }\n",
              "</style>\n",
              "<table border=\"1\" class=\"dataframe\">\n",
              "  <thead>\n",
              "    <tr style=\"text-align: right;\">\n",
              "      <th></th>\n",
              "      <th>Administrative</th>\n",
              "      <th>Informational</th>\n",
              "      <th>ProductRelated</th>\n",
              "      <th>ExitRates</th>\n",
              "      <th>PageValues</th>\n",
              "      <th>SpecialDay</th>\n",
              "      <th>Month</th>\n",
              "      <th>Region</th>\n",
              "      <th>TrafficType</th>\n",
              "      <th>VisitorType0</th>\n",
              "      <th>VisitorType1</th>\n",
              "      <th>Weekend</th>\n",
              "    </tr>\n",
              "  </thead>\n",
              "  <tbody>\n",
              "    <tr>\n",
              "      <th>0</th>\n",
              "      <td>0</td>\n",
              "      <td>0</td>\n",
              "      <td>12</td>\n",
              "      <td>0.069444</td>\n",
              "      <td>0.000000</td>\n",
              "      <td>0.8</td>\n",
              "      <td>5</td>\n",
              "      <td>2</td>\n",
              "      <td>2</td>\n",
              "      <td>0</td>\n",
              "      <td>0</td>\n",
              "      <td>0</td>\n",
              "    </tr>\n",
              "    <tr>\n",
              "      <th>1</th>\n",
              "      <td>0</td>\n",
              "      <td>0</td>\n",
              "      <td>44</td>\n",
              "      <td>0.032143</td>\n",
              "      <td>0.000000</td>\n",
              "      <td>0.0</td>\n",
              "      <td>12</td>\n",
              "      <td>1</td>\n",
              "      <td>1</td>\n",
              "      <td>0</td>\n",
              "      <td>0</td>\n",
              "      <td>0</td>\n",
              "    </tr>\n",
              "    <tr>\n",
              "      <th>2</th>\n",
              "      <td>2</td>\n",
              "      <td>0</td>\n",
              "      <td>7</td>\n",
              "      <td>0.011111</td>\n",
              "      <td>0.000000</td>\n",
              "      <td>0.0</td>\n",
              "      <td>3</td>\n",
              "      <td>8</td>\n",
              "      <td>2</td>\n",
              "      <td>0</td>\n",
              "      <td>0</td>\n",
              "      <td>0</td>\n",
              "    </tr>\n",
              "    <tr>\n",
              "      <th>3</th>\n",
              "      <td>3</td>\n",
              "      <td>0</td>\n",
              "      <td>37</td>\n",
              "      <td>0.004274</td>\n",
              "      <td>47.931282</td>\n",
              "      <td>0.0</td>\n",
              "      <td>5</td>\n",
              "      <td>3</td>\n",
              "      <td>2</td>\n",
              "      <td>0</td>\n",
              "      <td>0</td>\n",
              "      <td>1</td>\n",
              "    </tr>\n",
              "    <tr>\n",
              "      <th>4</th>\n",
              "      <td>0</td>\n",
              "      <td>0</td>\n",
              "      <td>1</td>\n",
              "      <td>0.200000</td>\n",
              "      <td>0.000000</td>\n",
              "      <td>0.0</td>\n",
              "      <td>5</td>\n",
              "      <td>3</td>\n",
              "      <td>3</td>\n",
              "      <td>0</td>\n",
              "      <td>0</td>\n",
              "      <td>1</td>\n",
              "    </tr>\n",
              "  </tbody>\n",
              "</table>\n",
              "</div>"
            ],
            "text/plain": [
              "   Administrative  Informational  ProductRelated  ExitRates  PageValues  SpecialDay  Month  Region  TrafficType  VisitorType0  VisitorType1  Weekend\n",
              "0               0              0              12   0.069444    0.000000         0.8      5       2            2             0             0        0\n",
              "1               0              0              44   0.032143    0.000000         0.0     12       1            1             0             0        0\n",
              "2               2              0               7   0.011111    0.000000         0.0      3       8            2             0             0        0\n",
              "3               3              0              37   0.004274   47.931282         0.0      5       3            2             0             0        1\n",
              "4               0              0               1   0.200000    0.000000         0.0      5       3            3             0             0        1"
            ]
          },
          "metadata": {},
          "execution_count": 14
        }
      ]
    },
    {
      "cell_type": "code",
      "metadata": {
        "id": "CFn_CugptcU8",
        "colab": {
          "base_uri": "https://localhost:8080/"
        },
        "outputId": "349ec6e3-1863-4fde-8a2d-3b7c0df7b400"
      },
      "source": [
        "y_train_full.head()"
      ],
      "execution_count": null,
      "outputs": [
        {
          "output_type": "execute_result",
          "data": {
            "text/plain": [
              "0    0\n",
              "1    0\n",
              "2    0\n",
              "3    1\n",
              "4    0\n",
              "Name: Revenue, dtype: int64"
            ]
          },
          "metadata": {},
          "execution_count": 15
        }
      ]
    },
    {
      "cell_type": "code",
      "metadata": {
        "id": "pL8fHwvlvsEk",
        "colab": {
          "base_uri": "https://localhost:8080/"
        },
        "outputId": "c20e47d2-15bd-42ea-9335-806b16098414"
      },
      "source": [
        "y_train_full.shape"
      ],
      "execution_count": null,
      "outputs": [
        {
          "output_type": "execute_result",
          "data": {
            "text/plain": [
              "(16626,)"
            ]
          },
          "metadata": {},
          "execution_count": 16
        }
      ]
    },
    {
      "cell_type": "code",
      "metadata": {
        "id": "Phy_LeiYxvzl"
      },
      "source": [
        "import tensorflow as tf"
      ],
      "execution_count": null,
      "outputs": []
    },
    {
      "cell_type": "code",
      "metadata": {
        "id": "U4DzplB7yKtq",
        "colab": {
          "base_uri": "https://localhost:8080/",
          "height": 35
        },
        "outputId": "af78631f-da52-41d6-e87a-698d9e37a7e7"
      },
      "source": [
        "tf.__version__"
      ],
      "execution_count": null,
      "outputs": [
        {
          "output_type": "execute_result",
          "data": {
            "application/vnd.google.colaboratory.intrinsic+json": {
              "type": "string"
            },
            "text/plain": [
              "'2.6.0'"
            ]
          },
          "metadata": {},
          "execution_count": 18
        }
      ]
    },
    {
      "cell_type": "code",
      "metadata": {
        "id": "gi9-J_jPx6fh"
      },
      "source": [
        "import keras"
      ],
      "execution_count": null,
      "outputs": []
    },
    {
      "cell_type": "code",
      "metadata": {
        "id": "X8pM_L-XykOz",
        "colab": {
          "base_uri": "https://localhost:8080/",
          "height": 35
        },
        "outputId": "5d858964-1380-4537-abed-f79c7deefc7c"
      },
      "source": [
        "keras.__version__"
      ],
      "execution_count": null,
      "outputs": [
        {
          "output_type": "execute_result",
          "data": {
            "application/vnd.google.colaboratory.intrinsic+json": {
              "type": "string"
            },
            "text/plain": [
              "'2.6.0'"
            ]
          },
          "metadata": {},
          "execution_count": 20
        }
      ]
    },
    {
      "cell_type": "markdown",
      "metadata": {
        "id": "0ggIxYXBt8Cl"
      },
      "source": [
        "## One Hot Encode Target Variable For Classification\n",
        "\n",
        "#### This is necessary if we have multiclass target variable . (with classes more than 2)\n",
        "However, if there are only 2 classes, it is not necessary to convert teh target variable to categorical. In such a case use binarycross entropy while compiling."
      ]
    },
    {
      "cell_type": "code",
      "metadata": {
        "id": "jEzLEtGX0G51"
      },
      "source": [
        "y_tra_full = tf.keras.utils.to_categorical(y_train_full, num_classes=None, dtype=\"int\")"
      ],
      "execution_count": null,
      "outputs": []
    },
    {
      "cell_type": "code",
      "metadata": {
        "id": "Y0-6M11KIYPA",
        "colab": {
          "base_uri": "https://localhost:8080/"
        },
        "outputId": "8e9b180f-0112-42d9-8067-909e8bda57ce"
      },
      "source": [
        "y_tra_full.shape"
      ],
      "execution_count": null,
      "outputs": [
        {
          "output_type": "execute_result",
          "data": {
            "text/plain": [
              "(16626, 2)"
            ]
          },
          "metadata": {},
          "execution_count": 22
        }
      ]
    },
    {
      "cell_type": "code",
      "metadata": {
        "id": "FO985rw2I_wd"
      },
      "source": [
        "y_tra_full[0:5]"
      ],
      "execution_count": null,
      "outputs": []
    },
    {
      "cell_type": "code",
      "metadata": {
        "id": "QXjPfjZAJzzd"
      },
      "source": [
        "y_tes =  tf.keras.utils.to_categorical(y_test, num_classes=None, dtype=\"int\")"
      ],
      "execution_count": null,
      "outputs": []
    },
    {
      "cell_type": "code",
      "metadata": {
        "id": "aDCTWqmQJ-Hf"
      },
      "source": [
        "y_tes"
      ],
      "execution_count": null,
      "outputs": []
    },
    {
      "cell_type": "markdown",
      "metadata": {
        "id": "1BnmzyZVX9nl"
      },
      "source": [
        "### Create a baseline model "
      ]
    },
    {
      "cell_type": "code",
      "metadata": {
        "id": "231nF2w9KSm_"
      },
      "source": [
        "from keras.models import Sequential\n",
        "from keras.layers import Dense\n",
        "from keras.utils.vis_utils import plot_model"
      ],
      "execution_count": null,
      "outputs": []
    },
    {
      "cell_type": "code",
      "metadata": {
        "id": "bF30ScDwKyfe"
      },
      "source": [
        "def create_baseline():\n",
        "    #Initializing Neural Network\n",
        "    classifier = Sequential()\n",
        "\n",
        "    ##Defining the architecture of ANN\n",
        "   \n",
        "    # First layer \n",
        "    classifier.add(Dense(units = 512, kernel_initializer = 'he_uniform', activation = 'relu', input_dim = 12))\n",
        "    \n",
        "    \n",
        "    # Second layer\n",
        "    classifier.add(Dense(units= 128 , kernel_initializer = 'he_uniform', activation = 'relu'))\n",
        "    \n",
        "    classifier.add(Dense(units= 96, kernel_initializer = 'he_uniform', activation = 'relu'))\n",
        "    # Adding the output layer\n",
        "    classifier.add(Dense(units = 2, kernel_initializer = 'he_uniform', activation = 'softmax'))\n",
        "    \n",
        "   \n",
        "    # Compiling Neural Network\n",
        "    ## specifying optimizer \n",
        "    ## This is the metaparameter, specfiying the metaparameter , (adam is popular optimizer like SGD, and GD, \n",
        "    ## the binary_corssentropy is because it has 2 class)\n",
        "    \n",
        "    return classifier\n",
        "\n"
      ],
      "execution_count": null,
      "outputs": []
    },
    {
      "cell_type": "code",
      "metadata": {
        "colab": {
          "base_uri": "https://localhost:8080/"
        },
        "id": "FrAbHFHKNtlD",
        "outputId": "02f109e9-20a6-4e80-eb0f-c7cb1cb235dd"
      },
      "source": [
        "model = create_baseline()\n",
        "print(model.summary())\n",
        "#plot_model(model, to_file='model_plot.png', show_shapes=True, show_layer_names=True)"
      ],
      "execution_count": null,
      "outputs": [
        {
          "output_type": "stream",
          "name": "stdout",
          "text": [
            "Model: \"sequential\"\n",
            "_________________________________________________________________\n",
            "Layer (type)                 Output Shape              Param #   \n",
            "=================================================================\n",
            "dense (Dense)                (None, 512)               6656      \n",
            "_________________________________________________________________\n",
            "dense_1 (Dense)              (None, 128)               65664     \n",
            "_________________________________________________________________\n",
            "dense_2 (Dense)              (None, 96)                12384     \n",
            "_________________________________________________________________\n",
            "dense_3 (Dense)              (None, 2)                 194       \n",
            "=================================================================\n",
            "Total params: 84,898\n",
            "Trainable params: 84,898\n",
            "Non-trainable params: 0\n",
            "_________________________________________________________________\n",
            "None\n"
          ]
        }
      ]
    },
    {
      "cell_type": "code",
      "metadata": {
        "id": "sTJQfUNy-oPY",
        "colab": {
          "base_uri": "https://localhost:8080/",
          "height": 533
        },
        "outputId": "8c81cba6-d22c-467e-b00d-a4f370ac60dc"
      },
      "source": [
        "plot_model(model, to_file='model_plot.png', show_shapes=True, show_layer_names=True)"
      ],
      "execution_count": null,
      "outputs": [
        {
          "output_type": "execute_result",
          "data": {
            "image/png": "[encoded data removed]",
            "text/plain": [
              "<IPython.core.display.Image object>"
            ]
          },
          "metadata": {},
          "execution_count": 29
        }
      ]
    },
    {
      "cell_type": "markdown",
      "metadata": {
        "id": "67IQIMNYaaj7"
      },
      "source": [
        "Note: The following model fit uses internal validation split of 20%. In this the last 20% of the rows are used for validation"
      ]
    },
    {
      "cell_type": "code",
      "metadata": {
        "id": "JkkKE--eNnKV"
      },
      "source": [
        "model.compile(optimizer = 'adam', loss = 'categorical_crossentropy', metrics = ['accuracy'])"
      ],
      "execution_count": null,
      "outputs": []
    },
    {
      "cell_type": "code",
      "metadata": {
        "id": "dMzONlt8TEXI"
      },
      "source": [
        "# model.fit(X_train_full,y_tra_full, validation_split=0.2, epochs=50)"
      ],
      "execution_count": null,
      "outputs": []
    },
    {
      "cell_type": "code",
      "metadata": {
        "id": "2JpYm0pVLssw",
        "colab": {
          "base_uri": "https://localhost:8080/"
        },
        "outputId": "ee515b34-04e5-4117-af1e-ed8ebabaf214"
      },
      "source": [
        "history = model.fit(X_train_full, y_tra_full, validation_split=0.2, epochs = 50,  batch_size = 32, verbose = 2)\n",
        "         "
      ],
      "execution_count": null,
      "outputs": [
        {
          "output_type": "stream",
          "name": "stdout",
          "text": [
            "Epoch 1/50\n",
            "416/416 - 2s - loss: 0.7862 - accuracy: 0.8047 - val_loss: 0.5064 - val_accuracy: 0.7703\n",
            "Epoch 2/50\n",
            "416/416 - 1s - loss: 0.4516 - accuracy: 0.8328 - val_loss: 0.2900 - val_accuracy: 0.8752\n",
            "Epoch 3/50\n",
            "416/416 - 1s - loss: 0.4124 - accuracy: 0.8408 - val_loss: 0.8089 - val_accuracy: 0.6473\n",
            "Epoch 4/50\n",
            "416/416 - 1s - loss: 0.3916 - accuracy: 0.8432 - val_loss: 0.3418 - val_accuracy: 0.8572\n",
            "Epoch 5/50\n",
            "416/416 - 1s - loss: 0.3669 - accuracy: 0.8513 - val_loss: 0.3343 - val_accuracy: 0.8614\n",
            "Epoch 6/50\n",
            "416/416 - 1s - loss: 0.3646 - accuracy: 0.8515 - val_loss: 0.3212 - val_accuracy: 0.8897\n",
            "Epoch 7/50\n",
            "416/416 - 1s - loss: 0.3564 - accuracy: 0.8550 - val_loss: 0.5687 - val_accuracy: 0.7291\n",
            "Epoch 8/50\n",
            "416/416 - 1s - loss: 0.3541 - accuracy: 0.8538 - val_loss: 0.4346 - val_accuracy: 0.8467\n",
            "Epoch 9/50\n",
            "416/416 - 1s - loss: 0.3448 - accuracy: 0.8570 - val_loss: 0.3017 - val_accuracy: 0.9038\n",
            "Epoch 10/50\n",
            "416/416 - 1s - loss: 0.3556 - accuracy: 0.8538 - val_loss: 0.4836 - val_accuracy: 0.8391\n",
            "Epoch 11/50\n",
            "416/416 - 1s - loss: 0.3462 - accuracy: 0.8560 - val_loss: 0.4451 - val_accuracy: 0.8361\n",
            "Epoch 12/50\n",
            "416/416 - 1s - loss: 0.3364 - accuracy: 0.8574 - val_loss: 0.5671 - val_accuracy: 0.7892\n",
            "Epoch 13/50\n",
            "416/416 - 1s - loss: 0.3492 - accuracy: 0.8537 - val_loss: 0.4958 - val_accuracy: 0.7796\n",
            "Epoch 14/50\n",
            "416/416 - 1s - loss: 0.3352 - accuracy: 0.8611 - val_loss: 0.3684 - val_accuracy: 0.8253\n",
            "Epoch 15/50\n",
            "416/416 - 1s - loss: 0.3341 - accuracy: 0.8605 - val_loss: 0.3730 - val_accuracy: 0.8803\n",
            "Epoch 16/50\n",
            "416/416 - 1s - loss: 0.3270 - accuracy: 0.8644 - val_loss: 0.4864 - val_accuracy: 0.8280\n",
            "Epoch 17/50\n",
            "416/416 - 1s - loss: 0.3368 - accuracy: 0.8595 - val_loss: 0.2979 - val_accuracy: 0.8806\n",
            "Epoch 18/50\n",
            "416/416 - 1s - loss: 0.3296 - accuracy: 0.8601 - val_loss: 0.4557 - val_accuracy: 0.8428\n",
            "Epoch 19/50\n",
            "416/416 - 1s - loss: 0.3270 - accuracy: 0.8622 - val_loss: 0.4702 - val_accuracy: 0.8166\n",
            "Epoch 20/50\n",
            "416/416 - 1s - loss: 0.3226 - accuracy: 0.8641 - val_loss: 0.4819 - val_accuracy: 0.8094\n",
            "Epoch 21/50\n",
            "416/416 - 1s - loss: 0.3208 - accuracy: 0.8616 - val_loss: 0.4480 - val_accuracy: 0.8461\n",
            "Epoch 22/50\n",
            "416/416 - 1s - loss: 0.3231 - accuracy: 0.8620 - val_loss: 0.2847 - val_accuracy: 0.8746\n",
            "Epoch 23/50\n",
            "416/416 - 1s - loss: 0.3230 - accuracy: 0.8649 - val_loss: 0.3638 - val_accuracy: 0.8632\n",
            "Epoch 24/50\n",
            "416/416 - 1s - loss: 0.3226 - accuracy: 0.8621 - val_loss: 0.4317 - val_accuracy: 0.8094\n",
            "Epoch 25/50\n",
            "416/416 - 1s - loss: 0.3190 - accuracy: 0.8630 - val_loss: 0.4022 - val_accuracy: 0.8178\n",
            "Epoch 26/50\n",
            "416/416 - 1s - loss: 0.3216 - accuracy: 0.8632 - val_loss: 0.4418 - val_accuracy: 0.8073\n",
            "Epoch 27/50\n",
            "416/416 - 1s - loss: 0.3199 - accuracy: 0.8656 - val_loss: 0.4002 - val_accuracy: 0.8933\n",
            "Epoch 28/50\n",
            "416/416 - 1s - loss: 0.3360 - accuracy: 0.8565 - val_loss: 0.2402 - val_accuracy: 0.9125\n",
            "Epoch 29/50\n",
            "416/416 - 1s - loss: 0.3245 - accuracy: 0.8630 - val_loss: 0.4709 - val_accuracy: 0.8388\n",
            "Epoch 30/50\n",
            "416/416 - 1s - loss: 0.3169 - accuracy: 0.8639 - val_loss: 0.3324 - val_accuracy: 0.8761\n",
            "Epoch 31/50\n",
            "416/416 - 1s - loss: 0.3160 - accuracy: 0.8662 - val_loss: 0.4789 - val_accuracy: 0.8599\n",
            "Epoch 32/50\n",
            "416/416 - 1s - loss: 0.3173 - accuracy: 0.8650 - val_loss: 0.3916 - val_accuracy: 0.8515\n",
            "Epoch 33/50\n",
            "416/416 - 1s - loss: 0.3102 - accuracy: 0.8672 - val_loss: 0.4494 - val_accuracy: 0.8930\n",
            "Epoch 34/50\n",
            "416/416 - 1s - loss: 0.3152 - accuracy: 0.8674 - val_loss: 0.2960 - val_accuracy: 0.8924\n",
            "Epoch 35/50\n",
            "416/416 - 1s - loss: 0.3108 - accuracy: 0.8683 - val_loss: 0.4291 - val_accuracy: 0.8527\n",
            "Epoch 36/50\n",
            "416/416 - 1s - loss: 0.3097 - accuracy: 0.8680 - val_loss: 0.4559 - val_accuracy: 0.8554\n",
            "Epoch 37/50\n",
            "416/416 - 1s - loss: 0.3098 - accuracy: 0.8681 - val_loss: 0.3874 - val_accuracy: 0.8410\n",
            "Epoch 38/50\n",
            "416/416 - 1s - loss: 0.3068 - accuracy: 0.8674 - val_loss: 0.3618 - val_accuracy: 0.8542\n",
            "Epoch 39/50\n",
            "416/416 - 1s - loss: 0.3058 - accuracy: 0.8677 - val_loss: 0.4629 - val_accuracy: 0.8322\n",
            "Epoch 40/50\n",
            "416/416 - 1s - loss: 0.3068 - accuracy: 0.8644 - val_loss: 0.4232 - val_accuracy: 0.8473\n",
            "Epoch 41/50\n",
            "416/416 - 1s - loss: 0.3041 - accuracy: 0.8694 - val_loss: 0.4260 - val_accuracy: 0.8473\n",
            "Epoch 42/50\n",
            "416/416 - 1s - loss: 0.3065 - accuracy: 0.8667 - val_loss: 0.3339 - val_accuracy: 0.8533\n",
            "Epoch 43/50\n",
            "416/416 - 1s - loss: 0.3054 - accuracy: 0.8676 - val_loss: 0.3100 - val_accuracy: 0.9020\n",
            "Epoch 44/50\n",
            "416/416 - 1s - loss: 0.3033 - accuracy: 0.8695 - val_loss: 0.3209 - val_accuracy: 0.9002\n",
            "Epoch 45/50\n",
            "416/416 - 1s - loss: 0.3025 - accuracy: 0.8683 - val_loss: 0.3397 - val_accuracy: 0.8743\n",
            "Epoch 46/50\n",
            "416/416 - 1s - loss: 0.3001 - accuracy: 0.8699 - val_loss: 0.3066 - val_accuracy: 0.9002\n",
            "Epoch 47/50\n",
            "416/416 - 1s - loss: 0.2998 - accuracy: 0.8711 - val_loss: 0.3412 - val_accuracy: 0.8596\n",
            "Epoch 48/50\n",
            "416/416 - 1s - loss: 0.2971 - accuracy: 0.8707 - val_loss: 0.4332 - val_accuracy: 0.8692\n",
            "Epoch 49/50\n",
            "416/416 - 1s - loss: 0.2981 - accuracy: 0.8720 - val_loss: 0.5087 - val_accuracy: 0.8259\n",
            "Epoch 50/50\n",
            "416/416 - 1s - loss: 0.2963 - accuracy: 0.8711 - val_loss: 0.4116 - val_accuracy: 0.8223\n"
          ]
        }
      ]
    },
    {
      "cell_type": "code",
      "metadata": {
        "id": "PKJ4y2P_MZiQ"
      },
      "source": [
        "\n",
        "import pandas as pd\n",
        "import matplotlib.pyplot as plt"
      ],
      "execution_count": null,
      "outputs": []
    },
    {
      "cell_type": "code",
      "metadata": {
        "id": "p8w9OGqxSNvc",
        "colab": {
          "base_uri": "https://localhost:8080/",
          "height": 324
        },
        "outputId": "693c3703-7ef3-4de1-e283-aeaaeb54644b"
      },
      "source": [
        "\n",
        "pd.DataFrame(history.history).plot(figsize=(8, 5))\n",
        "plt.grid(True)\n",
        "plt.gca().set_ylim(0, 1)\n",
        "plt.show()"
      ],
      "execution_count": null,
      "outputs": [
        {
          "output_type": "display_data",
          "data": {
            "image/png": "[encoded data removed]",
            "text/plain": [
              "<Figure size 576x360 with 1 Axes>"
            ]
          },
          "metadata": {
            "needs_background": "light"
          }
        }
      ]
    },
    {
      "cell_type": "markdown",
      "metadata": {
        "id": "cQ4-MoR2a-Ln"
      },
      "source": [
        " ## Task"
      ]
    },
    {
      "cell_type": "markdown",
      "metadata": {
        "id": "FXWz2-dma78P"
      },
      "source": [
        "\n",
        "Experiment with other architectures by increasing or decreasing layers, changing the number of neourons in each layer, batch size etc,\n",
        "Comment on fitness, Summarise and critically analyse results.\n"
      ]
    },
    {
      "cell_type": "markdown",
      "metadata": {
        "id": "0Mg9O4J4WvC4"
      },
      "source": [
        "Refer to this on validation split: https://datascience.stackexchange.com/questions/38955/how-does-the-validation-split-parameter-of-keras-fit-function-work\n"
      ]
    },
    {
      "cell_type": "code",
      "metadata": {
        "id": "_ck89AL2Ws8p"
      },
      "source": [
        ""
      ],
      "execution_count": null,
      "outputs": []
    }
  ]
}