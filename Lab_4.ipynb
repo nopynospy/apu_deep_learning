{
  "nbformat": 4,
  "nbformat_minor": 0,
  "metadata": {
    "colab": {
      "name": " Practice ANN-1.ipynb",
      "provenance": [],
      "collapsed_sections": []
    },
    "kernelspec": {
      "name": "python3",
      "display_name": "Python 3"
    },
    "accelerator": "GPU"
  },
  "cells": [
    {
      "cell_type": "markdown",
      "metadata": {
        "id": "OFpIDVNw18gP"
      },
      "source": [
        "Practice ANN. Styled after Book Example in Ch 10-ageron"
      ]
    },
    {
      "cell_type": "code",
      "metadata": {
        "id": "FJYVnwwR12Mn"
      },
      "source": [
        "import tensorflow as tf\n",
        "from tensorflow import keras"
      ],
      "execution_count": 1,
      "outputs": []
    },
    {
      "cell_type": "code",
      "metadata": {
        "id": "196pqpOg2QYM",
        "colab": {
          "base_uri": "https://localhost:8080/",
          "height": 35
        },
        "outputId": "27410bad-defd-4454-ae4d-b5be88151478"
      },
      "source": [
        "tf.__version__"
      ],
      "execution_count": 2,
      "outputs": [
        {
          "output_type": "execute_result",
          "data": {
            "application/vnd.google.colaboratory.intrinsic+json": {
              "type": "string"
            },
            "text/plain": [
              "'2.6.0'"
            ]
          },
          "metadata": {},
          "execution_count": 2
        }
      ]
    },
    {
      "cell_type": "code",
      "metadata": {
        "id": "W9Rrr9QM2w83",
        "colab": {
          "base_uri": "https://localhost:8080/",
          "height": 35
        },
        "outputId": "d01ab100-8fdc-4714-84c7-53e83acfacb0"
      },
      "source": [
        "keras.__version__"
      ],
      "execution_count": 3,
      "outputs": [
        {
          "output_type": "execute_result",
          "data": {
            "application/vnd.google.colaboratory.intrinsic+json": {
              "type": "string"
            },
            "text/plain": [
              "'2.6.0'"
            ]
          },
          "metadata": {},
          "execution_count": 3
        }
      ]
    },
    {
      "cell_type": "code",
      "metadata": {
        "id": "0SgoHaZ03Frd"
      },
      "source": [
        "fashion_mnist = keras.datasets.fashion_mnist"
      ],
      "execution_count": 4,
      "outputs": []
    },
    {
      "cell_type": "code",
      "metadata": {
        "id": "j2cVeEZh3RkV",
        "colab": {
          "base_uri": "https://localhost:8080/"
        },
        "outputId": "de443b10-4d45-4e03-b120-55ad5eeda2ea"
      },
      "source": [
        "(X_train_full, y_train_full), (X_test, y_test) = fashion_mnist.load_data()"
      ],
      "execution_count": 5,
      "outputs": [
        {
          "output_type": "stream",
          "name": "stdout",
          "text": [
            "Downloading data from https://storage.googleapis.com/tensorflow/tf-keras-datasets/train-labels-idx1-ubyte.gz\n",
            "32768/29515 [=================================] - 0s 0us/step\n",
            "40960/29515 [=========================================] - 0s 0us/step\n",
            "Downloading data from https://storage.googleapis.com/tensorflow/tf-keras-datasets/train-images-idx3-ubyte.gz\n",
            "26427392/26421880 [==============================] - 0s 0us/step\n",
            "26435584/26421880 [==============================] - 0s 0us/step\n",
            "Downloading data from https://storage.googleapis.com/tensorflow/tf-keras-datasets/t10k-labels-idx1-ubyte.gz\n",
            "16384/5148 [===============================================================================================] - 0s 0us/step\n",
            "Downloading data from https://storage.googleapis.com/tensorflow/tf-keras-datasets/t10k-images-idx3-ubyte.gz\n",
            "4423680/4422102 [==============================] - 0s 0us/step\n",
            "4431872/4422102 [==============================] - 0s 0us/step\n"
          ]
        }
      ]
    },
    {
      "cell_type": "code",
      "metadata": {
        "id": "PMuQoqak2_KI",
        "colab": {
          "base_uri": "https://localhost:8080/"
        },
        "outputId": "d6c538d4-b574-4a22-83fb-506659e5c5e9"
      },
      "source": [
        "X_train_full.shape"
      ],
      "execution_count": 6,
      "outputs": [
        {
          "output_type": "execute_result",
          "data": {
            "text/plain": [
              "(60000, 28, 28)"
            ]
          },
          "metadata": {},
          "execution_count": 6
        }
      ]
    },
    {
      "cell_type": "code",
      "metadata": {
        "id": "LrmvdpoC30br",
        "colab": {
          "base_uri": "https://localhost:8080/"
        },
        "outputId": "e7471d6a-f3dc-4fcb-e3c2-80edb18c0db4"
      },
      "source": [
        "X_train_full.dtype"
      ],
      "execution_count": 7,
      "outputs": [
        {
          "output_type": "execute_result",
          "data": {
            "text/plain": [
              "dtype('uint8')"
            ]
          },
          "metadata": {},
          "execution_count": 7
        }
      ]
    },
    {
      "cell_type": "code",
      "metadata": {
        "id": "Dg2MGOO1371k",
        "colab": {
          "base_uri": "https://localhost:8080/"
        },
        "outputId": "d4ba379a-0495-4d8b-d981-64b9d81fcda5"
      },
      "source": [
        "y_train_full.shape"
      ],
      "execution_count": 8,
      "outputs": [
        {
          "output_type": "execute_result",
          "data": {
            "text/plain": [
              "(60000,)"
            ]
          },
          "metadata": {},
          "execution_count": 8
        }
      ]
    },
    {
      "cell_type": "code",
      "metadata": {
        "id": "CiCy3lIc4Ahf",
        "colab": {
          "base_uri": "https://localhost:8080/"
        },
        "outputId": "59eeeb88-ec04-49f7-a54a-6a3f50d4ebf7"
      },
      "source": [
        "y_train_full.dtype"
      ],
      "execution_count": 9,
      "outputs": [
        {
          "output_type": "execute_result",
          "data": {
            "text/plain": [
              "dtype('uint8')"
            ]
          },
          "metadata": {},
          "execution_count": 9
        }
      ]
    },
    {
      "cell_type": "code",
      "metadata": {
        "id": "lAul-0nd4F7_",
        "colab": {
          "base_uri": "https://localhost:8080/"
        },
        "outputId": "47ff4712-940f-44ee-bf9b-57cefbbd93ed"
      },
      "source": [
        "X_test.shape"
      ],
      "execution_count": 10,
      "outputs": [
        {
          "output_type": "execute_result",
          "data": {
            "text/plain": [
              "(10000, 28, 28)"
            ]
          },
          "metadata": {},
          "execution_count": 10
        }
      ]
    },
    {
      "cell_type": "code",
      "metadata": {
        "id": "3_9ZX8yv4ocW"
      },
      "source": [
        "X_valid, X_train= X_train_full[ : 5000]/255, X_train_full [5000 :]/255"
      ],
      "execution_count": 11,
      "outputs": []
    },
    {
      "cell_type": "code",
      "metadata": {
        "id": "Oq-sb4Nj6TtA"
      },
      "source": [
        "y_valid, y_train = y_train_full[:5000], y_train_full[5000:]\n",
        "X_test = X_test / 255."
      ],
      "execution_count": 12,
      "outputs": []
    },
    {
      "cell_type": "code",
      "metadata": {
        "id": "VxrDafSpnyMY",
        "colab": {
          "base_uri": "https://localhost:8080/"
        },
        "outputId": "4649a1e0-239d-4ecb-c66d-74a8f9836847"
      },
      "source": [
        "y_valid[1:5]"
      ],
      "execution_count": 13,
      "outputs": [
        {
          "output_type": "execute_result",
          "data": {
            "text/plain": [
              "array([0, 0, 3, 0], dtype=uint8)"
            ]
          },
          "metadata": {},
          "execution_count": 13
        }
      ]
    },
    {
      "cell_type": "code",
      "metadata": {
        "id": "C1A6Sqj67gej"
      },
      "source": [
        "import matplotlib.pyplot as plt"
      ],
      "execution_count": 14,
      "outputs": []
    },
    {
      "cell_type": "code",
      "metadata": {
        "id": "-j_QSqOz6WKo",
        "colab": {
          "base_uri": "https://localhost:8080/",
          "height": 248
        },
        "outputId": "9915f890-a8fa-419d-e640-32e99b37bedc"
      },
      "source": [
        "plt.imshow (X_train[0], cmap = 'binary' )\n",
        "plt.axis ('off')\n",
        "plt.show ()"
      ],
      "execution_count": 15,
      "outputs": [
        {
          "output_type": "display_data",
          "data": {
            "image/png": "[encoded data removed]",
            "text/plain": [
              "<Figure size 432x288 with 1 Axes>"
            ]
          },
          "metadata": {
            "needs_background": "light"
          }
        }
      ]
    },
    {
      "cell_type": "code",
      "metadata": {
        "id": "cqPHq4gr8CN1",
        "colab": {
          "base_uri": "https://localhost:8080/"
        },
        "outputId": "c2cf7bed-aa7d-4a9f-dd58-4b05b08b5d6a"
      },
      "source": [
        "y_train"
      ],
      "execution_count": 16,
      "outputs": [
        {
          "output_type": "execute_result",
          "data": {
            "text/plain": [
              "array([4, 0, 7, ..., 3, 0, 5], dtype=uint8)"
            ]
          },
          "metadata": {},
          "execution_count": 16
        }
      ]
    },
    {
      "cell_type": "code",
      "metadata": {
        "id": "DPgwPeOc8FDo"
      },
      "source": [
        "class_names = [\"T-shirt/top\", \"Trouser\", \"Pullover\", \"Dress\", \"Coat\",\n",
        "               \"Sandal\", \"Shirt\", \"Sneaker\", \"Bag\", \"Ankle boot\"]"
      ],
      "execution_count": 17,
      "outputs": []
    },
    {
      "cell_type": "code",
      "metadata": {
        "id": "aaBIpQts8L9Y",
        "colab": {
          "base_uri": "https://localhost:8080/",
          "height": 35
        },
        "outputId": "4962c28e-2e16-4455-a915-c9a0c5b6aec3"
      },
      "source": [
        "class_names [y_train[1]]"
      ],
      "execution_count": 18,
      "outputs": [
        {
          "output_type": "execute_result",
          "data": {
            "application/vnd.google.colaboratory.intrinsic+json": {
              "type": "string"
            },
            "text/plain": [
              "'T-shirt/top'"
            ]
          },
          "metadata": {},
          "execution_count": 18
        }
      ]
    },
    {
      "cell_type": "code",
      "metadata": {
        "id": "4r7N__QQ9NBh"
      },
      "source": [
        "model = keras.models.Sequential()\n",
        "model.add(keras.layers.Flatten(input_shape=[28, 28]))\n",
        "model.add(keras.layers.Dense(500, activation=\"relu\"))\n",
        "model.add(keras.layers.Dense(300, activation=\"relu\"))\n",
        "model.add(keras.layers.Dense(100, activation=\"relu\"))\n",
        "model.add(keras.layers.Dense(10, activation=\"softmax\"))"
      ],
      "execution_count": 19,
      "outputs": []
    },
    {
      "cell_type": "code",
      "metadata": {
        "id": "nvLK5KCBoVA8"
      },
      "source": [
        "import numpy as np"
      ],
      "execution_count": 20,
      "outputs": []
    },
    {
      "cell_type": "code",
      "metadata": {
        "id": "yqJB5MPu9PZD"
      },
      "source": [
        "keras.backend.clear_session()\n",
        "np.random.seed(42)\n",
        "tf.random.set_seed(42)"
      ],
      "execution_count": 21,
      "outputs": []
    },
    {
      "cell_type": "code",
      "metadata": {
        "id": "ytqlswJG-D2Q",
        "colab": {
          "base_uri": "https://localhost:8080/"
        },
        "outputId": "f27818d2-7081-4707-ce6c-0c3cb687b00d"
      },
      "source": [
        "model.layers"
      ],
      "execution_count": 22,
      "outputs": [
        {
          "output_type": "execute_result",
          "data": {
            "text/plain": [
              "[<keras.layers.core.Flatten at 0x7fdebee30c10>,\n",
              " <keras.layers.core.Dense at 0x7fdebf2b2490>,\n",
              " <keras.layers.core.Dense at 0x7fdebf75c3d0>,\n",
              " <keras.layers.core.Dense at 0x7fdeb0825150>,\n",
              " <keras.layers.core.Dense at 0x7fdeb0803150>]"
            ]
          },
          "metadata": {},
          "execution_count": 22
        }
      ]
    },
    {
      "cell_type": "code",
      "metadata": {
        "id": "tmseh3qN-Sx_",
        "colab": {
          "base_uri": "https://localhost:8080/"
        },
        "outputId": "1e0550bc-5dd1-49cc-a807-f724122a8915"
      },
      "source": [
        "model.summary ()"
      ],
      "execution_count": 23,
      "outputs": [
        {
          "output_type": "stream",
          "name": "stdout",
          "text": [
            "Model: \"sequential\"\n",
            "_________________________________________________________________\n",
            "Layer (type)                 Output Shape              Param #   \n",
            "=================================================================\n",
            "flatten (Flatten)            (None, 784)               0         \n",
            "_________________________________________________________________\n",
            "dense (Dense)                (None, 500)               392500    \n",
            "_________________________________________________________________\n",
            "dense_1 (Dense)              (None, 300)               150300    \n",
            "_________________________________________________________________\n",
            "dense_2 (Dense)              (None, 100)               30100     \n",
            "_________________________________________________________________\n",
            "dense_3 (Dense)              (None, 10)                1010      \n",
            "=================================================================\n",
            "Total params: 573,910\n",
            "Trainable params: 573,910\n",
            "Non-trainable params: 0\n",
            "_________________________________________________________________\n"
          ]
        }
      ]
    },
    {
      "cell_type": "code",
      "metadata": {
        "id": "kSRXacSo-fIZ",
        "colab": {
          "base_uri": "https://localhost:8080/",
          "height": 644
        },
        "outputId": "6adade4e-708f-4193-dfda-160b3e8f54d5"
      },
      "source": [
        "keras.utils.plot_model(model, \"my_fashion_mnist_model.png\", show_shapes=True)"
      ],
      "execution_count": 24,
      "outputs": [
        {
          "output_type": "execute_result",
          "data": {
            "image/png": "[encoded data removed]",
            "text/plain": [
              "<IPython.core.display.Image object>"
            ]
          },
          "metadata": {},
          "execution_count": 24
        }
      ]
    },
    {
      "cell_type": "code",
      "metadata": {
        "id": "iOs_1l4b-u_S"
      },
      "source": [
        "hidden1 = model.layers[1]\n",
        "# This is the first hidden layer with 300 neurons"
      ],
      "execution_count": 25,
      "outputs": []
    },
    {
      "cell_type": "code",
      "metadata": {
        "id": "SIdB2iY2_dAb"
      },
      "source": [
        "weights, biases = hidden1.get_weights()"
      ],
      "execution_count": 26,
      "outputs": []
    },
    {
      "cell_type": "code",
      "metadata": {
        "id": "raTLnDfJ_jdI",
        "colab": {
          "base_uri": "https://localhost:8080/"
        },
        "outputId": "bebba826-2f7d-4075-b095-3617ee492951"
      },
      "source": [
        "weights"
      ],
      "execution_count": 27,
      "outputs": [
        {
          "output_type": "execute_result",
          "data": {
            "text/plain": [
              "array([[ 0.02224506,  0.03083178, -0.0122686 , ...,  0.04847746,\n",
              "        -0.00316433, -0.01515578],\n",
              "       [-0.02759417, -0.01118364,  0.0507398 , ..., -0.04399914,\n",
              "         0.00565013, -0.05193627],\n",
              "       [ 0.06655311,  0.03664307, -0.05802352, ...,  0.00892484,\n",
              "        -0.02207562, -0.02662601],\n",
              "       ...,\n",
              "       [-0.0371199 , -0.027876  , -0.06116788, ...,  0.03094938,\n",
              "        -0.0232155 , -0.05285604],\n",
              "       [ 0.03409466, -0.06670204, -0.01421629, ...,  0.04793852,\n",
              "        -0.0673712 ,  0.04170242],\n",
              "       [ 0.00733708, -0.02191466, -0.04088402, ...,  0.02908415,\n",
              "         0.06602233,  0.02880167]], dtype=float32)"
            ]
          },
          "metadata": {},
          "execution_count": 27
        }
      ]
    },
    {
      "cell_type": "code",
      "metadata": {
        "id": "WIFtckrwplgi",
        "colab": {
          "base_uri": "https://localhost:8080/"
        },
        "outputId": "469f72c0-a7a0-4ca8-eda1-5288c013d41f"
      },
      "source": [
        "weights.shape"
      ],
      "execution_count": 28,
      "outputs": [
        {
          "output_type": "execute_result",
          "data": {
            "text/plain": [
              "(784, 500)"
            ]
          },
          "metadata": {},
          "execution_count": 28
        }
      ]
    },
    {
      "cell_type": "code",
      "metadata": {
        "id": "TQi7UaOcqKHY",
        "colab": {
          "base_uri": "https://localhost:8080/"
        },
        "outputId": "85a38f77-35b0-45bb-8797-22c02b77a645"
      },
      "source": [
        "biases"
      ],
      "execution_count": 29,
      "outputs": [
        {
          "output_type": "execute_result",
          "data": {
            "text/plain": [
              "array([0., 0., 0., 0., 0., 0., 0., 0., 0., 0., 0., 0., 0., 0., 0., 0., 0.,\n",
              "       0., 0., 0., 0., 0., 0., 0., 0., 0., 0., 0., 0., 0., 0., 0., 0., 0.,\n",
              "       0., 0., 0., 0., 0., 0., 0., 0., 0., 0., 0., 0., 0., 0., 0., 0., 0.,\n",
              "       0., 0., 0., 0., 0., 0., 0., 0., 0., 0., 0., 0., 0., 0., 0., 0., 0.,\n",
              "       0., 0., 0., 0., 0., 0., 0., 0., 0., 0., 0., 0., 0., 0., 0., 0., 0.,\n",
              "       0., 0., 0., 0., 0., 0., 0., 0., 0., 0., 0., 0., 0., 0., 0., 0., 0.,\n",
              "       0., 0., 0., 0., 0., 0., 0., 0., 0., 0., 0., 0., 0., 0., 0., 0., 0.,\n",
              "       0., 0., 0., 0., 0., 0., 0., 0., 0., 0., 0., 0., 0., 0., 0., 0., 0.,\n",
              "       0., 0., 0., 0., 0., 0., 0., 0., 0., 0., 0., 0., 0., 0., 0., 0., 0.,\n",
              "       0., 0., 0., 0., 0., 0., 0., 0., 0., 0., 0., 0., 0., 0., 0., 0., 0.,\n",
              "       0., 0., 0., 0., 0., 0., 0., 0., 0., 0., 0., 0., 0., 0., 0., 0., 0.,\n",
              "       0., 0., 0., 0., 0., 0., 0., 0., 0., 0., 0., 0., 0., 0., 0., 0., 0.,\n",
              "       0., 0., 0., 0., 0., 0., 0., 0., 0., 0., 0., 0., 0., 0., 0., 0., 0.,\n",
              "       0., 0., 0., 0., 0., 0., 0., 0., 0., 0., 0., 0., 0., 0., 0., 0., 0.,\n",
              "       0., 0., 0., 0., 0., 0., 0., 0., 0., 0., 0., 0., 0., 0., 0., 0., 0.,\n",
              "       0., 0., 0., 0., 0., 0., 0., 0., 0., 0., 0., 0., 0., 0., 0., 0., 0.,\n",
              "       0., 0., 0., 0., 0., 0., 0., 0., 0., 0., 0., 0., 0., 0., 0., 0., 0.,\n",
              "       0., 0., 0., 0., 0., 0., 0., 0., 0., 0., 0., 0., 0., 0., 0., 0., 0.,\n",
              "       0., 0., 0., 0., 0., 0., 0., 0., 0., 0., 0., 0., 0., 0., 0., 0., 0.,\n",
              "       0., 0., 0., 0., 0., 0., 0., 0., 0., 0., 0., 0., 0., 0., 0., 0., 0.,\n",
              "       0., 0., 0., 0., 0., 0., 0., 0., 0., 0., 0., 0., 0., 0., 0., 0., 0.,\n",
              "       0., 0., 0., 0., 0., 0., 0., 0., 0., 0., 0., 0., 0., 0., 0., 0., 0.,\n",
              "       0., 0., 0., 0., 0., 0., 0., 0., 0., 0., 0., 0., 0., 0., 0., 0., 0.,\n",
              "       0., 0., 0., 0., 0., 0., 0., 0., 0., 0., 0., 0., 0., 0., 0., 0., 0.,\n",
              "       0., 0., 0., 0., 0., 0., 0., 0., 0., 0., 0., 0., 0., 0., 0., 0., 0.,\n",
              "       0., 0., 0., 0., 0., 0., 0., 0., 0., 0., 0., 0., 0., 0., 0., 0., 0.,\n",
              "       0., 0., 0., 0., 0., 0., 0., 0., 0., 0., 0., 0., 0., 0., 0., 0., 0.,\n",
              "       0., 0., 0., 0., 0., 0., 0., 0., 0., 0., 0., 0., 0., 0., 0., 0., 0.,\n",
              "       0., 0., 0., 0., 0., 0., 0., 0., 0., 0., 0., 0., 0., 0., 0., 0., 0.,\n",
              "       0., 0., 0., 0., 0., 0., 0.], dtype=float32)"
            ]
          },
          "metadata": {},
          "execution_count": 29
        }
      ]
    },
    {
      "cell_type": "code",
      "metadata": {
        "id": "itG35Oq2qNXU",
        "colab": {
          "base_uri": "https://localhost:8080/"
        },
        "outputId": "42a4542e-a6fe-4ed5-bb46-486d02c53db9"
      },
      "source": [
        "biases.shape"
      ],
      "execution_count": 30,
      "outputs": [
        {
          "output_type": "execute_result",
          "data": {
            "text/plain": [
              "(500,)"
            ]
          },
          "metadata": {},
          "execution_count": 30
        }
      ]
    },
    {
      "cell_type": "code",
      "metadata": {
        "id": "wqJmeA1ZqC-2",
        "colab": {
          "base_uri": "https://localhost:8080/"
        },
        "outputId": "a60016d9-c724-402f-d0fb-4a2a7eb1d2f7"
      },
      "source": [
        "y_valid\n",
        "# Here y_valid is not onehot encoded. Hence sparse categorical cross entropy is used."
      ],
      "execution_count": 31,
      "outputs": [
        {
          "output_type": "execute_result",
          "data": {
            "text/plain": [
              "array([9, 0, 0, ..., 5, 8, 3], dtype=uint8)"
            ]
          },
          "metadata": {},
          "execution_count": 31
        }
      ]
    },
    {
      "cell_type": "code",
      "metadata": {
        "id": "cvXnwTq-qU-f"
      },
      "source": [
        "model.compile (loss = \"sparse_categorical_crossentropy\", \n",
        "               optimizer = \"adam\",\n",
        "               metrics = [\"accuracy\"])"
      ],
      "execution_count": 32,
      "outputs": []
    },
    {
      "cell_type": "code",
      "metadata": {
        "id": "5mujosRHu_xl",
        "colab": {
          "base_uri": "https://localhost:8080/"
        },
        "outputId": "5d780a38-0a0b-44f5-d208-387ffd0c70ff"
      },
      "source": [
        "history = model.fit(X_train, y_train, epochs=30,\n",
        "                    validation_data=(X_valid, y_valid))"
      ],
      "execution_count": 33,
      "outputs": [
        {
          "output_type": "stream",
          "name": "stdout",
          "text": [
            "Epoch 1/30\n",
            "1719/1719 [==============================] - 9s 4ms/step - loss: 0.4845 - accuracy: 0.8251 - val_loss: 0.3607 - val_accuracy: 0.8706\n",
            "Epoch 2/30\n",
            "1719/1719 [==============================] - 6s 3ms/step - loss: 0.3649 - accuracy: 0.8644 - val_loss: 0.3878 - val_accuracy: 0.8630\n",
            "Epoch 3/30\n",
            "1719/1719 [==============================] - 6s 3ms/step - loss: 0.3314 - accuracy: 0.8777 - val_loss: 0.3257 - val_accuracy: 0.8838\n",
            "Epoch 4/30\n",
            "1719/1719 [==============================] - 6s 3ms/step - loss: 0.3058 - accuracy: 0.8872 - val_loss: 0.3068 - val_accuracy: 0.8890\n",
            "Epoch 5/30\n",
            "1719/1719 [==============================] - 6s 4ms/step - loss: 0.2882 - accuracy: 0.8932 - val_loss: 0.3114 - val_accuracy: 0.8870\n",
            "Epoch 6/30\n",
            "1719/1719 [==============================] - 6s 3ms/step - loss: 0.2722 - accuracy: 0.8988 - val_loss: 0.3627 - val_accuracy: 0.8736\n",
            "Epoch 7/30\n",
            "1719/1719 [==============================] - 6s 3ms/step - loss: 0.2620 - accuracy: 0.9015 - val_loss: 0.3116 - val_accuracy: 0.8924\n",
            "Epoch 8/30\n",
            "1719/1719 [==============================] - 6s 3ms/step - loss: 0.2497 - accuracy: 0.9054 - val_loss: 0.3153 - val_accuracy: 0.8936\n",
            "Epoch 9/30\n",
            "1719/1719 [==============================] - 6s 3ms/step - loss: 0.2400 - accuracy: 0.9081 - val_loss: 0.3189 - val_accuracy: 0.8944\n",
            "Epoch 10/30\n",
            "1719/1719 [==============================] - 6s 3ms/step - loss: 0.2281 - accuracy: 0.9130 - val_loss: 0.3133 - val_accuracy: 0.8980\n",
            "Epoch 11/30\n",
            "1719/1719 [==============================] - 6s 3ms/step - loss: 0.2200 - accuracy: 0.9156 - val_loss: 0.3104 - val_accuracy: 0.8976\n",
            "Epoch 12/30\n",
            "1719/1719 [==============================] - 6s 3ms/step - loss: 0.2126 - accuracy: 0.9191 - val_loss: 0.3174 - val_accuracy: 0.8960\n",
            "Epoch 13/30\n",
            "1719/1719 [==============================] - 6s 3ms/step - loss: 0.2068 - accuracy: 0.9225 - val_loss: 0.3247 - val_accuracy: 0.8964\n",
            "Epoch 14/30\n",
            "1719/1719 [==============================] - 6s 3ms/step - loss: 0.1993 - accuracy: 0.9227 - val_loss: 0.3283 - val_accuracy: 0.8958\n",
            "Epoch 15/30\n",
            "1719/1719 [==============================] - 6s 3ms/step - loss: 0.1925 - accuracy: 0.9264 - val_loss: 0.3364 - val_accuracy: 0.9010\n",
            "Epoch 16/30\n",
            "1719/1719 [==============================] - 6s 3ms/step - loss: 0.1879 - accuracy: 0.9291 - val_loss: 0.3602 - val_accuracy: 0.8958\n",
            "Epoch 17/30\n",
            "1719/1719 [==============================] - 6s 3ms/step - loss: 0.1822 - accuracy: 0.9301 - val_loss: 0.3514 - val_accuracy: 0.8978\n",
            "Epoch 18/30\n",
            "1719/1719 [==============================] - 6s 4ms/step - loss: 0.1764 - accuracy: 0.9325 - val_loss: 0.3838 - val_accuracy: 0.8902\n",
            "Epoch 19/30\n",
            "1719/1719 [==============================] - 6s 3ms/step - loss: 0.1718 - accuracy: 0.9342 - val_loss: 0.3836 - val_accuracy: 0.9002\n",
            "Epoch 20/30\n",
            "1719/1719 [==============================] - 6s 3ms/step - loss: 0.1679 - accuracy: 0.9360 - val_loss: 0.3693 - val_accuracy: 0.8976\n",
            "Epoch 21/30\n",
            "1719/1719 [==============================] - 6s 4ms/step - loss: 0.1634 - accuracy: 0.9373 - val_loss: 0.3858 - val_accuracy: 0.8996\n",
            "Epoch 22/30\n",
            "1719/1719 [==============================] - 6s 3ms/step - loss: 0.1580 - accuracy: 0.9394 - val_loss: 0.3692 - val_accuracy: 0.8994\n",
            "Epoch 23/30\n",
            "1719/1719 [==============================] - 6s 3ms/step - loss: 0.1551 - accuracy: 0.9404 - val_loss: 0.4114 - val_accuracy: 0.8992\n",
            "Epoch 24/30\n",
            "1719/1719 [==============================] - 6s 3ms/step - loss: 0.1509 - accuracy: 0.9419 - val_loss: 0.3857 - val_accuracy: 0.9032\n",
            "Epoch 25/30\n",
            "1719/1719 [==============================] - 6s 3ms/step - loss: 0.1481 - accuracy: 0.9433 - val_loss: 0.4142 - val_accuracy: 0.9024\n",
            "Epoch 26/30\n",
            "1719/1719 [==============================] - 6s 3ms/step - loss: 0.1447 - accuracy: 0.9452 - val_loss: 0.4144 - val_accuracy: 0.8984\n",
            "Epoch 27/30\n",
            "1719/1719 [==============================] - 6s 3ms/step - loss: 0.1380 - accuracy: 0.9462 - val_loss: 0.4541 - val_accuracy: 0.9000\n",
            "Epoch 28/30\n",
            "1719/1719 [==============================] - 6s 3ms/step - loss: 0.1374 - accuracy: 0.9478 - val_loss: 0.4772 - val_accuracy: 0.8978\n",
            "Epoch 29/30\n",
            "1719/1719 [==============================] - 6s 3ms/step - loss: 0.1346 - accuracy: 0.9481 - val_loss: 0.4367 - val_accuracy: 0.8950\n",
            "Epoch 30/30\n",
            "1719/1719 [==============================] - 6s 3ms/step - loss: 0.1317 - accuracy: 0.9493 - val_loss: 0.4499 - val_accuracy: 0.8980\n"
          ]
        }
      ]
    },
    {
      "cell_type": "markdown",
      "metadata": {
        "id": "hHBKtXKZzR_7"
      },
      "source": [
        "At epoch 15, the best result of loss: 0.1925 - accuracy: 0.9264 - val_loss: 0.3364 - val_accuracy: 0.9010, was obtained."
      ]
    },
    {
      "cell_type": "code",
      "metadata": {
        "id": "zD92ifAVFtcs",
        "colab": {
          "base_uri": "https://localhost:8080/",
          "height": 17
        },
        "outputId": "41cf87a0-eb3e-4f07-8bdd-74e415ff24af"
      },
      "source": [
        "# model.save('ANN_fashion-minst-1.h5')\n",
        "\n",
        "# from google.colab import files\n",
        "# files.download('ANN_fashion-minst-1.h5')"
      ],
      "execution_count": 34,
      "outputs": [
        {
          "output_type": "display_data",
          "data": {
            "application/javascript": [
              "\n",
              "    async function download(id, filename, size) {\n",
              "      if (!google.colab.kernel.accessAllowed) {\n",
              "        return;\n",
              "      }\n",
              "      const div = document.createElement('div');\n",
              "      const label = document.createElement('label');\n",
              "      label.textContent = `Downloading \"${filename}\": `;\n",
              "      div.appendChild(label);\n",
              "      const progress = document.createElement('progress');\n",
              "      progress.max = size;\n",
              "      div.appendChild(progress);\n",
              "      document.body.appendChild(div);\n",
              "\n",
              "      const buffers = [];\n",
              "      let downloaded = 0;\n",
              "\n",
              "      const channel = await google.colab.kernel.comms.open(id);\n",
              "      // Send a message to notify the kernel that we're ready.\n",
              "      channel.send({})\n",
              "\n",
              "      for await (const message of channel.messages) {\n",
              "        // Send a message to notify the kernel that we're ready.\n",
              "        channel.send({})\n",
              "        if (message.buffers) {\n",
              "          for (const buffer of message.buffers) {\n",
              "            buffers.push(buffer);\n",
              "            downloaded += buffer.byteLength;\n",
              "            progress.value = downloaded;\n",
              "          }\n",
              "        }\n",
              "      }\n",
              "      const blob = new Blob(buffers, {type: 'application/binary'});\n",
              "      const a = document.createElement('a');\n",
              "      a.href = window.URL.createObjectURL(blob);\n",
              "      a.download = filename;\n",
              "      div.appendChild(a);\n",
              "      a.click();\n",
              "      div.remove();\n",
              "    }\n",
              "  "
            ],
            "text/plain": [
              "<IPython.core.display.Javascript object>"
            ]
          },
          "metadata": {}
        },
        {
          "output_type": "display_data",
          "data": {
            "application/javascript": [
              "download(\"download_280d5939-7cce-4197-b35a-e2871bb919fa\", \"ANN_fashion-minst-1.h5\", 6926536)"
            ],
            "text/plain": [
              "<IPython.core.display.Javascript object>"
            ]
          },
          "metadata": {}
        }
      ]
    },
    {
      "cell_type": "code",
      "metadata": {
        "id": "CLGlHWoLu_hw",
        "colab": {
          "base_uri": "https://localhost:8080/"
        },
        "outputId": "c9cd8f42-9f98-4228-b283-ec6c2551355e"
      },
      "source": [
        "history.params"
      ],
      "execution_count": 35,
      "outputs": [
        {
          "output_type": "execute_result",
          "data": {
            "text/plain": [
              "{'epochs': 30, 'steps': 1719, 'verbose': 1}"
            ]
          },
          "metadata": {},
          "execution_count": 35
        }
      ]
    },
    {
      "cell_type": "code",
      "metadata": {
        "id": "7bEOmSA3xvjm",
        "colab": {
          "base_uri": "https://localhost:8080/"
        },
        "outputId": "c1ebef61-a685-4703-dbd1-0dd14841c289"
      },
      "source": [
        "history.history.keys()"
      ],
      "execution_count": 36,
      "outputs": [
        {
          "output_type": "execute_result",
          "data": {
            "text/plain": [
              "dict_keys(['loss', 'accuracy', 'val_loss', 'val_accuracy'])"
            ]
          },
          "metadata": {},
          "execution_count": 36
        }
      ]
    },
    {
      "cell_type": "code",
      "metadata": {
        "id": "zZZmKVeb0DIK"
      },
      "source": [
        "import pandas as pd\n",
        "import os\n",
        "from google.colab import files\n",
        "from pylab import savefig\n",
        "def save_fig(fig_id, tight_layout=True, fig_extension=\"png\", resolution=300):\n",
        "    path = os.path.join(fig_id + \".\" + fig_extension)\n",
        "    print(\"Saving figure\", fig_id)\n",
        "    if tight_layout:\n",
        "        plt.tight_layout()\n",
        "    plt.savefig(path, format=fig_extension, dpi=resolution)\n",
        "    files.download(path)"
      ],
      "execution_count": 38,
      "outputs": []
    },
    {
      "cell_type": "code",
      "metadata": {
        "id": "UqKBH1CdyAhl",
        "colab": {
          "base_uri": "https://localhost:8080/",
          "height": 386
        },
        "outputId": "30701316-9db1-44a2-f7e0-d50cb6d2b2a9"
      },
      "source": [
        "import pandas as pd\n",
        "\n",
        "pd.DataFrame(history.history).plot(figsize=(8, 5))\n",
        "plt.grid(True)\n",
        "plt.gca().set_ylim(0, 1)\n",
        "save_fig(\"keras_learning_curves_plot-1\")\n",
        "plt.show()"
      ],
      "execution_count": 39,
      "outputs": [
        {
          "output_type": "stream",
          "name": "stdout",
          "text": [
            "Saving figure keras_learning_curves_plot-1\n"
          ]
        },
        {
          "output_type": "display_data",
          "data": {
            "application/javascript": [
              "\n",
              "    async function download(id, filename, size) {\n",
              "      if (!google.colab.kernel.accessAllowed) {\n",
              "        return;\n",
              "      }\n",
              "      const div = document.createElement('div');\n",
              "      const label = document.createElement('label');\n",
              "      label.textContent = `Downloading \"${filename}\": `;\n",
              "      div.appendChild(label);\n",
              "      const progress = document.createElement('progress');\n",
              "      progress.max = size;\n",
              "      div.appendChild(progress);\n",
              "      document.body.appendChild(div);\n",
              "\n",
              "      const buffers = [];\n",
              "      let downloaded = 0;\n",
              "\n",
              "      const channel = await google.colab.kernel.comms.open(id);\n",
              "      // Send a message to notify the kernel that we're ready.\n",
              "      channel.send({})\n",
              "\n",
              "      for await (const message of channel.messages) {\n",
              "        // Send a message to notify the kernel that we're ready.\n",
              "        channel.send({})\n",
              "        if (message.buffers) {\n",
              "          for (const buffer of message.buffers) {\n",
              "            buffers.push(buffer);\n",
              "            downloaded += buffer.byteLength;\n",
              "            progress.value = downloaded;\n",
              "          }\n",
              "        }\n",
              "      }\n",
              "      const blob = new Blob(buffers, {type: 'application/binary'});\n",
              "      const a = document.createElement('a');\n",
              "      a.href = window.URL.createObjectURL(blob);\n",
              "      a.download = filename;\n",
              "      div.appendChild(a);\n",
              "      a.click();\n",
              "      div.remove();\n",
              "    }\n",
              "  "
            ],
            "text/plain": [
              "<IPython.core.display.Javascript object>"
            ]
          },
          "metadata": {}
        },
        {
          "output_type": "display_data",
          "data": {
            "application/javascript": [
              "download(\"download_fc85a981-362d-46b5-8e06-e8b6eba80a99\", \"keras_learning_curves_plot-1.png\", 129091)"
            ],
            "text/plain": [
              "<IPython.core.display.Javascript object>"
            ]
          },
          "metadata": {}
        },
        {
          "output_type": "display_data",
          "data": {
            "image/png": "[encoded data removed]",
            "text/plain": [
              "<Figure size 576x360 with 1 Axes>"
            ]
          },
          "metadata": {
            "needs_background": "light"
          }
        }
      ]
    },
    {
      "cell_type": "code",
      "metadata": {
        "id": "CZSHAt8n1oCo",
        "colab": {
          "base_uri": "https://localhost:8080/"
        },
        "outputId": "0c9c1e91-c941-419c-a899-8da78eb6beeb"
      },
      "source": [
        "model.evaluate(X_test, y_test)"
      ],
      "execution_count": 40,
      "outputs": [
        {
          "output_type": "stream",
          "name": "stdout",
          "text": [
            "313/313 [==============================] - 1s 3ms/step - loss: 0.5049 - accuracy: 0.8901\n"
          ]
        },
        {
          "output_type": "execute_result",
          "data": {
            "text/plain": [
              "[0.5049083232879639, 0.8901000022888184]"
            ]
          },
          "metadata": {},
          "execution_count": 40
        }
      ]
    },
    {
      "cell_type": "code",
      "metadata": {
        "id": "0EVQjcyV1vMf",
        "colab": {
          "base_uri": "https://localhost:8080/"
        },
        "outputId": "13e70133-b910-436d-d934-e9fd503131c4"
      },
      "source": [
        "X_new = X_test[:3]\n",
        "y_proba = model.predict(X_new)\n",
        "y_proba.round(2)"
      ],
      "execution_count": 41,
      "outputs": [
        {
          "output_type": "execute_result",
          "data": {
            "text/plain": [
              "array([[0.  , 0.  , 0.  , 0.  , 0.  , 0.  , 0.  , 0.  , 0.  , 1.  ],\n",
              "       [0.  , 0.  , 0.99, 0.  , 0.01, 0.  , 0.  , 0.  , 0.  , 0.  ],\n",
              "       [0.  , 1.  , 0.  , 0.  , 0.  , 0.  , 0.  , 0.  , 0.  , 0.  ]],\n",
              "      dtype=float32)"
            ]
          },
          "metadata": {},
          "execution_count": 41
        }
      ]
    },
    {
      "cell_type": "code",
      "metadata": {
        "id": "fPg3NGAJ10Vg"
      },
      "source": [
        "# y_pred = model.predict_classes(X_new)\n",
        "# y_pred"
      ],
      "execution_count": 45,
      "outputs": []
    },
    {
      "cell_type": "code",
      "metadata": {
        "id": "lgtIGBa5r2fJ"
      },
      "source": [
        "y_pred1 = np.argmax(model.predict(X_new), axis=-1)"
      ],
      "execution_count": 43,
      "outputs": []
    },
    {
      "cell_type": "code",
      "metadata": {
        "id": "3ASUHbXosLgX",
        "colab": {
          "base_uri": "https://localhost:8080/"
        },
        "outputId": "3b2bef8a-9859-46b1-97c7-a92468066ae7"
      },
      "source": [
        "y_pred1"
      ],
      "execution_count": 44,
      "outputs": [
        {
          "output_type": "execute_result",
          "data": {
            "text/plain": [
              "array([9, 2, 1])"
            ]
          },
          "metadata": {},
          "execution_count": 44
        }
      ]
    },
    {
      "cell_type": "code",
      "metadata": {
        "id": "hP-A11wy2MTO"
      },
      "source": [
        "# np.array(class_names)[y_pred]"
      ],
      "execution_count": 47,
      "outputs": []
    },
    {
      "cell_type": "code",
      "metadata": {
        "id": "QwqEs4rH2WpM",
        "colab": {
          "base_uri": "https://localhost:8080/"
        },
        "outputId": "6aecd5d5-da06-4392-a48a-2334ce9e4023"
      },
      "source": [
        "y_new = y_test[:3]\n",
        "y_new"
      ],
      "execution_count": 48,
      "outputs": [
        {
          "output_type": "execute_result",
          "data": {
            "text/plain": [
              "array([9, 2, 1], dtype=uint8)"
            ]
          },
          "metadata": {},
          "execution_count": 48
        }
      ]
    },
    {
      "cell_type": "code",
      "metadata": {
        "id": "ap4rufyL2c9f",
        "colab": {
          "base_uri": "https://localhost:8080/",
          "height": 165
        },
        "outputId": "3dd38377-1661-4c2c-f62d-bf19242c127f"
      },
      "source": [
        "plt.figure(figsize=(7.2, 2.4))\n",
        "for index, image in enumerate(X_new):\n",
        "    plt.subplot(1, 3, index + 1)\n",
        "    plt.imshow(image, cmap=\"binary\", interpolation=\"nearest\")\n",
        "    plt.axis('off')\n",
        "    plt.title(class_names[y_test[index]], fontsize=12)\n",
        "plt.subplots_adjust(wspace=0.2, hspace=0.5)\n",
        "# save_fig('fashion_mnist_images_plot', tight_layout=False)\n",
        "plt.show()"
      ],
      "execution_count": 49,
      "outputs": [
        {
          "output_type": "display_data",
          "data": {
            "image/png": "[encoded data removed]",
            "text/plain": [
              "<Figure size 518.4x172.8 with 3 Axes>"
            ]
          },
          "metadata": {
            "needs_background": "light"
          }
        }
      ]
    },
    {
      "cell_type": "markdown",
      "metadata": {
        "id": "xR4Ue_tjvGKB"
      },
      "source": [
        "# Now include regularization"
      ]
    },
    {
      "cell_type": "markdown",
      "metadata": {
        "id": "oT84PwTC00tL"
      },
      "source": [
        "# L1 0.01"
      ]
    },
    {
      "cell_type": "code",
      "metadata": {
        "id": "cSIAHUeNvD0e",
        "colab": {
          "base_uri": "https://localhost:8080/"
        },
        "outputId": "8651c09c-735c-43f5-83d6-deb3c764db7d"
      },
      "source": [
        "!git clone https://github.com/nopynospy/apu_deep_learning.git"
      ],
      "execution_count": 50,
      "outputs": [
        {
          "output_type": "stream",
          "name": "stdout",
          "text": [
            "Cloning into 'apu_deep_learning'...\n",
            "remote: Enumerating objects: 84, done.\u001b[K\n",
            "remote: Counting objects: 100% (84/84), done.\u001b[K\n",
            "remote: Compressing objects: 100% (74/74), done.\u001b[K\n",
            "remote: Total 84 (delta 34), reused 34 (delta 6), pack-reused 0\u001b[K\n",
            "Unpacking objects: 100% (84/84), done.\n"
          ]
        }
      ]
    },
    {
      "cell_type": "code",
      "metadata": {
        "id": "Ta5fNhGGvEM9",
        "colab": {
          "base_uri": "https://localhost:8080/"
        },
        "outputId": "64306a49-d1b9-449d-9c2e-28f0a0d39ae4"
      },
      "source": [
        "!cd apu_deep_learning/\n",
        "!ls"
      ],
      "execution_count": 51,
      "outputs": [
        {
          "output_type": "stream",
          "name": "stdout",
          "text": [
            "ANN_fashion-minst-1.h5\tkeras_learning_curves_plot-1.png  sample_data\n",
            "apu_deep_learning\tmy_fashion_mnist_model.png\n"
          ]
        }
      ]
    },
    {
      "cell_type": "code",
      "metadata": {
        "colab": {
          "base_uri": "https://localhost:8080/"
        },
        "id": "3JdiRO5RuPW5",
        "outputId": "2488e9cb-1688-46a7-c650-16e6cfb8296b"
      },
      "source": [
        "model_fashion_minst1 = keras.models.load_model('ANN_fashion-minst-1.h5')\n",
        "model_fashion_minst1.summary()"
      ],
      "execution_count": 52,
      "outputs": [
        {
          "output_type": "stream",
          "name": "stdout",
          "text": [
            "Model: \"sequential\"\n",
            "_________________________________________________________________\n",
            "Layer (type)                 Output Shape              Param #   \n",
            "=================================================================\n",
            "flatten (Flatten)            (None, 784)               0         \n",
            "_________________________________________________________________\n",
            "dense (Dense)                (None, 500)               392500    \n",
            "_________________________________________________________________\n",
            "dense_1 (Dense)              (None, 300)               150300    \n",
            "_________________________________________________________________\n",
            "dense_2 (Dense)              (None, 100)               30100     \n",
            "_________________________________________________________________\n",
            "dense_3 (Dense)              (None, 10)                1010      \n",
            "=================================================================\n",
            "Total params: 573,910\n",
            "Trainable params: 573,910\n",
            "Non-trainable params: 0\n",
            "_________________________________________________________________\n"
          ]
        }
      ]
    },
    {
      "cell_type": "code",
      "metadata": {
        "colab": {
          "base_uri": "https://localhost:8080/"
        },
        "id": "2hko0TAMuWTp",
        "outputId": "5066466e-2a89-485f-ceba-39d14457615a"
      },
      "source": [
        "from keras.models import Sequential\n",
        "from keras.layers import Dense, Flatten\n",
        "from keras.utils.vis_utils import plot_model\n",
        "from keras.callbacks import EarlyStopping\n",
        "\n",
        "def add_base_layer(classifier, units, isRelu=True):\n",
        "  if isRelu:\n",
        "    classifier.add(Dense(units= units , kernel_initializer = 'he_uniform', activation = 'relu'))\n",
        "  else:\n",
        "    classifier.add(Dense(units = units, kernel_initializer = 'he_uniform', activation = 'softmax'))\n",
        "  return(classifier)\n",
        "\n",
        "def add_l1_l2_layer(classifier, units, regularizer):\n",
        "  classifier.add(Dense(units = units, activation = 'relu', kernel_regularizer=regularizer))\n",
        "  return(classifier)\n",
        "\n",
        "def create_model_l1(layer1=0, layer2=0, layer3=0):\n",
        "    #Initializing Neural Network\n",
        "    classifier = Sequential()\n",
        "    classifier.add(Flatten(input_shape=[28, 28]))\n",
        "    ##Defining the architecture of ANN\n",
        "   \n",
        "    # First layer \n",
        "    if layer1==0:\n",
        "      add_base_layer(classifier, 500)\n",
        "    else:\n",
        "      add_l1_l2_layer(classifier, 500, keras.regularizers.l1(layer1))\n",
        "    # Second layer\n",
        "    if layer2==0:\n",
        "      add_base_layer(classifier, 300)\n",
        "    else:\n",
        "      add_l1_l2_layer(classifier, 300, keras.regularizers.l1(layer2))\n",
        "    # Third layer\n",
        "    if layer3==0:\n",
        "      add_base_layer(classifier, 100)\n",
        "    else:\n",
        "      add_l1_l2_layer(classifier, 100, keras.regularizers.l1(layer3))\n",
        "    # Adding the output layer\n",
        "    add_base_layer(classifier, 10, False)\n",
        "\n",
        "    return classifier\n",
        "  \n",
        "model_l1_1 = create_model_l1(layer1 = 0.01)\n",
        "print(model_l1_1.summary())"
      ],
      "execution_count": 55,
      "outputs": [
        {
          "output_type": "stream",
          "name": "stdout",
          "text": [
            "Model: \"sequential_2\"\n",
            "_________________________________________________________________\n",
            "Layer (type)                 Output Shape              Param #   \n",
            "=================================================================\n",
            "flatten_1 (Flatten)          (None, 784)               0         \n",
            "_________________________________________________________________\n",
            "dense_4 (Dense)              (None, 500)               392500    \n",
            "_________________________________________________________________\n",
            "dense_5 (Dense)              (None, 300)               150300    \n",
            "_________________________________________________________________\n",
            "dense_6 (Dense)              (None, 100)               30100     \n",
            "_________________________________________________________________\n",
            "dense_7 (Dense)              (None, 10)                1010      \n",
            "=================================================================\n",
            "Total params: 573,910\n",
            "Trainable params: 573,910\n",
            "Non-trainable params: 0\n",
            "_________________________________________________________________\n",
            "None\n"
          ]
        }
      ]
    },
    {
      "cell_type": "code",
      "metadata": {
        "id": "czFVA-Z_yOeD",
        "outputId": "8e1876b3-ae3d-4f8c-8574-bb0385147e05",
        "colab": {
          "base_uri": "https://localhost:8080/"
        }
      },
      "source": [
        "model.compile (loss = \"sparse_categorical_crossentropy\", \n",
        "               optimizer = \"adam\",\n",
        "               metrics = [\"accuracy\"])\n",
        "model_l1_1_hist  = model.fit(X_train, y_train, epochs=30,\n",
        "                    validation_data=(X_valid, y_valid))"
      ],
      "execution_count": 56,
      "outputs": [
        {
          "output_type": "stream",
          "name": "stdout",
          "text": [
            "Epoch 1/30\n",
            "1719/1719 [==============================] - 7s 4ms/step - loss: 0.1332 - accuracy: 0.9497 - val_loss: 0.4882 - val_accuracy: 0.8996\n",
            "Epoch 2/30\n",
            "1719/1719 [==============================] - 6s 3ms/step - loss: 0.1296 - accuracy: 0.9513 - val_loss: 0.5008 - val_accuracy: 0.9014\n",
            "Epoch 3/30\n",
            "1719/1719 [==============================] - 6s 3ms/step - loss: 0.1294 - accuracy: 0.9511 - val_loss: 0.5124 - val_accuracy: 0.8976\n",
            "Epoch 4/30\n",
            "1719/1719 [==============================] - 6s 4ms/step - loss: 0.1238 - accuracy: 0.9528 - val_loss: 0.4675 - val_accuracy: 0.9022\n",
            "Epoch 5/30\n",
            "1719/1719 [==============================] - 6s 3ms/step - loss: 0.1171 - accuracy: 0.9551 - val_loss: 0.4522 - val_accuracy: 0.8942\n",
            "Epoch 6/30\n",
            "1719/1719 [==============================] - 6s 3ms/step - loss: 0.1160 - accuracy: 0.9553 - val_loss: 0.5219 - val_accuracy: 0.9018\n",
            "Epoch 7/30\n",
            "1719/1719 [==============================] - 6s 3ms/step - loss: 0.1139 - accuracy: 0.9555 - val_loss: 0.5231 - val_accuracy: 0.8946\n",
            "Epoch 8/30\n",
            "1719/1719 [==============================] - 6s 3ms/step - loss: 0.1132 - accuracy: 0.9559 - val_loss: 0.5322 - val_accuracy: 0.9010\n",
            "Epoch 9/30\n",
            "1719/1719 [==============================] - 6s 3ms/step - loss: 0.1089 - accuracy: 0.9576 - val_loss: 0.5272 - val_accuracy: 0.9034\n",
            "Epoch 10/30\n",
            "1719/1719 [==============================] - 6s 4ms/step - loss: 0.1075 - accuracy: 0.9589 - val_loss: 0.6106 - val_accuracy: 0.8974\n",
            "Epoch 11/30\n",
            "1719/1719 [==============================] - 6s 4ms/step - loss: 0.1090 - accuracy: 0.9588 - val_loss: 0.5746 - val_accuracy: 0.8980\n",
            "Epoch 12/30\n",
            "1719/1719 [==============================] - 6s 3ms/step - loss: 0.1059 - accuracy: 0.9594 - val_loss: 0.6354 - val_accuracy: 0.8994\n",
            "Epoch 13/30\n",
            "1719/1719 [==============================] - 6s 3ms/step - loss: 0.1021 - accuracy: 0.9608 - val_loss: 0.6170 - val_accuracy: 0.8984\n",
            "Epoch 14/30\n",
            "1719/1719 [==============================] - 6s 3ms/step - loss: 0.1047 - accuracy: 0.9603 - val_loss: 0.5827 - val_accuracy: 0.9052\n",
            "Epoch 15/30\n",
            "1719/1719 [==============================] - 6s 3ms/step - loss: 0.1014 - accuracy: 0.9621 - val_loss: 0.5760 - val_accuracy: 0.8986\n",
            "Epoch 16/30\n",
            "1719/1719 [==============================] - 6s 3ms/step - loss: 0.0992 - accuracy: 0.9623 - val_loss: 0.7204 - val_accuracy: 0.8912\n",
            "Epoch 17/30\n",
            "1719/1719 [==============================] - 6s 3ms/step - loss: 0.0976 - accuracy: 0.9625 - val_loss: 0.6752 - val_accuracy: 0.8942\n",
            "Epoch 18/30\n",
            "1719/1719 [==============================] - 6s 3ms/step - loss: 0.0938 - accuracy: 0.9652 - val_loss: 0.7571 - val_accuracy: 0.9008\n",
            "Epoch 19/30\n",
            "1719/1719 [==============================] - 6s 3ms/step - loss: 0.0998 - accuracy: 0.9637 - val_loss: 0.6345 - val_accuracy: 0.8996\n",
            "Epoch 20/30\n",
            "1719/1719 [==============================] - 6s 3ms/step - loss: 0.0909 - accuracy: 0.9659 - val_loss: 0.6475 - val_accuracy: 0.8984\n",
            "Epoch 21/30\n",
            "1719/1719 [==============================] - 6s 4ms/step - loss: 0.0899 - accuracy: 0.9659 - val_loss: 0.6310 - val_accuracy: 0.8984\n",
            "Epoch 22/30\n",
            "1719/1719 [==============================] - 6s 3ms/step - loss: 0.0928 - accuracy: 0.9675 - val_loss: 0.7368 - val_accuracy: 0.8996\n",
            "Epoch 23/30\n",
            "1719/1719 [==============================] - 6s 4ms/step - loss: 0.0848 - accuracy: 0.9679 - val_loss: 0.6598 - val_accuracy: 0.8998\n",
            "Epoch 24/30\n",
            "1719/1719 [==============================] - 6s 4ms/step - loss: 0.1011 - accuracy: 0.9638 - val_loss: 0.6541 - val_accuracy: 0.9044\n",
            "Epoch 25/30\n",
            "1719/1719 [==============================] - 6s 3ms/step - loss: 0.0785 - accuracy: 0.9691 - val_loss: 0.7209 - val_accuracy: 0.8932\n",
            "Epoch 26/30\n",
            "1719/1719 [==============================] - 6s 3ms/step - loss: 0.0898 - accuracy: 0.9678 - val_loss: 0.6966 - val_accuracy: 0.8944\n",
            "Epoch 27/30\n",
            "1719/1719 [==============================] - 6s 4ms/step - loss: 0.0809 - accuracy: 0.9693 - val_loss: 0.6856 - val_accuracy: 0.8998\n",
            "Epoch 28/30\n",
            "1719/1719 [==============================] - 6s 4ms/step - loss: 0.0864 - accuracy: 0.9676 - val_loss: 0.8864 - val_accuracy: 0.8942\n",
            "Epoch 29/30\n",
            "1719/1719 [==============================] - 6s 4ms/step - loss: 0.0793 - accuracy: 0.9698 - val_loss: 0.7580 - val_accuracy: 0.8952\n",
            "Epoch 30/30\n",
            "1719/1719 [==============================] - 6s 4ms/step - loss: 0.0800 - accuracy: 0.9698 - val_loss: 0.7311 - val_accuracy: 0.8930\n"
          ]
        }
      ]
    },
    {
      "cell_type": "markdown",
      "metadata": {
        "id": "TKThx9gzzDzC"
      },
      "source": [
        "At epoch 2, the result was loss: 0.1296 - accuracy: 0.9513 - val_loss: 0.5008 - val_accuracy: 0.9014, which is worse than the original best result in baseline of loss: 0.1925 - accuracy: 0.9264 - val_loss: 0.3364 - val_accuracy: 0.9010"
      ]
    },
    {
      "cell_type": "code",
      "metadata": {
        "id": "54NiGjQK0D48",
        "outputId": "33f7ce85-7cc7-4984-a985-c46fd20ad6b0",
        "colab": {
          "base_uri": "https://localhost:8080/",
          "height": 324
        }
      },
      "source": [
        "def plot_performance(hist):\n",
        "  pd.DataFrame(hist.history).plot(figsize=(8, 5))\n",
        "  plt.grid(True)\n",
        "  plt.gca().set_ylim(0, 1)\n",
        "  plt.show()\n",
        "\n",
        "plot_performance(model_l1_1_hist)"
      ],
      "execution_count": 57,
      "outputs": [
        {
          "output_type": "display_data",
          "data": {
            "image/png": "[encoded data removed]",
            "text/plain": [
              "<Figure size 576x360 with 1 Axes>"
            ]
          },
          "metadata": {
            "needs_background": "light"
          }
        }
      ]
    },
    {
      "cell_type": "markdown",
      "metadata": {
        "id": "JySYXces0XWT"
      },
      "source": [
        "Validation loss keeps increasing, while both accuracies do no increase much."
      ]
    },
    {
      "cell_type": "markdown",
      "metadata": {
        "id": "V_9sOuh806B7"
      },
      "source": [
        "# L1 0.05"
      ]
    },
    {
      "cell_type": "code",
      "metadata": {
        "id": "O1Knm-Fw0r-7",
        "outputId": "991a57e3-492e-4a07-dac8-36029b21f370",
        "colab": {
          "base_uri": "https://localhost:8080/"
        }
      },
      "source": [
        "model_l1_2 = create_model_l1(layer1 = 0.05)\n",
        "model.compile (loss = \"sparse_categorical_crossentropy\", \n",
        "               optimizer = \"adam\",\n",
        "               metrics = [\"accuracy\"])\n",
        "model_l1_2_hist  = model.fit(X_train, y_train, epochs=30,\n",
        "                    validation_data=(X_valid, y_valid))"
      ],
      "execution_count": 59,
      "outputs": [
        {
          "output_type": "stream",
          "name": "stdout",
          "text": [
            "Epoch 1/30\n",
            "1719/1719 [==============================] - 7s 4ms/step - loss: 0.0817 - accuracy: 0.9702 - val_loss: 0.8949 - val_accuracy: 0.8928\n",
            "Epoch 2/30\n",
            "1719/1719 [==============================] - 6s 3ms/step - loss: 0.0902 - accuracy: 0.9684 - val_loss: 0.8337 - val_accuracy: 0.9000\n",
            "Epoch 3/30\n",
            "1719/1719 [==============================] - 6s 4ms/step - loss: 0.0775 - accuracy: 0.9713 - val_loss: 0.8065 - val_accuracy: 0.8940\n",
            "Epoch 4/30\n",
            "1719/1719 [==============================] - 6s 3ms/step - loss: 0.0750 - accuracy: 0.9726 - val_loss: 0.8119 - val_accuracy: 0.8962\n",
            "Epoch 5/30\n",
            "1719/1719 [==============================] - 6s 3ms/step - loss: 0.0812 - accuracy: 0.9706 - val_loss: 0.7804 - val_accuracy: 0.8864\n",
            "Epoch 6/30\n",
            "1719/1719 [==============================] - 6s 4ms/step - loss: 0.0775 - accuracy: 0.9721 - val_loss: 0.7898 - val_accuracy: 0.8952\n",
            "Epoch 7/30\n",
            "1719/1719 [==============================] - 6s 3ms/step - loss: 0.0767 - accuracy: 0.9717 - val_loss: 0.7907 - val_accuracy: 0.8942\n",
            "Epoch 8/30\n",
            "1719/1719 [==============================] - 6s 3ms/step - loss: 0.0719 - accuracy: 0.9729 - val_loss: 0.7809 - val_accuracy: 0.8982\n",
            "Epoch 9/30\n",
            "1719/1719 [==============================] - 6s 3ms/step - loss: 0.0677 - accuracy: 0.9750 - val_loss: 0.8485 - val_accuracy: 0.9002\n",
            "Epoch 10/30\n",
            "1719/1719 [==============================] - 6s 3ms/step - loss: 0.0702 - accuracy: 0.9739 - val_loss: 0.8564 - val_accuracy: 0.8978\n",
            "Epoch 11/30\n",
            "1719/1719 [==============================] - 6s 4ms/step - loss: 0.0719 - accuracy: 0.9741 - val_loss: 0.8404 - val_accuracy: 0.8946\n",
            "Epoch 12/30\n",
            "1719/1719 [==============================] - 6s 3ms/step - loss: 0.0701 - accuracy: 0.9758 - val_loss: 0.9359 - val_accuracy: 0.8922\n",
            "Epoch 13/30\n",
            "1719/1719 [==============================] - 6s 3ms/step - loss: 0.0702 - accuracy: 0.9746 - val_loss: 0.8974 - val_accuracy: 0.8948\n",
            "Epoch 14/30\n",
            "1719/1719 [==============================] - 6s 3ms/step - loss: 0.0664 - accuracy: 0.9751 - val_loss: 0.8966 - val_accuracy: 0.8984\n",
            "Epoch 15/30\n",
            "1719/1719 [==============================] - 6s 3ms/step - loss: 0.0747 - accuracy: 0.9739 - val_loss: 0.8411 - val_accuracy: 0.9036\n",
            "Epoch 16/30\n",
            "1719/1719 [==============================] - 6s 3ms/step - loss: 0.0614 - accuracy: 0.9777 - val_loss: 0.9508 - val_accuracy: 0.9024\n",
            "Epoch 17/30\n",
            "1719/1719 [==============================] - 6s 4ms/step - loss: 0.0648 - accuracy: 0.9763 - val_loss: 0.8647 - val_accuracy: 0.8978\n",
            "Epoch 18/30\n",
            "1719/1719 [==============================] - 6s 4ms/step - loss: 0.0648 - accuracy: 0.9765 - val_loss: 0.9080 - val_accuracy: 0.8958\n",
            "Epoch 19/30\n",
            "1719/1719 [==============================] - 6s 3ms/step - loss: 0.0640 - accuracy: 0.9772 - val_loss: 0.9463 - val_accuracy: 0.9008\n",
            "Epoch 20/30\n",
            "1719/1719 [==============================] - 6s 3ms/step - loss: 0.0625 - accuracy: 0.9772 - val_loss: 1.0045 - val_accuracy: 0.8988\n",
            "Epoch 21/30\n",
            "1719/1719 [==============================] - 6s 3ms/step - loss: 0.0654 - accuracy: 0.9766 - val_loss: 0.9158 - val_accuracy: 0.9000\n",
            "Epoch 22/30\n",
            "1719/1719 [==============================] - 6s 3ms/step - loss: 0.0631 - accuracy: 0.9776 - val_loss: 0.8842 - val_accuracy: 0.9016\n",
            "Epoch 23/30\n",
            "1719/1719 [==============================] - 6s 3ms/step - loss: 0.0668 - accuracy: 0.9766 - val_loss: 0.9174 - val_accuracy: 0.9002\n",
            "Epoch 24/30\n",
            "1719/1719 [==============================] - 6s 3ms/step - loss: 0.0682 - accuracy: 0.9771 - val_loss: 0.8319 - val_accuracy: 0.8982\n",
            "Epoch 25/30\n",
            "1719/1719 [==============================] - 6s 3ms/step - loss: 0.0540 - accuracy: 0.9803 - val_loss: 1.0047 - val_accuracy: 0.9004\n",
            "Epoch 26/30\n",
            "1719/1719 [==============================] - 6s 3ms/step - loss: 0.0678 - accuracy: 0.9768 - val_loss: 0.9346 - val_accuracy: 0.8928\n",
            "Epoch 27/30\n",
            "1719/1719 [==============================] - 6s 4ms/step - loss: 0.0589 - accuracy: 0.9788 - val_loss: 1.0286 - val_accuracy: 0.9000\n",
            "Epoch 28/30\n",
            "1719/1719 [==============================] - 6s 3ms/step - loss: 0.0650 - accuracy: 0.9773 - val_loss: 1.0110 - val_accuracy: 0.9006\n",
            "Epoch 29/30\n",
            "1719/1719 [==============================] - 6s 3ms/step - loss: 0.0551 - accuracy: 0.9803 - val_loss: 0.9507 - val_accuracy: 0.8984\n",
            "Epoch 30/30\n",
            "1719/1719 [==============================] - 6s 4ms/step - loss: 0.0560 - accuracy: 0.9813 - val_loss: 0.8754 - val_accuracy: 0.8996\n"
          ]
        }
      ]
    },
    {
      "cell_type": "markdown",
      "metadata": {
        "id": "l3GX73wA1Ivj"
      },
      "source": [
        "Increasing L1 regularization lead to significant validation loss, even higher than 1 in some epochs."
      ]
    },
    {
      "cell_type": "code",
      "metadata": {
        "id": "WvyWjBiu1JSj",
        "outputId": "9ca9d984-b840-4f60-a8a8-47e84a9a1ce2",
        "colab": {
          "base_uri": "https://localhost:8080/",
          "height": 324
        }
      },
      "source": [
        "plot_performance(model_l1_2_hist)"
      ],
      "execution_count": 60,
      "outputs": [
        {
          "output_type": "display_data",
          "data": {
            "image/png": "[encoded data removed]",
            "text/plain": [
              "<Figure size 576x360 with 1 Axes>"
            ]
          },
          "metadata": {
            "needs_background": "light"
          }
        }
      ]
    },
    {
      "cell_type": "markdown",
      "metadata": {
        "id": "NJkNB7ec2Qhc"
      },
      "source": [
        "# L1 0.01 + L1 0.01"
      ]
    },
    {
      "cell_type": "code",
      "metadata": {
        "id": "NUFICeZl2Q37",
        "outputId": "3cc7f1b7-bb29-41ce-cdfd-4595d6da0cca",
        "colab": {
          "base_uri": "https://localhost:8080/"
        }
      },
      "source": [
        "model_l1_3 = create_model_l1(layer1 = 0.01, layer2 = 0.01)\n",
        "model.compile (loss = \"sparse_categorical_crossentropy\", \n",
        "               optimizer = \"adam\",\n",
        "               metrics = [\"accuracy\"])\n",
        "model_l1_3_hist  = model.fit(X_train, y_train, epochs=30,\n",
        "                    validation_data=(X_valid, y_valid))"
      ],
      "execution_count": 61,
      "outputs": [
        {
          "output_type": "stream",
          "name": "stdout",
          "text": [
            "Epoch 1/30\n",
            "1719/1719 [==============================] - 7s 4ms/step - loss: 0.0620 - accuracy: 0.9784 - val_loss: 1.1103 - val_accuracy: 0.8940\n",
            "Epoch 2/30\n",
            "1719/1719 [==============================] - 6s 3ms/step - loss: 0.0555 - accuracy: 0.9799 - val_loss: 1.0992 - val_accuracy: 0.9042\n",
            "Epoch 3/30\n",
            "1719/1719 [==============================] - 6s 3ms/step - loss: 0.0624 - accuracy: 0.9788 - val_loss: 1.1815 - val_accuracy: 0.8958\n",
            "Epoch 4/30\n",
            "1719/1719 [==============================] - 6s 3ms/step - loss: 0.0610 - accuracy: 0.9789 - val_loss: 1.0346 - val_accuracy: 0.8984\n",
            "Epoch 5/30\n",
            "1719/1719 [==============================] - 6s 4ms/step - loss: 0.0535 - accuracy: 0.9813 - val_loss: 1.0719 - val_accuracy: 0.8962\n",
            "Epoch 6/30\n",
            "1719/1719 [==============================] - 6s 3ms/step - loss: 0.0614 - accuracy: 0.9782 - val_loss: 1.1594 - val_accuracy: 0.8986\n",
            "Epoch 7/30\n",
            "1719/1719 [==============================] - 6s 3ms/step - loss: 0.0593 - accuracy: 0.9793 - val_loss: 1.0561 - val_accuracy: 0.9012\n",
            "Epoch 8/30\n",
            "1719/1719 [==============================] - 6s 4ms/step - loss: 0.0507 - accuracy: 0.9823 - val_loss: 1.0291 - val_accuracy: 0.8982\n",
            "Epoch 9/30\n",
            "1719/1719 [==============================] - 6s 3ms/step - loss: 0.0620 - accuracy: 0.9792 - val_loss: 1.1513 - val_accuracy: 0.9002\n",
            "Epoch 10/30\n",
            "1719/1719 [==============================] - 6s 3ms/step - loss: 0.0572 - accuracy: 0.9815 - val_loss: 1.0491 - val_accuracy: 0.8980\n",
            "Epoch 11/30\n",
            "1719/1719 [==============================] - 6s 3ms/step - loss: 0.0579 - accuracy: 0.9806 - val_loss: 1.0673 - val_accuracy: 0.8976\n",
            "Epoch 12/30\n",
            "1719/1719 [==============================] - 6s 3ms/step - loss: 0.0526 - accuracy: 0.9810 - val_loss: 1.0703 - val_accuracy: 0.8952\n",
            "Epoch 13/30\n",
            "1719/1719 [==============================] - 6s 3ms/step - loss: 0.0583 - accuracy: 0.9808 - val_loss: 1.0779 - val_accuracy: 0.8964\n",
            "Epoch 14/30\n",
            "1719/1719 [==============================] - 6s 3ms/step - loss: 0.0461 - accuracy: 0.9835 - val_loss: 1.1768 - val_accuracy: 0.9006\n",
            "Epoch 15/30\n",
            "1719/1719 [==============================] - 6s 4ms/step - loss: 0.0559 - accuracy: 0.9810 - val_loss: 1.1028 - val_accuracy: 0.9014\n",
            "Epoch 16/30\n",
            "1719/1719 [==============================] - 6s 3ms/step - loss: 0.0519 - accuracy: 0.9820 - val_loss: 1.1460 - val_accuracy: 0.8962\n",
            "Epoch 17/30\n",
            "1719/1719 [==============================] - 6s 3ms/step - loss: 0.0438 - accuracy: 0.9845 - val_loss: 1.2572 - val_accuracy: 0.8904\n",
            "Epoch 18/30\n",
            "1719/1719 [==============================] - 6s 3ms/step - loss: 0.0630 - accuracy: 0.9807 - val_loss: 1.0840 - val_accuracy: 0.8858\n",
            "Epoch 19/30\n",
            "1719/1719 [==============================] - 6s 3ms/step - loss: 0.0520 - accuracy: 0.9838 - val_loss: 1.1826 - val_accuracy: 0.8980\n",
            "Epoch 20/30\n",
            "1719/1719 [==============================] - 6s 3ms/step - loss: 0.0448 - accuracy: 0.9840 - val_loss: 1.4340 - val_accuracy: 0.8894\n",
            "Epoch 21/30\n",
            "1719/1719 [==============================] - 6s 4ms/step - loss: 0.0525 - accuracy: 0.9823 - val_loss: 1.1693 - val_accuracy: 0.8938\n",
            "Epoch 22/30\n",
            "1719/1719 [==============================] - 6s 3ms/step - loss: 0.0585 - accuracy: 0.9815 - val_loss: 1.1701 - val_accuracy: 0.8992\n",
            "Epoch 23/30\n",
            "1719/1719 [==============================] - 6s 3ms/step - loss: 0.0477 - accuracy: 0.9839 - val_loss: 1.2503 - val_accuracy: 0.9012\n",
            "Epoch 24/30\n",
            "1719/1719 [==============================] - 6s 4ms/step - loss: 0.0485 - accuracy: 0.9833 - val_loss: 1.2818 - val_accuracy: 0.8978\n",
            "Epoch 25/30\n",
            "1719/1719 [==============================] - 6s 3ms/step - loss: 0.0478 - accuracy: 0.9838 - val_loss: 1.2518 - val_accuracy: 0.8990\n",
            "Epoch 26/30\n",
            "1719/1719 [==============================] - 6s 3ms/step - loss: 0.0526 - accuracy: 0.9821 - val_loss: 1.2745 - val_accuracy: 0.8990\n",
            "Epoch 27/30\n",
            "1719/1719 [==============================] - 6s 4ms/step - loss: 0.0428 - accuracy: 0.9857 - val_loss: 1.4210 - val_accuracy: 0.9012\n",
            "Epoch 28/30\n",
            "1719/1719 [==============================] - 6s 4ms/step - loss: 0.0499 - accuracy: 0.9837 - val_loss: 1.3248 - val_accuracy: 0.9036\n",
            "Epoch 29/30\n",
            "1719/1719 [==============================] - 6s 3ms/step - loss: 0.0431 - accuracy: 0.9843 - val_loss: 1.3792 - val_accuracy: 0.8946\n",
            "Epoch 30/30\n",
            "1719/1719 [==============================] - 6s 3ms/step - loss: 0.0512 - accuracy: 0.9832 - val_loss: 1.2091 - val_accuracy: 0.8912\n"
          ]
        }
      ]
    },
    {
      "cell_type": "markdown",
      "metadata": {
        "id": "-ZwrvADD3JCc"
      },
      "source": [
        "Validation loss further increased to the point that it does not even show up on the plot as seen below."
      ]
    },
    {
      "cell_type": "code",
      "metadata": {
        "id": "dD4N4TYU2bCs",
        "outputId": "059ce456-307b-478b-8c64-72462e341191",
        "colab": {
          "base_uri": "https://localhost:8080/",
          "height": 324
        }
      },
      "source": [
        "plot_performance(model_l1_3_hist)"
      ],
      "execution_count": 62,
      "outputs": [
        {
          "output_type": "display_data",
          "data": {
            "image/png": "[encoded data removed]",
            "text/plain": [
              "<Figure size 576x360 with 1 Axes>"
            ]
          },
          "metadata": {
            "needs_background": "light"
          }
        }
      ]
    },
    {
      "cell_type": "markdown",
      "metadata": {
        "id": "VT3n9lun3QLM"
      },
      "source": [
        "# L1 0.01 + L1 0.01 + L1 0.01"
      ]
    },
    {
      "cell_type": "code",
      "metadata": {
        "id": "Dbg2lmex3U28",
        "outputId": "adf05725-c9e4-4827-cbc5-da84370b26bf",
        "colab": {
          "base_uri": "https://localhost:8080/"
        }
      },
      "source": [
        "model_l1_4 = create_model_l1(layer1 = 0.01, layer2 = 0.01, layer3 = 0.01)\n",
        "model.compile (loss = \"sparse_categorical_crossentropy\", \n",
        "               optimizer = \"adam\",\n",
        "               metrics = [\"accuracy\"])\n",
        "model_l1_4_hist  = model.fit(X_train, y_train, epochs=30,\n",
        "                    validation_data=(X_valid, y_valid))"
      ],
      "execution_count": 63,
      "outputs": [
        {
          "output_type": "stream",
          "name": "stdout",
          "text": [
            "Epoch 1/30\n",
            "1719/1719 [==============================] - 7s 4ms/step - loss: 0.0482 - accuracy: 0.9843 - val_loss: 1.5332 - val_accuracy: 0.8960\n",
            "Epoch 2/30\n",
            "1719/1719 [==============================] - 6s 3ms/step - loss: 0.0568 - accuracy: 0.9829 - val_loss: 1.4171 - val_accuracy: 0.8940\n",
            "Epoch 3/30\n",
            "1719/1719 [==============================] - 6s 3ms/step - loss: 0.0541 - accuracy: 0.9837 - val_loss: 1.3780 - val_accuracy: 0.9024\n",
            "Epoch 4/30\n",
            "1719/1719 [==============================] - 6s 4ms/step - loss: 0.0589 - accuracy: 0.9845 - val_loss: 1.2572 - val_accuracy: 0.9004\n",
            "Epoch 5/30\n",
            "1719/1719 [==============================] - 6s 4ms/step - loss: 0.0517 - accuracy: 0.9842 - val_loss: 1.2674 - val_accuracy: 0.8990\n",
            "Epoch 6/30\n",
            "1719/1719 [==============================] - 6s 3ms/step - loss: 0.0456 - accuracy: 0.9845 - val_loss: 1.2532 - val_accuracy: 0.8990\n",
            "Epoch 7/30\n",
            "1719/1719 [==============================] - 6s 3ms/step - loss: 0.0593 - accuracy: 0.9821 - val_loss: 1.4245 - val_accuracy: 0.8990\n",
            "Epoch 8/30\n",
            "1719/1719 [==============================] - 6s 3ms/step - loss: 0.0407 - accuracy: 0.9864 - val_loss: 1.3592 - val_accuracy: 0.8976\n",
            "Epoch 9/30\n",
            "1719/1719 [==============================] - 6s 3ms/step - loss: 0.0402 - accuracy: 0.9865 - val_loss: 1.7455 - val_accuracy: 0.8978\n",
            "Epoch 10/30\n",
            "1719/1719 [==============================] - 6s 3ms/step - loss: 0.0456 - accuracy: 0.9850 - val_loss: 1.3405 - val_accuracy: 0.8996\n",
            "Epoch 11/30\n",
            "1719/1719 [==============================] - 6s 3ms/step - loss: 0.0548 - accuracy: 0.9833 - val_loss: 1.3834 - val_accuracy: 0.8972\n",
            "Epoch 12/30\n",
            "1719/1719 [==============================] - 6s 3ms/step - loss: 0.0479 - accuracy: 0.9847 - val_loss: 1.3215 - val_accuracy: 0.8944\n",
            "Epoch 13/30\n",
            "1719/1719 [==============================] - 6s 3ms/step - loss: 0.0419 - accuracy: 0.9863 - val_loss: 1.1848 - val_accuracy: 0.8964\n",
            "Epoch 14/30\n",
            "1719/1719 [==============================] - 6s 3ms/step - loss: 0.0510 - accuracy: 0.9843 - val_loss: 1.3354 - val_accuracy: 0.8990\n",
            "Epoch 15/30\n",
            "1719/1719 [==============================] - 6s 4ms/step - loss: 0.0371 - accuracy: 0.9873 - val_loss: 1.4343 - val_accuracy: 0.8998\n",
            "Epoch 16/30\n",
            "1719/1719 [==============================] - 6s 3ms/step - loss: 0.0409 - accuracy: 0.9862 - val_loss: 1.4238 - val_accuracy: 0.8982\n",
            "Epoch 17/30\n",
            "1719/1719 [==============================] - 6s 3ms/step - loss: 0.0492 - accuracy: 0.9841 - val_loss: 1.4254 - val_accuracy: 0.9010\n",
            "Epoch 18/30\n",
            "1719/1719 [==============================] - 6s 3ms/step - loss: 0.0430 - accuracy: 0.9863 - val_loss: 1.3303 - val_accuracy: 0.8886\n",
            "Epoch 19/30\n",
            "1719/1719 [==============================] - 6s 3ms/step - loss: 0.0416 - accuracy: 0.9868 - val_loss: 1.4258 - val_accuracy: 0.9000\n",
            "Epoch 20/30\n",
            "1719/1719 [==============================] - 6s 3ms/step - loss: 0.0507 - accuracy: 0.9840 - val_loss: 1.2904 - val_accuracy: 0.9004\n",
            "Epoch 21/30\n",
            "1719/1719 [==============================] - 6s 3ms/step - loss: 0.0432 - accuracy: 0.9865 - val_loss: 1.2743 - val_accuracy: 0.9016\n",
            "Epoch 22/30\n",
            "1719/1719 [==============================] - 6s 4ms/step - loss: 0.0397 - accuracy: 0.9874 - val_loss: 1.3944 - val_accuracy: 0.9006\n",
            "Epoch 23/30\n",
            "1719/1719 [==============================] - 6s 3ms/step - loss: 0.0449 - accuracy: 0.9863 - val_loss: 1.3619 - val_accuracy: 0.8986\n",
            "Epoch 24/30\n",
            "1719/1719 [==============================] - 6s 3ms/step - loss: 0.0440 - accuracy: 0.9857 - val_loss: 1.5592 - val_accuracy: 0.9004\n",
            "Epoch 25/30\n",
            "1719/1719 [==============================] - 6s 3ms/step - loss: 0.0447 - accuracy: 0.9858 - val_loss: 1.5236 - val_accuracy: 0.8998\n",
            "Epoch 26/30\n",
            "1719/1719 [==============================] - 6s 3ms/step - loss: 0.0478 - accuracy: 0.9863 - val_loss: 1.6380 - val_accuracy: 0.8922\n",
            "Epoch 27/30\n",
            "1719/1719 [==============================] - 6s 3ms/step - loss: 0.0449 - accuracy: 0.9870 - val_loss: 1.5203 - val_accuracy: 0.8980\n",
            "Epoch 28/30\n",
            "1719/1719 [==============================] - 6s 3ms/step - loss: 0.0343 - accuracy: 0.9881 - val_loss: 1.5032 - val_accuracy: 0.8972\n",
            "Epoch 29/30\n",
            "1719/1719 [==============================] - 6s 3ms/step - loss: 0.0446 - accuracy: 0.9857 - val_loss: 1.3308 - val_accuracy: 0.9024\n",
            "Epoch 30/30\n",
            "1719/1719 [==============================] - 6s 3ms/step - loss: 0.0439 - accuracy: 0.9861 - val_loss: 1.4974 - val_accuracy: 0.8948\n"
          ]
        }
      ]
    },
    {
      "cell_type": "markdown",
      "metadata": {
        "id": "d2D12qA24VVc"
      },
      "source": [
        "While validation loss did not show up as well in this experiment, the overfitting problem is worse, as the validation loss reaches an even higher level."
      ]
    },
    {
      "cell_type": "code",
      "metadata": {
        "id": "i931XM5u3gRk",
        "outputId": "ad8a8e73-b1c7-4a68-a1c9-0acd3af3c543",
        "colab": {
          "base_uri": "https://localhost:8080/",
          "height": 324
        }
      },
      "source": [
        "plot_performance(model_l1_4_hist)"
      ],
      "execution_count": 64,
      "outputs": [
        {
          "output_type": "display_data",
          "data": {
            "image/png": "[encoded data removed]",
            "text/plain": [
              "<Figure size 576x360 with 1 Axes>"
            ]
          },
          "metadata": {
            "needs_background": "light"
          }
        }
      ]
    },
    {
      "cell_type": "markdown",
      "metadata": {
        "id": "v8PgKGVy4i3U"
      },
      "source": [
        "# L2 0.01"
      ]
    },
    {
      "cell_type": "code",
      "metadata": {
        "id": "giXhI3424p1G",
        "outputId": "dc574fe5-6c23-4f21-97b0-0f1980fa4b62",
        "colab": {
          "base_uri": "https://localhost:8080/"
        }
      },
      "source": [
        "def create_model_l2(layer1=0, layer2=0, layer3=0):\n",
        "    #Initializing Neural Network\n",
        "    classifier = Sequential()\n",
        "    classifier.add(Flatten(input_shape=[28, 28]))\n",
        "    ##Defining the architecture of ANN\n",
        "   \n",
        "    # First layer \n",
        "    if layer1==0:\n",
        "      add_base_layer(classifier, 500)\n",
        "    else:\n",
        "      add_l1_l2_layer(classifier, 500, keras.regularizers.l2(layer1))\n",
        "    # Second layer\n",
        "    if layer2==0:\n",
        "      add_base_layer(classifier, 300)\n",
        "    else:\n",
        "      add_l1_l2_layer(classifier, 300, keras.regularizers.l2(layer2))\n",
        "    # Third layer\n",
        "    if layer3==0:\n",
        "      add_base_layer(classifier, 100)\n",
        "    else:\n",
        "      add_l1_l2_layer(classifier, 100, keras.regularizers.l2(layer3))\n",
        "    # Adding the output layer\n",
        "    add_base_layer(classifier, 10, False)\n",
        "\n",
        "    return classifier\n",
        "  \n",
        "model_l2_1 = create_model_l2(layer1 = 0.01)\n",
        "\n",
        "model.compile (loss = \"sparse_categorical_crossentropy\", \n",
        "               optimizer = \"adam\",\n",
        "               metrics = [\"accuracy\"])\n",
        "\n",
        "model_l2_1_hist = model.fit(X_train, y_train, epochs=30,\n",
        "                    validation_data=(X_valid, y_valid))"
      ],
      "execution_count": 67,
      "outputs": [
        {
          "output_type": "stream",
          "name": "stdout",
          "text": [
            "Epoch 1/30\n",
            "1719/1719 [==============================] - 7s 4ms/step - loss: 0.0423 - accuracy: 0.9873 - val_loss: 1.7759 - val_accuracy: 0.9008\n",
            "Epoch 2/30\n",
            "1719/1719 [==============================] - 6s 3ms/step - loss: 0.0475 - accuracy: 0.9867 - val_loss: 1.9795 - val_accuracy: 0.9002\n",
            "Epoch 3/30\n",
            "1719/1719 [==============================] - 6s 3ms/step - loss: 0.0338 - accuracy: 0.9904 - val_loss: 2.0128 - val_accuracy: 0.8984\n",
            "Epoch 4/30\n",
            "1719/1719 [==============================] - 6s 4ms/step - loss: 0.0531 - accuracy: 0.9866 - val_loss: 1.8173 - val_accuracy: 0.8920\n",
            "Epoch 5/30\n",
            "1719/1719 [==============================] - 6s 4ms/step - loss: 0.0460 - accuracy: 0.9871 - val_loss: 1.7064 - val_accuracy: 0.8950\n",
            "Epoch 6/30\n",
            "1719/1719 [==============================] - 6s 3ms/step - loss: 0.0376 - accuracy: 0.9886 - val_loss: 2.0449 - val_accuracy: 0.8906\n",
            "Epoch 7/30\n",
            "1719/1719 [==============================] - 6s 3ms/step - loss: 0.0273 - accuracy: 0.9915 - val_loss: 2.0903 - val_accuracy: 0.9010\n",
            "Epoch 8/30\n",
            "1719/1719 [==============================] - 6s 3ms/step - loss: 0.0543 - accuracy: 0.9868 - val_loss: 1.8536 - val_accuracy: 0.8844\n",
            "Epoch 9/30\n",
            "1719/1719 [==============================] - 6s 3ms/step - loss: 0.0374 - accuracy: 0.9891 - val_loss: 1.6894 - val_accuracy: 0.8996\n",
            "Epoch 10/30\n",
            "1719/1719 [==============================] - 6s 4ms/step - loss: 0.0304 - accuracy: 0.9905 - val_loss: 1.7771 - val_accuracy: 0.9004\n",
            "Epoch 11/30\n",
            "1719/1719 [==============================] - 6s 3ms/step - loss: 0.0549 - accuracy: 0.9859 - val_loss: 1.7769 - val_accuracy: 0.8992\n",
            "Epoch 12/30\n",
            "1719/1719 [==============================] - 6s 3ms/step - loss: 0.0318 - accuracy: 0.9905 - val_loss: 2.0831 - val_accuracy: 0.8992\n",
            "Epoch 13/30\n",
            "1719/1719 [==============================] - 6s 4ms/step - loss: 0.0284 - accuracy: 0.9910 - val_loss: 1.7649 - val_accuracy: 0.8972\n",
            "Epoch 14/30\n",
            "1719/1719 [==============================] - 6s 3ms/step - loss: 0.0448 - accuracy: 0.9876 - val_loss: 1.8637 - val_accuracy: 0.8970\n",
            "Epoch 15/30\n",
            "1719/1719 [==============================] - 6s 3ms/step - loss: 0.0447 - accuracy: 0.9888 - val_loss: 1.9999 - val_accuracy: 0.8890\n",
            "Epoch 16/30\n",
            "1719/1719 [==============================] - 6s 3ms/step - loss: 0.0432 - accuracy: 0.9874 - val_loss: 1.7718 - val_accuracy: 0.8976\n",
            "Epoch 17/30\n",
            "1719/1719 [==============================] - 6s 3ms/step - loss: 0.0336 - accuracy: 0.9896 - val_loss: 2.0318 - val_accuracy: 0.8982\n",
            "Epoch 18/30\n",
            "1719/1719 [==============================] - 6s 4ms/step - loss: 0.0300 - accuracy: 0.9914 - val_loss: 2.1208 - val_accuracy: 0.8972\n",
            "Epoch 19/30\n",
            "1719/1719 [==============================] - 6s 3ms/step - loss: 0.0418 - accuracy: 0.9880 - val_loss: 1.8467 - val_accuracy: 0.8976\n",
            "Epoch 20/30\n",
            "1719/1719 [==============================] - 6s 3ms/step - loss: 0.0247 - accuracy: 0.9920 - val_loss: 1.8412 - val_accuracy: 0.8974\n",
            "Epoch 21/30\n",
            "1719/1719 [==============================] - 6s 3ms/step - loss: 0.0387 - accuracy: 0.9887 - val_loss: 1.9155 - val_accuracy: 0.8970\n",
            "Epoch 22/30\n",
            "1719/1719 [==============================] - 6s 3ms/step - loss: 0.0368 - accuracy: 0.9894 - val_loss: 2.1965 - val_accuracy: 0.8956\n",
            "Epoch 23/30\n",
            "1719/1719 [==============================] - 6s 3ms/step - loss: 0.0620 - accuracy: 0.9871 - val_loss: 1.8747 - val_accuracy: 0.8990\n",
            "Epoch 24/30\n",
            "1719/1719 [==============================] - 6s 3ms/step - loss: 0.0358 - accuracy: 0.9902 - val_loss: 2.1499 - val_accuracy: 0.8978\n",
            "Epoch 25/30\n",
            "1719/1719 [==============================] - 6s 3ms/step - loss: 0.0289 - accuracy: 0.9913 - val_loss: 1.9020 - val_accuracy: 0.8984\n",
            "Epoch 26/30\n",
            "1719/1719 [==============================] - 6s 4ms/step - loss: 0.0432 - accuracy: 0.9880 - val_loss: 1.9626 - val_accuracy: 0.8992\n",
            "Epoch 27/30\n",
            "1719/1719 [==============================] - 6s 3ms/step - loss: 0.0634 - accuracy: 0.9864 - val_loss: 1.8559 - val_accuracy: 0.8952\n",
            "Epoch 28/30\n",
            "1719/1719 [==============================] - 6s 3ms/step - loss: 0.0288 - accuracy: 0.9926 - val_loss: 1.9030 - val_accuracy: 0.8970\n",
            "Epoch 29/30\n",
            "1719/1719 [==============================] - 6s 3ms/step - loss: 0.0293 - accuracy: 0.9915 - val_loss: 1.9649 - val_accuracy: 0.8934\n",
            "Epoch 30/30\n",
            "1719/1719 [==============================] - 6s 3ms/step - loss: 0.0412 - accuracy: 0.9893 - val_loss: 1.7532 - val_accuracy: 0.8898\n"
          ]
        }
      ]
    },
    {
      "cell_type": "markdown",
      "metadata": {
        "id": "K_Vdpmi37ikl"
      },
      "source": [
        "L2 0.01 at layer 1 also has overfitting issue."
      ]
    },
    {
      "cell_type": "code",
      "metadata": {
        "id": "GRMPGBaP5Pr8",
        "outputId": "dc9944e1-7c97-4954-efcc-5cca332949ab",
        "colab": {
          "base_uri": "https://localhost:8080/",
          "height": 324
        }
      },
      "source": [
        "plot_performance(model_l2_1_hist)"
      ],
      "execution_count": 68,
      "outputs": [
        {
          "output_type": "display_data",
          "data": {
            "image/png": "[encoded data removed]",
            "text/plain": [
              "<Figure size 576x360 with 1 Axes>"
            ]
          },
          "metadata": {
            "needs_background": "light"
          }
        }
      ]
    },
    {
      "cell_type": "markdown",
      "metadata": {
        "id": "zGBBlLsj6ERF"
      },
      "source": [
        "# L2 0.05"
      ]
    },
    {
      "cell_type": "code",
      "metadata": {
        "id": "KEAq_Ewl6UFG",
        "outputId": "50256732-01a7-4391-e456-7e3e6120bfb3",
        "colab": {
          "base_uri": "https://localhost:8080/"
        }
      },
      "source": [
        "model_l2_2 = create_model_l2(layer1 = 0.05)\n",
        "\n",
        "model.compile (loss = \"sparse_categorical_crossentropy\", \n",
        "               optimizer = \"adam\",\n",
        "               metrics = [\"accuracy\"])\n",
        "\n",
        "model_l2_2_hist = model.fit(X_train, y_train, epochs=30,\n",
        "                    validation_data=(X_valid, y_valid))"
      ],
      "execution_count": 69,
      "outputs": [
        {
          "output_type": "stream",
          "name": "stdout",
          "text": [
            "Epoch 1/30\n",
            "1719/1719 [==============================] - 7s 4ms/step - loss: 0.0405 - accuracy: 0.9892 - val_loss: 2.2316 - val_accuracy: 0.8918\n",
            "Epoch 2/30\n",
            "1719/1719 [==============================] - 6s 3ms/step - loss: 0.0455 - accuracy: 0.9889 - val_loss: 2.1188 - val_accuracy: 0.8968\n",
            "Epoch 3/30\n",
            "1719/1719 [==============================] - 6s 4ms/step - loss: 0.0441 - accuracy: 0.9888 - val_loss: 1.9754 - val_accuracy: 0.8956\n",
            "Epoch 4/30\n",
            "1719/1719 [==============================] - 6s 3ms/step - loss: 0.0293 - accuracy: 0.9913 - val_loss: 2.1117 - val_accuracy: 0.9028\n",
            "Epoch 5/30\n",
            "1719/1719 [==============================] - 6s 3ms/step - loss: 0.0337 - accuracy: 0.9903 - val_loss: 1.9897 - val_accuracy: 0.8992\n",
            "Epoch 6/30\n",
            "1719/1719 [==============================] - 6s 4ms/step - loss: 0.0500 - accuracy: 0.9872 - val_loss: 2.0594 - val_accuracy: 0.8966\n",
            "Epoch 7/30\n",
            "1719/1719 [==============================] - 6s 3ms/step - loss: 0.0343 - accuracy: 0.9909 - val_loss: 1.9687 - val_accuracy: 0.8982\n",
            "Epoch 8/30\n",
            "1719/1719 [==============================] - 6s 3ms/step - loss: 0.0351 - accuracy: 0.9907 - val_loss: 2.0328 - val_accuracy: 0.8970\n",
            "Epoch 9/30\n",
            "1719/1719 [==============================] - 6s 3ms/step - loss: 0.0337 - accuracy: 0.9903 - val_loss: 2.0112 - val_accuracy: 0.8998\n",
            "Epoch 10/30\n",
            "1719/1719 [==============================] - 6s 3ms/step - loss: 0.0323 - accuracy: 0.9910 - val_loss: 2.3473 - val_accuracy: 0.8912\n",
            "Epoch 11/30\n",
            "1719/1719 [==============================] - 6s 3ms/step - loss: 0.0549 - accuracy: 0.9863 - val_loss: 1.9482 - val_accuracy: 0.8982\n",
            "Epoch 12/30\n",
            "1719/1719 [==============================] - 6s 4ms/step - loss: 0.0273 - accuracy: 0.9919 - val_loss: 2.1958 - val_accuracy: 0.8994\n",
            "Epoch 13/30\n",
            "1719/1719 [==============================] - 6s 3ms/step - loss: 0.0286 - accuracy: 0.9918 - val_loss: 2.1707 - val_accuracy: 0.8982\n",
            "Epoch 14/30\n",
            "1719/1719 [==============================] - 6s 3ms/step - loss: 0.0476 - accuracy: 0.9878 - val_loss: 2.1057 - val_accuracy: 0.8958\n",
            "Epoch 15/30\n",
            "1719/1719 [==============================] - 6s 4ms/step - loss: 0.0375 - accuracy: 0.9908 - val_loss: 1.9940 - val_accuracy: 0.8964\n",
            "Epoch 16/30\n",
            "1719/1719 [==============================] - 6s 3ms/step - loss: 0.0345 - accuracy: 0.9907 - val_loss: 2.1359 - val_accuracy: 0.8988\n",
            "Epoch 17/30\n",
            "1719/1719 [==============================] - 6s 3ms/step - loss: 0.0285 - accuracy: 0.9916 - val_loss: 2.2380 - val_accuracy: 0.8980\n",
            "Epoch 18/30\n",
            "1719/1719 [==============================] - 6s 3ms/step - loss: 0.0466 - accuracy: 0.9887 - val_loss: 2.1255 - val_accuracy: 0.8986\n",
            "Epoch 19/30\n",
            "1719/1719 [==============================] - 6s 3ms/step - loss: 0.0261 - accuracy: 0.9924 - val_loss: 2.3765 - val_accuracy: 0.8990\n",
            "Epoch 20/30\n",
            "1719/1719 [==============================] - 6s 3ms/step - loss: 0.0325 - accuracy: 0.9901 - val_loss: 2.1296 - val_accuracy: 0.9010\n",
            "Epoch 21/30\n",
            "1719/1719 [==============================] - 6s 3ms/step - loss: 0.0351 - accuracy: 0.9900 - val_loss: 2.1729 - val_accuracy: 0.8984\n",
            "Epoch 22/30\n",
            "1719/1719 [==============================] - 6s 3ms/step - loss: 0.0500 - accuracy: 0.9891 - val_loss: 2.4569 - val_accuracy: 0.8930\n",
            "Epoch 23/30\n",
            "1719/1719 [==============================] - 6s 3ms/step - loss: 0.0571 - accuracy: 0.9890 - val_loss: 2.0875 - val_accuracy: 0.8958\n",
            "Epoch 24/30\n",
            "1719/1719 [==============================] - 6s 3ms/step - loss: 0.0306 - accuracy: 0.9932 - val_loss: 2.3173 - val_accuracy: 0.8998\n",
            "Epoch 25/30\n",
            "1719/1719 [==============================] - 6s 4ms/step - loss: 0.0399 - accuracy: 0.9911 - val_loss: 2.0655 - val_accuracy: 0.8940\n",
            "Epoch 26/30\n",
            "1719/1719 [==============================] - 6s 3ms/step - loss: 0.0445 - accuracy: 0.9893 - val_loss: 2.3492 - val_accuracy: 0.8878\n",
            "Epoch 27/30\n",
            "1719/1719 [==============================] - 6s 3ms/step - loss: 0.0406 - accuracy: 0.9901 - val_loss: 2.4066 - val_accuracy: 0.9000\n",
            "Epoch 28/30\n",
            "1719/1719 [==============================] - 6s 3ms/step - loss: 0.0289 - accuracy: 0.9922 - val_loss: 2.1490 - val_accuracy: 0.9020\n",
            "Epoch 29/30\n",
            "1719/1719 [==============================] - 6s 3ms/step - loss: 0.0333 - accuracy: 0.9913 - val_loss: 2.3659 - val_accuracy: 0.8968\n",
            "Epoch 30/30\n",
            "1719/1719 [==============================] - 6s 3ms/step - loss: 0.0435 - accuracy: 0.9888 - val_loss: 2.3052 - val_accuracy: 0.8944\n"
          ]
        }
      ]
    },
    {
      "cell_type": "markdown",
      "metadata": {
        "id": "TMiZ3vBP7rdN"
      },
      "source": [
        "L2 0.05 at layer 1 also has overfitting issue that reaches more than 2 consistently across epochs."
      ]
    },
    {
      "cell_type": "code",
      "metadata": {
        "id": "ZMMuTm656ZQE",
        "outputId": "dd4dfc21-b865-45a8-a161-e994523e42ed",
        "colab": {
          "base_uri": "https://localhost:8080/",
          "height": 324
        }
      },
      "source": [
        "plot_performance(model_l2_2_hist)"
      ],
      "execution_count": 70,
      "outputs": [
        {
          "output_type": "display_data",
          "data": {
            "image/png": "[encoded data removed]",
            "text/plain": [
              "<Figure size 576x360 with 1 Axes>"
            ]
          },
          "metadata": {
            "needs_background": "light"
          }
        }
      ]
    },
    {
      "cell_type": "markdown",
      "metadata": {
        "id": "zeiQHGPG6yC8"
      },
      "source": [
        "# L2 0.01 + L2 0.01"
      ]
    },
    {
      "cell_type": "code",
      "metadata": {
        "id": "mD9TgP1263xl",
        "outputId": "439e62a4-fe01-4470-f8e0-90eb84cfe057",
        "colab": {
          "base_uri": "https://localhost:8080/"
        }
      },
      "source": [
        "model_l2_3 = create_model_l2(layer1 = 0.01, layer2 = 0.01)\n",
        "\n",
        "model.compile (loss = \"sparse_categorical_crossentropy\", \n",
        "               optimizer = \"adam\",\n",
        "               metrics = [\"accuracy\"])\n",
        "\n",
        "model_l2_3_hist = model.fit(X_train, y_train, epochs=30,\n",
        "                    validation_data=(X_valid, y_valid))"
      ],
      "execution_count": 72,
      "outputs": [
        {
          "output_type": "stream",
          "name": "stdout",
          "text": [
            "Epoch 1/30\n",
            "1719/1719 [==============================] - 7s 4ms/step - loss: 0.0396 - accuracy: 0.9895 - val_loss: 2.5779 - val_accuracy: 0.8998\n",
            "Epoch 2/30\n",
            "1719/1719 [==============================] - 6s 4ms/step - loss: 0.0612 - accuracy: 0.9881 - val_loss: 2.5309 - val_accuracy: 0.8992\n",
            "Epoch 3/30\n",
            "1719/1719 [==============================] - 6s 3ms/step - loss: 0.0313 - accuracy: 0.9922 - val_loss: 2.3930 - val_accuracy: 0.8940\n",
            "Epoch 4/30\n",
            "1719/1719 [==============================] - 6s 3ms/step - loss: 0.0392 - accuracy: 0.9913 - val_loss: 2.7709 - val_accuracy: 0.8920\n",
            "Epoch 5/30\n",
            "1719/1719 [==============================] - 6s 3ms/step - loss: 0.0327 - accuracy: 0.9914 - val_loss: 2.7468 - val_accuracy: 0.8868\n",
            "Epoch 6/30\n",
            "1719/1719 [==============================] - 6s 3ms/step - loss: 0.0285 - accuracy: 0.9913 - val_loss: 3.3121 - val_accuracy: 0.8968\n",
            "Epoch 7/30\n",
            "1719/1719 [==============================] - 6s 3ms/step - loss: 0.0373 - accuracy: 0.9895 - val_loss: 2.5410 - val_accuracy: 0.8884\n",
            "Epoch 8/30\n",
            "1719/1719 [==============================] - 6s 3ms/step - loss: 0.0424 - accuracy: 0.9896 - val_loss: 2.5511 - val_accuracy: 0.8976\n",
            "Epoch 9/30\n",
            "1719/1719 [==============================] - 6s 3ms/step - loss: 0.0215 - accuracy: 0.9935 - val_loss: 2.6172 - val_accuracy: 0.9000\n",
            "Epoch 10/30\n",
            "1719/1719 [==============================] - 6s 4ms/step - loss: 0.0543 - accuracy: 0.9871 - val_loss: 2.4620 - val_accuracy: 0.8942\n",
            "Epoch 11/30\n",
            "1719/1719 [==============================] - 6s 3ms/step - loss: 0.0267 - accuracy: 0.9925 - val_loss: 2.6129 - val_accuracy: 0.8978\n",
            "Epoch 12/30\n",
            "1719/1719 [==============================] - 6s 3ms/step - loss: 0.0309 - accuracy: 0.9910 - val_loss: 2.6612 - val_accuracy: 0.8982\n",
            "Epoch 13/30\n",
            "1719/1719 [==============================] - 6s 3ms/step - loss: 0.0358 - accuracy: 0.9914 - val_loss: 2.6099 - val_accuracy: 0.8910\n",
            "Epoch 14/30\n",
            "1719/1719 [==============================] - 6s 4ms/step - loss: 0.0479 - accuracy: 0.9879 - val_loss: 2.4404 - val_accuracy: 0.8970\n",
            "Epoch 15/30\n",
            "1719/1719 [==============================] - 6s 3ms/step - loss: 0.0251 - accuracy: 0.9923 - val_loss: 2.8343 - val_accuracy: 0.8974\n",
            "Epoch 16/30\n",
            "1719/1719 [==============================] - 6s 3ms/step - loss: 0.0602 - accuracy: 0.9878 - val_loss: 2.4443 - val_accuracy: 0.8958\n",
            "Epoch 17/30\n",
            "1719/1719 [==============================] - 6s 3ms/step - loss: 0.0388 - accuracy: 0.9906 - val_loss: 2.3955 - val_accuracy: 0.8954\n",
            "Epoch 18/30\n",
            "1719/1719 [==============================] - 6s 3ms/step - loss: 0.0308 - accuracy: 0.9913 - val_loss: 2.4984 - val_accuracy: 0.8956\n",
            "Epoch 19/30\n",
            "1719/1719 [==============================] - 6s 3ms/step - loss: 0.0357 - accuracy: 0.9903 - val_loss: 2.5753 - val_accuracy: 0.8974\n",
            "Epoch 20/30\n",
            "1719/1719 [==============================] - 6s 4ms/step - loss: 0.0339 - accuracy: 0.9911 - val_loss: 2.3035 - val_accuracy: 0.8984\n",
            "Epoch 21/30\n",
            "1719/1719 [==============================] - 6s 3ms/step - loss: 0.0358 - accuracy: 0.9904 - val_loss: 2.4411 - val_accuracy: 0.8946\n",
            "Epoch 22/30\n",
            "1719/1719 [==============================] - 6s 4ms/step - loss: 0.0390 - accuracy: 0.9903 - val_loss: 2.4686 - val_accuracy: 0.9002\n",
            "Epoch 23/30\n",
            "1719/1719 [==============================] - 6s 3ms/step - loss: 0.0323 - accuracy: 0.9915 - val_loss: 3.1349 - val_accuracy: 0.8898\n",
            "Epoch 24/30\n",
            "1719/1719 [==============================] - 6s 4ms/step - loss: 0.0429 - accuracy: 0.9898 - val_loss: 2.2925 - val_accuracy: 0.8956\n",
            "Epoch 25/30\n",
            "1719/1719 [==============================] - 6s 4ms/step - loss: 0.0277 - accuracy: 0.9919 - val_loss: 2.2473 - val_accuracy: 0.9018\n",
            "Epoch 26/30\n",
            "1719/1719 [==============================] - 6s 3ms/step - loss: 0.0419 - accuracy: 0.9889 - val_loss: 2.2640 - val_accuracy: 0.8962\n",
            "Epoch 27/30\n",
            "1719/1719 [==============================] - 6s 4ms/step - loss: 0.0247 - accuracy: 0.9933 - val_loss: 2.5028 - val_accuracy: 0.8968\n",
            "Epoch 28/30\n",
            "1719/1719 [==============================] - 6s 3ms/step - loss: 0.0316 - accuracy: 0.9910 - val_loss: 2.3921 - val_accuracy: 0.8922\n",
            "Epoch 29/30\n",
            "1719/1719 [==============================] - 6s 3ms/step - loss: 0.0545 - accuracy: 0.9866 - val_loss: 2.3720 - val_accuracy: 0.8946\n",
            "Epoch 30/30\n",
            "1719/1719 [==============================] - 6s 3ms/step - loss: 0.0244 - accuracy: 0.9930 - val_loss: 2.8851 - val_accuracy: 0.8974\n"
          ]
        }
      ]
    },
    {
      "cell_type": "markdown",
      "metadata": {
        "id": "TOwIQBJc7_f1"
      },
      "source": [
        "Validation loss reaches 3 in some epochs, further worsening the overfitting."
      ]
    },
    {
      "cell_type": "code",
      "metadata": {
        "id": "hk4NXKWe696M",
        "outputId": "4de3a1d9-b074-405a-c0aa-da2e4eee5257",
        "colab": {
          "base_uri": "https://localhost:8080/",
          "height": 324
        }
      },
      "source": [
        "plot_performance(model_l2_3_hist)"
      ],
      "execution_count": 73,
      "outputs": [
        {
          "output_type": "display_data",
          "data": {
            "image/png": "[encoded data removed]",
            "text/plain": [
              "<Figure size 576x360 with 1 Axes>"
            ]
          },
          "metadata": {
            "needs_background": "light"
          }
        }
      ]
    },
    {
      "cell_type": "markdown",
      "metadata": {
        "id": "AO-Q1scW7BYb"
      },
      "source": [
        "# L2 0.01 + L2 0.01 + L2 0.01"
      ]
    },
    {
      "cell_type": "code",
      "metadata": {
        "id": "gGMh0z0W7Dm0",
        "outputId": "d007c93d-2d66-4d39-e9ca-1a9f9b601376",
        "colab": {
          "base_uri": "https://localhost:8080/"
        }
      },
      "source": [
        "model_l2_4 = create_model_l2(layer1 = 0.01, layer2 = 0.01, layer3 = 0.01)\n",
        "\n",
        "model.compile (loss = \"sparse_categorical_crossentropy\", \n",
        "               optimizer = \"adam\",\n",
        "               metrics = [\"accuracy\"])\n",
        "\n",
        "model_l2_4_hist = model.fit(X_train, y_train, epochs=30,\n",
        "                    validation_data=(X_valid, y_valid))"
      ],
      "execution_count": 74,
      "outputs": [
        {
          "output_type": "stream",
          "name": "stdout",
          "text": [
            "Epoch 1/30\n",
            "1719/1719 [==============================] - 7s 4ms/step - loss: 0.0327 - accuracy: 0.9914 - val_loss: 3.2220 - val_accuracy: 0.8994\n",
            "Epoch 2/30\n",
            "1719/1719 [==============================] - 6s 4ms/step - loss: 0.0655 - accuracy: 0.9870 - val_loss: 2.2927 - val_accuracy: 0.8958\n",
            "Epoch 3/30\n",
            "1719/1719 [==============================] - 6s 4ms/step - loss: 0.0327 - accuracy: 0.9923 - val_loss: 3.1336 - val_accuracy: 0.8882\n",
            "Epoch 4/30\n",
            "1719/1719 [==============================] - 6s 4ms/step - loss: 0.0428 - accuracy: 0.9904 - val_loss: 2.6358 - val_accuracy: 0.8912\n",
            "Epoch 5/30\n",
            "1719/1719 [==============================] - 6s 3ms/step - loss: 0.0339 - accuracy: 0.9906 - val_loss: 2.7904 - val_accuracy: 0.8930\n",
            "Epoch 6/30\n",
            "1719/1719 [==============================] - 6s 3ms/step - loss: 0.0344 - accuracy: 0.9912 - val_loss: 2.8625 - val_accuracy: 0.8966\n",
            "Epoch 7/30\n",
            "1719/1719 [==============================] - 6s 4ms/step - loss: 0.0345 - accuracy: 0.9918 - val_loss: 2.6133 - val_accuracy: 0.8972\n",
            "Epoch 8/30\n",
            "1719/1719 [==============================] - 6s 3ms/step - loss: 0.0476 - accuracy: 0.9889 - val_loss: 2.7185 - val_accuracy: 0.8964\n",
            "Epoch 9/30\n",
            "1719/1719 [==============================] - 6s 3ms/step - loss: 0.0447 - accuracy: 0.9903 - val_loss: 2.6540 - val_accuracy: 0.8938\n",
            "Epoch 10/30\n",
            "1719/1719 [==============================] - 6s 4ms/step - loss: 0.0261 - accuracy: 0.9929 - val_loss: 2.8016 - val_accuracy: 0.8958\n",
            "Epoch 11/30\n",
            "1719/1719 [==============================] - 6s 3ms/step - loss: 0.0296 - accuracy: 0.9917 - val_loss: 3.2054 - val_accuracy: 0.8952\n",
            "Epoch 12/30\n",
            "1719/1719 [==============================] - 6s 4ms/step - loss: 0.0499 - accuracy: 0.9900 - val_loss: 2.7223 - val_accuracy: 0.8962\n",
            "Epoch 13/30\n",
            "1719/1719 [==============================] - 6s 4ms/step - loss: 0.0363 - accuracy: 0.9909 - val_loss: 2.6573 - val_accuracy: 0.8940\n",
            "Epoch 14/30\n",
            "1719/1719 [==============================] - 6s 3ms/step - loss: 0.0331 - accuracy: 0.9927 - val_loss: 2.7996 - val_accuracy: 0.8954\n",
            "Epoch 15/30\n",
            "1719/1719 [==============================] - 6s 3ms/step - loss: 0.0555 - accuracy: 0.9881 - val_loss: 2.5993 - val_accuracy: 0.8964\n",
            "Epoch 16/30\n",
            "1719/1719 [==============================] - 6s 4ms/step - loss: 0.0357 - accuracy: 0.9917 - val_loss: 3.0826 - val_accuracy: 0.8920\n",
            "Epoch 17/30\n",
            "1719/1719 [==============================] - 6s 3ms/step - loss: 0.0409 - accuracy: 0.9911 - val_loss: 2.7604 - val_accuracy: 0.8936\n",
            "Epoch 18/30\n",
            "1719/1719 [==============================] - 6s 4ms/step - loss: 0.0317 - accuracy: 0.9927 - val_loss: 3.0351 - val_accuracy: 0.8932\n",
            "Epoch 19/30\n",
            "1719/1719 [==============================] - 6s 3ms/step - loss: 0.0279 - accuracy: 0.9924 - val_loss: 3.1494 - val_accuracy: 0.9010\n",
            "Epoch 20/30\n",
            "1719/1719 [==============================] - 6s 3ms/step - loss: 0.0365 - accuracy: 0.9910 - val_loss: 2.8430 - val_accuracy: 0.8910\n",
            "Epoch 21/30\n",
            "1719/1719 [==============================] - 6s 3ms/step - loss: 0.0286 - accuracy: 0.9928 - val_loss: 2.6663 - val_accuracy: 0.8940\n",
            "Epoch 22/30\n",
            "1719/1719 [==============================] - 6s 3ms/step - loss: 0.0461 - accuracy: 0.9887 - val_loss: 2.6442 - val_accuracy: 0.8978\n",
            "Epoch 23/30\n",
            "1719/1719 [==============================] - 6s 3ms/step - loss: 0.0290 - accuracy: 0.9928 - val_loss: 2.6948 - val_accuracy: 0.8958\n",
            "Epoch 24/30\n",
            "1719/1719 [==============================] - 6s 3ms/step - loss: 0.0337 - accuracy: 0.9915 - val_loss: 2.8518 - val_accuracy: 0.8978\n",
            "Epoch 25/30\n",
            "1719/1719 [==============================] - 6s 4ms/step - loss: 0.0355 - accuracy: 0.9909 - val_loss: 2.7137 - val_accuracy: 0.8944\n",
            "Epoch 26/30\n",
            "1719/1719 [==============================] - 6s 3ms/step - loss: 0.0322 - accuracy: 0.9917 - val_loss: 2.8583 - val_accuracy: 0.9002\n",
            "Epoch 27/30\n",
            "1719/1719 [==============================] - 6s 3ms/step - loss: 0.0284 - accuracy: 0.9921 - val_loss: 2.9902 - val_accuracy: 0.8988\n",
            "Epoch 28/30\n",
            "1719/1719 [==============================] - 6s 4ms/step - loss: 0.0223 - accuracy: 0.9938 - val_loss: 2.8273 - val_accuracy: 0.8984\n",
            "Epoch 29/30\n",
            "1719/1719 [==============================] - 6s 3ms/step - loss: 0.0344 - accuracy: 0.9909 - val_loss: 3.0189 - val_accuracy: 0.8990\n",
            "Epoch 30/30\n",
            "1719/1719 [==============================] - 6s 4ms/step - loss: 0.0300 - accuracy: 0.9919 - val_loss: 3.1096 - val_accuracy: 0.8858\n"
          ]
        }
      ]
    },
    {
      "cell_type": "code",
      "metadata": {
        "id": "h6kwubGj7GmM",
        "outputId": "49440f48-d32e-43f8-dea9-53dd20803319",
        "colab": {
          "base_uri": "https://localhost:8080/",
          "height": 324
        }
      },
      "source": [
        "plot_performance(model_l2_4_hist)"
      ],
      "execution_count": 75,
      "outputs": [
        {
          "output_type": "display_data",
          "data": {
            "image/png": "[encoded data removed]",
            "text/plain": [
              "<Figure size 576x360 with 1 Axes>"
            ]
          },
          "metadata": {
            "needs_background": "light"
          }
        }
      ]
    },
    {
      "cell_type": "markdown",
      "metadata": {
        "id": "DNupa5HI8mSd"
      },
      "source": [
        "# Conclusion: baseline model still achieved the best result, at epoch 15 with best result of loss: 0.1925 - accuracy: 0.9264 - val_loss: 0.3364 - val_accuracy: 0.9010, was obtained."
      ]
    }
  ]
}