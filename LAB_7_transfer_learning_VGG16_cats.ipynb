{
  "nbformat": 4,
  "nbformat_minor": 0,
  "metadata": {
    "kernelspec": {
      "display_name": "Python 3",
      "language": "python",
      "name": "python3"
    },
    "language_info": {
      "codemirror_mode": {
        "name": "ipython",
        "version": 3
      },
      "file_extension": ".py",
      "mimetype": "text/x-python",
      "name": "python",
      "nbconvert_exporter": "python",
      "pygments_lexer": "ipython3",
      "version": "3.6.5"
    },
    "colab": {
      "name": " transfer_learning_VGG16_cats.ipynb",
      "provenance": [],
      "collapsed_sections": []
    },
    "accelerator": "GPU"
  },
  "cells": [
    {
      "cell_type": "markdown",
      "metadata": {
        "id": "cZoibC-46_7b"
      },
      "source": [
        "# Transfer Learning in Keras\n",
        "\n",
        "In this notebook, we shall experiment with transfer learning  from the pretrained model VGG16 which is trained on imagenet data to perform classification task on cats and dogs dataset. "
      ]
    },
    {
      "cell_type": "markdown",
      "metadata": {
        "id": "7wfLwqGI6_7b"
      },
      "source": [
        "#### Load dependencies"
      ]
    },
    {
      "cell_type": "code",
      "metadata": {
        "id": "CUUTEGL1OtI3"
      },
      "source": [
        "import keras\n",
        "import os, shutil"
      ],
      "execution_count": 1,
      "outputs": []
    },
    {
      "cell_type": "code",
      "metadata": {
        "id": "MuYVpKud6_7c"
      },
      "source": [
        "from keras.applications.vgg16 import VGG16\n",
        "from keras.models import Sequential\n",
        "from keras.layers import Dense, Dropout, Flatten\n",
        "from keras.preprocessing.image import ImageDataGenerator\n",
        "from keras.utils.vis_utils import plot_model\n",
        "from keras import optimizers"
      ],
      "execution_count": 3,
      "outputs": []
    },
    {
      "cell_type": "code",
      "metadata": {
        "id": "yMIl8bZXFiVh",
        "colab": {
          "base_uri": "https://localhost:8080/",
          "height": 35
        },
        "outputId": "10e45b47-4ee6-4a04-c234-82fdc2602ca5"
      },
      "source": [
        "keras.__version__"
      ],
      "execution_count": 4,
      "outputs": [
        {
          "output_type": "execute_result",
          "data": {
            "application/vnd.google.colaboratory.intrinsic+json": {
              "type": "string"
            },
            "text/plain": [
              "'2.7.0'"
            ]
          },
          "metadata": {},
          "execution_count": 4
        }
      ]
    },
    {
      "cell_type": "markdown",
      "metadata": {
        "id": "bVkz8ZxH6_7d"
      },
      "source": [
        "#### Load the pre-trained VGG16 model\n"
      ]
    },
    {
      "cell_type": "markdown",
      "metadata": {
        "id": "gNWj2qjbP5lO"
      },
      "source": [
        "The following code removes the top prediction layers of VGG16 trained on imagenet. Original input dmensions are retained as 224x224x3. These dimensions are compatible with cats-dogs dataset. \n",
        "No pooling is required."
      ]
    },
    {
      "cell_type": "code",
      "metadata": {
        "id": "FkzE78XO6_7d",
        "colab": {
          "base_uri": "https://localhost:8080/"
        },
        "outputId": "c669c1cb-e96b-40a9-b6d0-28d9df1aefda"
      },
      "source": [
        "vgg16 = VGG16(include_top=False,\n",
        "              weights='imagenet',\n",
        "              input_shape=(224,224,3),\n",
        "              pooling=None)"
      ],
      "execution_count": 5,
      "outputs": [
        {
          "output_type": "stream",
          "name": "stdout",
          "text": [
            "Downloading data from https://storage.googleapis.com/tensorflow/keras-applications/vgg16/vgg16_weights_tf_dim_ordering_tf_kernels_notop.h5\n",
            "58892288/58889256 [==============================] - 1s 0us/step\n",
            "58900480/58889256 [==============================] - 1s 0us/step\n"
          ]
        }
      ]
    },
    {
      "cell_type": "markdown",
      "metadata": {
        "id": "w5KHUsUb6_7d"
      },
      "source": [
        "#### Freeze all the layers in the base VGGNet16 model"
      ]
    },
    {
      "cell_type": "code",
      "metadata": {
        "id": "GYyBV-jV6_7d"
      },
      "source": [
        "for layer in vgg16.layers:\n",
        "    layer.trainable = False"
      ],
      "execution_count": 6,
      "outputs": []
    },
    {
      "cell_type": "markdown",
      "metadata": {
        "id": "f6bTPWe86_7d"
      },
      "source": [
        "#### Add custom classification layers"
      ]
    },
    {
      "cell_type": "code",
      "metadata": {
        "id": "299SIzEr6_7d",
        "outputId": "927229a0-327a-4e6e-8097-999569a62f86",
        "colab": {
          "base_uri": "https://localhost:8080/"
        }
      },
      "source": [
        "import keras\n",
        "from tensorflow.keras import optimizers\n",
        "# Instantiate the sequential model and add the VGG16 model: \n",
        "model = keras.models.Sequential()\n",
        "model.add(vgg16)\n",
        "# Add the custom layers atop the VGG19 model: \n",
        "model.add(Flatten(name='flattened'))\n",
        "model.add(Dropout(0.5, name='dropout1'))\n",
        "model.add(Dense(512, activation='relu'))\n",
        "model.add(Dropout(0.3, name='dropout2'))\n",
        "model.add(Dense(1, activation='sigmoid', name='predictions'))\n",
        "\n",
        "model.compile(loss='binary_crossentropy',\n",
        "              optimizer=optimizers.RMSprop(lr=1e-4),\n",
        "              metrics=['accuracy'])\n",
        "\n",
        "\n"
      ],
      "execution_count": 8,
      "outputs": [
        {
          "output_type": "stream",
          "name": "stderr",
          "text": [
            "/usr/local/lib/python3.7/dist-packages/keras/optimizer_v2/rmsprop.py:130: UserWarning: The `lr` argument is deprecated, use `learning_rate` instead.\n",
            "  super(RMSprop, self).__init__(name, **kwargs)\n"
          ]
        }
      ]
    },
    {
      "cell_type": "code",
      "metadata": {
        "colab": {
          "base_uri": "https://localhost:8080/"
        },
        "id": "TAUTPJ28vRuY",
        "outputId": "3a850781-3c58-4d79-dd80-8d938a500bfc"
      },
      "source": [
        "model.summary()"
      ],
      "execution_count": null,
      "outputs": [
        {
          "output_type": "stream",
          "text": [
            "Model: \"sequential_1\"\n",
            "_________________________________________________________________\n",
            "Layer (type)                 Output Shape              Param #   \n",
            "=================================================================\n",
            "vgg16 (Functional)           (None, 7, 7, 512)         14714688  \n",
            "_________________________________________________________________\n",
            "flattened (Flatten)          (None, 25088)             0         \n",
            "_________________________________________________________________\n",
            "dropout1 (Dropout)           (None, 25088)             0         \n",
            "_________________________________________________________________\n",
            "dense_1 (Dense)              (None, 512)               12845568  \n",
            "_________________________________________________________________\n",
            "dropout2 (Dropout)           (None, 512)               0         \n",
            "_________________________________________________________________\n",
            "predictions (Dense)          (None, 1)                 513       \n",
            "=================================================================\n",
            "Total params: 27,560,769\n",
            "Trainable params: 12,846,081\n",
            "Non-trainable params: 14,714,688\n",
            "_________________________________________________________________\n"
          ],
          "name": "stdout"
        }
      ]
    },
    {
      "cell_type": "markdown",
      "metadata": {
        "id": "Az7KHRV6RVFr"
      },
      "source": [
        "In the above note that all vgg16 model parameters are non-trainable."
      ]
    },
    {
      "cell_type": "code",
      "metadata": {
        "colab": {
          "base_uri": "https://localhost:8080/",
          "height": 661
        },
        "id": "dxUjer8P0BNJ",
        "outputId": "85c16445-0fae-4105-80ff-370b72f4933c"
      },
      "source": [
        "plot_model(model)"
      ],
      "execution_count": 9,
      "outputs": [
        {
          "output_type": "execute_result",
          "data": {
            "image/png": "[encoded data removed]",
            "text/plain": [
              "<IPython.core.display.Image object>"
            ]
          },
          "metadata": {},
          "execution_count": 9
        }
      ]
    },
    {
      "cell_type": "code",
      "metadata": {
        "id": "7kLxsYZ7ua1K",
        "colab": {
          "base_uri": "https://localhost:8080/",
          "height": 1000
        },
        "outputId": "f7a7fef0-00f4-441a-a55e-d8304eb9b11e"
      },
      "source": [
        "# This code is to see the model architecture inside VGG16\n",
        "base_model = VGG16(weights='imagenet', include_top = False)\n",
        "base_model.summary()\n",
        "plot_model(base_model)\n",
        "# model_VGG16 = models.Model(inputs=base_model.input, outputs=base_model.get_layer('flatten').output)"
      ],
      "execution_count": 10,
      "outputs": [
        {
          "output_type": "stream",
          "name": "stdout",
          "text": [
            "Model: \"vgg16\"\n",
            "_________________________________________________________________\n",
            " Layer (type)                Output Shape              Param #   \n",
            "=================================================================\n",
            " input_2 (InputLayer)        [(None, None, None, 3)]   0         \n",
            "                                                                 \n",
            " block1_conv1 (Conv2D)       (None, None, None, 64)    1792      \n",
            "                                                                 \n",
            " block1_conv2 (Conv2D)       (None, None, None, 64)    36928     \n",
            "                                                                 \n",
            " block1_pool (MaxPooling2D)  (None, None, None, 64)    0         \n",
            "                                                                 \n",
            " block2_conv1 (Conv2D)       (None, None, None, 128)   73856     \n",
            "                                                                 \n",
            " block2_conv2 (Conv2D)       (None, None, None, 128)   147584    \n",
            "                                                                 \n",
            " block2_pool (MaxPooling2D)  (None, None, None, 128)   0         \n",
            "                                                                 \n",
            " block3_conv1 (Conv2D)       (None, None, None, 256)   295168    \n",
            "                                                                 \n",
            " block3_conv2 (Conv2D)       (None, None, None, 256)   590080    \n",
            "                                                                 \n",
            " block3_conv3 (Conv2D)       (None, None, None, 256)   590080    \n",
            "                                                                 \n",
            " block3_pool (MaxPooling2D)  (None, None, None, 256)   0         \n",
            "                                                                 \n",
            " block4_conv1 (Conv2D)       (None, None, None, 512)   1180160   \n",
            "                                                                 \n",
            " block4_conv2 (Conv2D)       (None, None, None, 512)   2359808   \n",
            "                                                                 \n",
            " block4_conv3 (Conv2D)       (None, None, None, 512)   2359808   \n",
            "                                                                 \n",
            " block4_pool (MaxPooling2D)  (None, None, None, 512)   0         \n",
            "                                                                 \n",
            " block5_conv1 (Conv2D)       (None, None, None, 512)   2359808   \n",
            "                                                                 \n",
            " block5_conv2 (Conv2D)       (None, None, None, 512)   2359808   \n",
            "                                                                 \n",
            " block5_conv3 (Conv2D)       (None, None, None, 512)   2359808   \n",
            "                                                                 \n",
            " block5_pool (MaxPooling2D)  (None, None, None, 512)   0         \n",
            "                                                                 \n",
            "=================================================================\n",
            "Total params: 14,714,688\n",
            "Trainable params: 14,714,688\n",
            "Non-trainable params: 0\n",
            "_________________________________________________________________\n"
          ]
        },
        {
          "output_type": "execute_result",
          "data": {
            "image/png": "[encoded data removed]",
            "text/plain": [
              "<IPython.core.display.Image object>"
            ]
          },
          "metadata": {},
          "execution_count": 10
        }
      ]
    },
    {
      "cell_type": "markdown",
      "metadata": {
        "id": "eHYG3h0A6_7d"
      },
      "source": [
        "#### Prepare the data for training"
      ]
    },
    {
      "cell_type": "markdown",
      "metadata": {
        "id": "G6VVJl_aIFtR"
      },
      "source": [
        "# Using Cats dataset"
      ]
    },
    {
      "cell_type": "code",
      "metadata": {
        "colab": {
          "base_uri": "https://localhost:8080/"
        },
        "id": "Tqo6C7UaUAZe",
        "outputId": "893a644d-023c-48da-8fb4-b7c6ff02e719"
      },
      "source": [
        "# mount drive first\n",
        "from google.colab import drive\n",
        "drive.mount('/content/drive')"
      ],
      "execution_count": 11,
      "outputs": [
        {
          "output_type": "stream",
          "name": "stdout",
          "text": [
            "Mounted at /content/drive\n"
          ]
        }
      ]
    },
    {
      "cell_type": "code",
      "metadata": {
        "id": "lOmi1RUpIQdM"
      },
      "source": [
        "# Provide path to the dataset\n",
        "base_dir = '/content/drive/MyDrive/DataGenerator/cats_dogs_small'\n",
        "train_dir = os.path.join(base_dir, 'train')\n",
        "validation_dir = os.path.join(base_dir, 'validation')\n",
        "test_dir = os.path.join(base_dir, 'test')"
      ],
      "execution_count": 17,
      "outputs": []
    },
    {
      "cell_type": "code",
      "metadata": {
        "colab": {
          "base_uri": "https://localhost:8080/",
          "height": 35
        },
        "id": "lIybT7gabKlN",
        "outputId": "c2cbf3bd-8919-41d0-b090-c6297b64bcd8"
      },
      "source": [
        "test_dir"
      ],
      "execution_count": 18,
      "outputs": [
        {
          "output_type": "execute_result",
          "data": {
            "application/vnd.google.colaboratory.intrinsic+json": {
              "type": "string"
            },
            "text/plain": [
              "'/content/drive/MyDrive/DataGenerator/cats_dogs_small/test'"
            ]
          },
          "metadata": {},
          "execution_count": 18
        }
      ]
    },
    {
      "cell_type": "code",
      "metadata": {
        "id": "9ikGcENwIlT_"
      },
      "source": [
        "# Directories for our training,\n",
        "# validation and test splits\n",
        "\n",
        "# Directory with our training cat pictures\n",
        "train_cats_dir = os.path.join(train_dir, 'cats')\n",
        "# Directory with our training dog pictures\n",
        "train_dogs_dir = os.path.join(train_dir, 'dogs')\n",
        "# Directory with our validation cat pictures\n",
        "validation_cats_dir = os.path.join(validation_dir, 'cats')\n",
        "# Directory with our validation dog pictures\n",
        "validation_dogs_dir = os.path.join(validation_dir, 'dogs')\n",
        "# Directory with our validation cat pictures\n",
        "test_cats_dir = os.path.join(test_dir, 'cats')\n",
        "# Directory with our validation dog pictures\n",
        "test_dogs_dir = os.path.join(test_dir, 'dogs')"
      ],
      "execution_count": 19,
      "outputs": []
    },
    {
      "cell_type": "code",
      "metadata": {
        "colab": {
          "base_uri": "https://localhost:8080/",
          "height": 35
        },
        "id": "4RWZrMMvbQFa",
        "outputId": "02222a71-89bc-400c-f838-37d09b52b476"
      },
      "source": [
        "# Verify path\n",
        "train_cats_dir"
      ],
      "execution_count": 20,
      "outputs": [
        {
          "output_type": "execute_result",
          "data": {
            "application/vnd.google.colaboratory.intrinsic+json": {
              "type": "string"
            },
            "text/plain": [
              "'/content/drive/MyDrive/DataGenerator/cats_dogs_small/train/cats'"
            ]
          },
          "metadata": {},
          "execution_count": 20
        }
      ]
    },
    {
      "cell_type": "code",
      "metadata": {
        "id": "ZJvI79yGIqWz",
        "colab": {
          "base_uri": "https://localhost:8080/"
        },
        "outputId": "470f8d71-735f-43b9-fdb3-908a6f2c4be4"
      },
      "source": [
        "print('total training cat images:', len(os.listdir(train_cats_dir)))"
      ],
      "execution_count": 21,
      "outputs": [
        {
          "output_type": "stream",
          "name": "stdout",
          "text": [
            "total training cat images: 1000\n"
          ]
        }
      ]
    },
    {
      "cell_type": "markdown",
      "metadata": {
        "id": "qvIsbPCOVrue"
      },
      "source": [
        "References for data generation: \n",
        "1. https://keras.io/api/preprocessing/image/\n",
        "2. https://vijayabhaskar96.medium.com/tutorial-image-classification-with-keras-flow-from-directory-and-generators-95f75ebe5720\n"
      ]
    },
    {
      "cell_type": "code",
      "metadata": {
        "colab": {
          "base_uri": "https://localhost:8080/"
        },
        "id": "AdUOGyyguFCd",
        "outputId": "f4f72efe-9386-454c-e994-72c79d7826fe"
      },
      "source": [
        "# Preparing the data\n",
        "# Batch size depends on the datset size. \n",
        "# In this example there are 2000 image in training set and 1000 in test set.\n",
        "# Both are divisible by 20. Hence batch size is chosen as 20\n",
        "\n",
        "from keras.preprocessing.image import ImageDataGenerator\n",
        "\n",
        "# All images will be rescaled by 1./255\n",
        "train_datagen = ImageDataGenerator(rescale=1./255)\n",
        "test_datagen = ImageDataGenerator(rescale=1./255)\n",
        "train_generator = train_datagen.flow_from_directory (train_dir, )\n",
        "train_generator = train_datagen.flow_from_directory(\n",
        "        # This is the target directory\n",
        "        train_dir,\n",
        "        # All images will be resized to 224x224\n",
        "        target_size=(224, 224),\n",
        "        batch_size=20,\n",
        "        # Since we use binary_crossentropy loss, we need binary labels\n",
        "        class_mode='binary')\n",
        "\n",
        "validation_generator = test_datagen.flow_from_directory(\n",
        "        validation_dir,\n",
        "        target_size=(224, 224),\n",
        "        batch_size=20,\n",
        "        class_mode='binary')"
      ],
      "execution_count": 22,
      "outputs": [
        {
          "output_type": "stream",
          "name": "stdout",
          "text": [
            "Found 2000 images belonging to 2 classes.\n",
            "Found 2000 images belonging to 2 classes.\n",
            "Found 1010 images belonging to 2 classes.\n"
          ]
        }
      ]
    },
    {
      "cell_type": "code",
      "metadata": {
        "colab": {
          "base_uri": "https://localhost:8080/"
        },
        "id": "ABVaQ9cnif1w",
        "outputId": "3edf68cc-8597-4ab7-983d-df84f21c5446"
      },
      "source": [
        "for data_batch, labels_batch in train_generator:\n",
        "    print('data batch shape:', data_batch.shape)\n",
        "    print('labels batch shape:', labels_batch.shape)\n",
        "    break"
      ],
      "execution_count": 23,
      "outputs": [
        {
          "output_type": "stream",
          "name": "stdout",
          "text": [
            "data batch shape: (20, 224, 224, 3)\n",
            "labels batch shape: (20,)\n"
          ]
        }
      ]
    },
    {
      "cell_type": "code",
      "metadata": {
        "colab": {
          "base_uri": "https://localhost:8080/"
        },
        "id": "KvF1FtZ4ima5",
        "outputId": "4050c02f-fab9-436b-e678-796dde2a55d8"
      },
      "source": [
        "# steps_per_epoch is based on the number of batches available in the training dataset\n",
        "# validation_steps is based on the number of batches in the validation dataset\n",
        "\n",
        "history = model.fit(\n",
        "      train_generator,\n",
        "      steps_per_epoch=100,\n",
        "      epochs=30,\n",
        "      validation_data=validation_generator,\n",
        "      validation_steps=50)"
      ],
      "execution_count": 24,
      "outputs": [
        {
          "output_type": "stream",
          "name": "stdout",
          "text": [
            "Epoch 1/30\n",
            "100/100 [==============================] - 604s 6s/step - loss: 0.5334 - accuracy: 0.7645 - val_loss: 0.2683 - val_accuracy: 0.8810\n",
            "Epoch 2/30\n",
            "100/100 [==============================] - 32s 324ms/step - loss: 0.3067 - accuracy: 0.8670 - val_loss: 0.2160 - val_accuracy: 0.9130\n",
            "Epoch 3/30\n",
            "100/100 [==============================] - 32s 324ms/step - loss: 0.2518 - accuracy: 0.8900 - val_loss: 0.3017 - val_accuracy: 0.8740\n",
            "Epoch 4/30\n",
            "100/100 [==============================] - 32s 325ms/step - loss: 0.2024 - accuracy: 0.9195 - val_loss: 0.2230 - val_accuracy: 0.9070\n",
            "Epoch 5/30\n",
            "100/100 [==============================] - 32s 325ms/step - loss: 0.1725 - accuracy: 0.9275 - val_loss: 0.2271 - val_accuracy: 0.9090\n",
            "Epoch 6/30\n",
            "100/100 [==============================] - 32s 324ms/step - loss: 0.1771 - accuracy: 0.9315 - val_loss: 0.2426 - val_accuracy: 0.9100\n",
            "Epoch 7/30\n",
            "100/100 [==============================] - 32s 324ms/step - loss: 0.1221 - accuracy: 0.9535 - val_loss: 0.2291 - val_accuracy: 0.9120\n",
            "Epoch 8/30\n",
            "100/100 [==============================] - 32s 325ms/step - loss: 0.1225 - accuracy: 0.9570 - val_loss: 0.2303 - val_accuracy: 0.9190\n",
            "Epoch 9/30\n",
            "100/100 [==============================] - 32s 325ms/step - loss: 0.1000 - accuracy: 0.9585 - val_loss: 0.2848 - val_accuracy: 0.9060\n",
            "Epoch 10/30\n",
            "100/100 [==============================] - 32s 325ms/step - loss: 0.0922 - accuracy: 0.9630 - val_loss: 0.2626 - val_accuracy: 0.9090\n",
            "Epoch 11/30\n",
            "100/100 [==============================] - 32s 324ms/step - loss: 0.1021 - accuracy: 0.9635 - val_loss: 0.2778 - val_accuracy: 0.9160\n",
            "Epoch 12/30\n",
            "100/100 [==============================] - 32s 324ms/step - loss: 0.0730 - accuracy: 0.9730 - val_loss: 0.2600 - val_accuracy: 0.9140\n",
            "Epoch 13/30\n",
            "100/100 [==============================] - 32s 324ms/step - loss: 0.0832 - accuracy: 0.9695 - val_loss: 0.2598 - val_accuracy: 0.9120\n",
            "Epoch 14/30\n",
            "100/100 [==============================] - 33s 325ms/step - loss: 0.0725 - accuracy: 0.9730 - val_loss: 0.2975 - val_accuracy: 0.9140\n",
            "Epoch 15/30\n",
            "100/100 [==============================] - 32s 325ms/step - loss: 0.0869 - accuracy: 0.9660 - val_loss: 0.2874 - val_accuracy: 0.9150\n",
            "Epoch 16/30\n",
            "100/100 [==============================] - 32s 325ms/step - loss: 0.0526 - accuracy: 0.9770 - val_loss: 0.2832 - val_accuracy: 0.9130\n",
            "Epoch 17/30\n",
            "100/100 [==============================] - 32s 324ms/step - loss: 0.0550 - accuracy: 0.9820 - val_loss: 0.2850 - val_accuracy: 0.9170\n",
            "Epoch 18/30\n",
            "100/100 [==============================] - 33s 326ms/step - loss: 0.0527 - accuracy: 0.9790 - val_loss: 0.3401 - val_accuracy: 0.9070\n",
            "Epoch 19/30\n",
            "100/100 [==============================] - 32s 325ms/step - loss: 0.0404 - accuracy: 0.9850 - val_loss: 0.4163 - val_accuracy: 0.8970\n",
            "Epoch 20/30\n",
            "100/100 [==============================] - 32s 325ms/step - loss: 0.0456 - accuracy: 0.9825 - val_loss: 0.3731 - val_accuracy: 0.9070\n",
            "Epoch 21/30\n",
            "100/100 [==============================] - 32s 325ms/step - loss: 0.0382 - accuracy: 0.9860 - val_loss: 0.3402 - val_accuracy: 0.9130\n",
            "Epoch 22/30\n",
            "100/100 [==============================] - 33s 325ms/step - loss: 0.0378 - accuracy: 0.9860 - val_loss: 0.3506 - val_accuracy: 0.9180\n",
            "Epoch 23/30\n",
            "100/100 [==============================] - 33s 325ms/step - loss: 0.0491 - accuracy: 0.9815 - val_loss: 0.5315 - val_accuracy: 0.8900\n",
            "Epoch 24/30\n",
            "100/100 [==============================] - 32s 325ms/step - loss: 0.0329 - accuracy: 0.9875 - val_loss: 1.0203 - val_accuracy: 0.8260\n",
            "Epoch 25/30\n",
            "100/100 [==============================] - 33s 325ms/step - loss: 0.0357 - accuracy: 0.9850 - val_loss: 0.5984 - val_accuracy: 0.8890\n",
            "Epoch 26/30\n",
            "100/100 [==============================] - 32s 322ms/step - loss: 0.0331 - accuracy: 0.9895 - val_loss: 0.3668 - val_accuracy: 0.9160\n",
            "Epoch 27/30\n",
            "100/100 [==============================] - 32s 324ms/step - loss: 0.0312 - accuracy: 0.9875 - val_loss: 0.3983 - val_accuracy: 0.9080\n",
            "Epoch 28/30\n",
            "100/100 [==============================] - 32s 325ms/step - loss: 0.0206 - accuracy: 0.9925 - val_loss: 0.3814 - val_accuracy: 0.9140\n",
            "Epoch 29/30\n",
            "100/100 [==============================] - 32s 325ms/step - loss: 0.0362 - accuracy: 0.9865 - val_loss: 0.3936 - val_accuracy: 0.9100\n",
            "Epoch 30/30\n",
            "100/100 [==============================] - 32s 325ms/step - loss: 0.0336 - accuracy: 0.9875 - val_loss: 0.4368 - val_accuracy: 0.9120\n"
          ]
        }
      ]
    },
    {
      "cell_type": "code",
      "metadata": {
        "colab": {
          "base_uri": "https://localhost:8080/",
          "height": 545
        },
        "id": "FWG14J3aSxNe",
        "outputId": "26659219-3497-4a06-bef7-5482d1d6243f"
      },
      "source": [
        "import matplotlib.pyplot as plt\n",
        "\n",
        "accuracy = history.history['accuracy']\n",
        "val_acc = history.history['val_accuracy']\n",
        "loss = history.history['loss']\n",
        "val_loss = history.history['val_loss']\n",
        "\n",
        "epochs = range(len(accuracy))\n",
        "\n",
        "plt.plot(epochs, accuracy, 'bo', label='Training acc')\n",
        "plt.plot(epochs, val_acc, 'b', label='Validation acc')\n",
        "plt.title('Training and validation accuracy')\n",
        "plt.legend()\n",
        "\n",
        "plt.figure()\n",
        "\n",
        "plt.plot(epochs, loss, 'bo', label='Training loss')\n",
        "plt.plot(epochs, val_loss, 'b', label='Validation loss')\n",
        "plt.title('Training and validation loss')\n",
        "plt.legend()\n",
        "\n",
        "plt.show()"
      ],
      "execution_count": 25,
      "outputs": [
        {
          "output_type": "display_data",
          "data": {
            "image/png": "[encoded data removed]",
            "text/plain": [
              "<Figure size 432x288 with 1 Axes>"
            ]
          },
          "metadata": {
            "needs_background": "light"
          }
        },
        {
          "output_type": "display_data",
          "data": {
            "image/png": "[encoded data removed]",
            "text/plain": [
              "<Figure size 432x288 with 1 Axes>"
            ]
          },
          "metadata": {
            "needs_background": "light"
          }
        }
      ]
    },
    {
      "cell_type": "code",
      "metadata": {
        "id": "hCQWHk0ohyIB",
        "outputId": "d615c546-a9c5-46ee-de59-35b2798ef42a",
        "colab": {
          "base_uri": "https://localhost:8080/",
          "height": 17
        }
      },
      "source": [
        "model.save('transfer_learning_VGG16_cats.h5')\n",
        "\n",
        "from google.colab import files\n",
        "files.download('transfer_learning_VGG16_cats.h5')\n",
        "# model.save('/content/drive/My Drive/Colab Notebooks/Teaching/transfer_learning_VGG16_cats.h5')"
      ],
      "execution_count": 26,
      "outputs": [
        {
          "output_type": "display_data",
          "data": {
            "application/javascript": [
              "\n",
              "    async function download(id, filename, size) {\n",
              "      if (!google.colab.kernel.accessAllowed) {\n",
              "        return;\n",
              "      }\n",
              "      const div = document.createElement('div');\n",
              "      const label = document.createElement('label');\n",
              "      label.textContent = `Downloading \"${filename}\": `;\n",
              "      div.appendChild(label);\n",
              "      const progress = document.createElement('progress');\n",
              "      progress.max = size;\n",
              "      div.appendChild(progress);\n",
              "      document.body.appendChild(div);\n",
              "\n",
              "      const buffers = [];\n",
              "      let downloaded = 0;\n",
              "\n",
              "      const channel = await google.colab.kernel.comms.open(id);\n",
              "      // Send a message to notify the kernel that we're ready.\n",
              "      channel.send({})\n",
              "\n",
              "      for await (const message of channel.messages) {\n",
              "        // Send a message to notify the kernel that we're ready.\n",
              "        channel.send({})\n",
              "        if (message.buffers) {\n",
              "          for (const buffer of message.buffers) {\n",
              "            buffers.push(buffer);\n",
              "            downloaded += buffer.byteLength;\n",
              "            progress.value = downloaded;\n",
              "          }\n",
              "        }\n",
              "      }\n",
              "      const blob = new Blob(buffers, {type: 'application/binary'});\n",
              "      const a = document.createElement('a');\n",
              "      a.href = window.URL.createObjectURL(blob);\n",
              "      a.download = filename;\n",
              "      div.appendChild(a);\n",
              "      a.click();\n",
              "      div.remove();\n",
              "    }\n",
              "  "
            ],
            "text/plain": [
              "<IPython.core.display.Javascript object>"
            ]
          },
          "metadata": {}
        },
        {
          "output_type": "display_data",
          "data": {
            "application/javascript": [
              "download(\"download_85d06e2e-9b5c-493b-a1ee-b2f37fd45c22\", \"transfer_learning_VGG16_cats.h5\", 161697024)"
            ],
            "text/plain": [
              "<IPython.core.display.Javascript object>"
            ]
          },
          "metadata": {}
        }
      ]
    }
  ]
}