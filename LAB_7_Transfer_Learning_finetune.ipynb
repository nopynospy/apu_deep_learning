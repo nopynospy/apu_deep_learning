{
  "nbformat": 4,
  "nbformat_minor": 0,
  "metadata": {
    "colab": {
      "name": "Transfer Learning_finetune.ipynb",
      "provenance": [],
      "collapsed_sections": [],
      "include_colab_link": true
    },
    "kernelspec": {
      "name": "python3",
      "display_name": "Python 3"
    },
    "accelerator": "GPU"
  },
  "cells": [
    {
      "cell_type": "markdown",
      "metadata": {
        "id": "view-in-github",
        "colab_type": "text"
      },
      "source": [
        "<a href=\"https://colab.research.google.com/github/nopynospy/apu_deep_learning/blob/main/LAB_7_Transfer_Learning_finetune.ipynb\" target=\"_parent\"><img src=\"https://colab.research.google.com/assets/colab-badge.svg\" alt=\"Open In Colab\"/></a>"
      ]
    },
    {
      "cell_type": "markdown",
      "metadata": {
        "id": "et71tCd30JZ7"
      },
      "source": [
        "Import libraries"
      ]
    },
    {
      "cell_type": "code",
      "metadata": {
        "id": "CUUTEGL1OtI3"
      },
      "source": [
        "import keras\n",
        "import os, shutil\n",
        "import pandas as pd"
      ],
      "execution_count": 1,
      "outputs": []
    },
    {
      "cell_type": "code",
      "metadata": {
        "id": "MuYVpKud6_7c"
      },
      "source": [
        "from keras.applications.vgg16 import VGG16\n",
        "from keras.models import Sequential\n",
        "from keras.layers import Dense, Dropout, Flatten\n",
        "from keras.preprocessing.image import ImageDataGenerator\n",
        "from keras.utils.vis_utils import plot_model\n",
        "from keras import optimizers"
      ],
      "execution_count": 3,
      "outputs": []
    },
    {
      "cell_type": "code",
      "metadata": {
        "id": "FkzE78XO6_7d",
        "colab": {
          "base_uri": "https://localhost:8080/"
        },
        "outputId": "485ea064-68ef-43de-f0f8-13208f4d6235"
      },
      "source": [
        "vgg_model = VGG16(include_top=False,\n",
        "              weights='imagenet',\n",
        "              input_shape=(224,224,3),\n",
        "              pooling=None)"
      ],
      "execution_count": 4,
      "outputs": [
        {
          "output_type": "stream",
          "name": "stdout",
          "text": [
            "Downloading data from https://storage.googleapis.com/tensorflow/keras-applications/vgg16/vgg16_weights_tf_dim_ordering_tf_kernels_notop.h5\n",
            "58892288/58889256 [==============================] - 1s 0us/step\n",
            "58900480/58889256 [==============================] - 1s 0us/step\n"
          ]
        }
      ]
    },
    {
      "cell_type": "markdown",
      "metadata": {
        "id": "gfr52cYQz6Ia"
      },
      "source": [
        "Unlike in base model, where all vgg layers were set to trainable False, only layer 4 and 5 vgg layers are set as trainable."
      ]
    },
    {
      "cell_type": "code",
      "metadata": {
        "colab": {
          "base_uri": "https://localhost:8080/",
          "height": 638
        },
        "id": "v3WSSa1ec8aE",
        "outputId": "b32bead3-a8d5-4c9e-bd92-74063f92a4de"
      },
      "source": [
        "vgg_model.trainable = True\n",
        "\n",
        "set_trainable = False\n",
        "for layer in vgg_model.layers:\n",
        "    if layer.name in ['block5_conv1', 'block4_conv1']:\n",
        "        set_trainable = True\n",
        "    if set_trainable:\n",
        "        layer.trainable = True\n",
        "    else:\n",
        "        layer.trainable = False\n",
        "        \n",
        "layers = [(layer, layer.name, layer.trainable) for layer in vgg_model.layers]\n",
        "pd.DataFrame(layers, columns=['Layer Type', 'Layer Name', 'Layer Trainable'])       "
      ],
      "execution_count": null,
      "outputs": [
        {
          "output_type": "execute_result",
          "data": {
            "text/html": [
              "<div>\n",
              "<style scoped>\n",
              "    .dataframe tbody tr th:only-of-type {\n",
              "        vertical-align: middle;\n",
              "    }\n",
              "\n",
              "    .dataframe tbody tr th {\n",
              "        vertical-align: top;\n",
              "    }\n",
              "\n",
              "    .dataframe thead th {\n",
              "        text-align: right;\n",
              "    }\n",
              "</style>\n",
              "<table border=\"1\" class=\"dataframe\">\n",
              "  <thead>\n",
              "    <tr style=\"text-align: right;\">\n",
              "      <th></th>\n",
              "      <th>Layer Type</th>\n",
              "      <th>Layer Name</th>\n",
              "      <th>Layer Trainable</th>\n",
              "    </tr>\n",
              "  </thead>\n",
              "  <tbody>\n",
              "    <tr>\n",
              "      <th>0</th>\n",
              "      <td>&lt;tensorflow.python.keras.engine.input_layer.In...</td>\n",
              "      <td>input_1</td>\n",
              "      <td>False</td>\n",
              "    </tr>\n",
              "    <tr>\n",
              "      <th>1</th>\n",
              "      <td>&lt;tensorflow.python.keras.layers.convolutional....</td>\n",
              "      <td>block1_conv1</td>\n",
              "      <td>False</td>\n",
              "    </tr>\n",
              "    <tr>\n",
              "      <th>2</th>\n",
              "      <td>&lt;tensorflow.python.keras.layers.convolutional....</td>\n",
              "      <td>block1_conv2</td>\n",
              "      <td>False</td>\n",
              "    </tr>\n",
              "    <tr>\n",
              "      <th>3</th>\n",
              "      <td>&lt;tensorflow.python.keras.layers.pooling.MaxPoo...</td>\n",
              "      <td>block1_pool</td>\n",
              "      <td>False</td>\n",
              "    </tr>\n",
              "    <tr>\n",
              "      <th>4</th>\n",
              "      <td>&lt;tensorflow.python.keras.layers.convolutional....</td>\n",
              "      <td>block2_conv1</td>\n",
              "      <td>False</td>\n",
              "    </tr>\n",
              "    <tr>\n",
              "      <th>5</th>\n",
              "      <td>&lt;tensorflow.python.keras.layers.convolutional....</td>\n",
              "      <td>block2_conv2</td>\n",
              "      <td>False</td>\n",
              "    </tr>\n",
              "    <tr>\n",
              "      <th>6</th>\n",
              "      <td>&lt;tensorflow.python.keras.layers.pooling.MaxPoo...</td>\n",
              "      <td>block2_pool</td>\n",
              "      <td>False</td>\n",
              "    </tr>\n",
              "    <tr>\n",
              "      <th>7</th>\n",
              "      <td>&lt;tensorflow.python.keras.layers.convolutional....</td>\n",
              "      <td>block3_conv1</td>\n",
              "      <td>False</td>\n",
              "    </tr>\n",
              "    <tr>\n",
              "      <th>8</th>\n",
              "      <td>&lt;tensorflow.python.keras.layers.convolutional....</td>\n",
              "      <td>block3_conv2</td>\n",
              "      <td>False</td>\n",
              "    </tr>\n",
              "    <tr>\n",
              "      <th>9</th>\n",
              "      <td>&lt;tensorflow.python.keras.layers.convolutional....</td>\n",
              "      <td>block3_conv3</td>\n",
              "      <td>False</td>\n",
              "    </tr>\n",
              "    <tr>\n",
              "      <th>10</th>\n",
              "      <td>&lt;tensorflow.python.keras.layers.pooling.MaxPoo...</td>\n",
              "      <td>block3_pool</td>\n",
              "      <td>False</td>\n",
              "    </tr>\n",
              "    <tr>\n",
              "      <th>11</th>\n",
              "      <td>&lt;tensorflow.python.keras.layers.convolutional....</td>\n",
              "      <td>block4_conv1</td>\n",
              "      <td>True</td>\n",
              "    </tr>\n",
              "    <tr>\n",
              "      <th>12</th>\n",
              "      <td>&lt;tensorflow.python.keras.layers.convolutional....</td>\n",
              "      <td>block4_conv2</td>\n",
              "      <td>True</td>\n",
              "    </tr>\n",
              "    <tr>\n",
              "      <th>13</th>\n",
              "      <td>&lt;tensorflow.python.keras.layers.convolutional....</td>\n",
              "      <td>block4_conv3</td>\n",
              "      <td>True</td>\n",
              "    </tr>\n",
              "    <tr>\n",
              "      <th>14</th>\n",
              "      <td>&lt;tensorflow.python.keras.layers.pooling.MaxPoo...</td>\n",
              "      <td>block4_pool</td>\n",
              "      <td>True</td>\n",
              "    </tr>\n",
              "    <tr>\n",
              "      <th>15</th>\n",
              "      <td>&lt;tensorflow.python.keras.layers.convolutional....</td>\n",
              "      <td>block5_conv1</td>\n",
              "      <td>True</td>\n",
              "    </tr>\n",
              "    <tr>\n",
              "      <th>16</th>\n",
              "      <td>&lt;tensorflow.python.keras.layers.convolutional....</td>\n",
              "      <td>block5_conv2</td>\n",
              "      <td>True</td>\n",
              "    </tr>\n",
              "    <tr>\n",
              "      <th>17</th>\n",
              "      <td>&lt;tensorflow.python.keras.layers.convolutional....</td>\n",
              "      <td>block5_conv3</td>\n",
              "      <td>True</td>\n",
              "    </tr>\n",
              "    <tr>\n",
              "      <th>18</th>\n",
              "      <td>&lt;tensorflow.python.keras.layers.pooling.MaxPoo...</td>\n",
              "      <td>block5_pool</td>\n",
              "      <td>True</td>\n",
              "    </tr>\n",
              "  </tbody>\n",
              "</table>\n",
              "</div>"
            ],
            "text/plain": [
              "                                           Layer Type  ... Layer Trainable\n",
              "0   <tensorflow.python.keras.engine.input_layer.In...  ...           False\n",
              "1   <tensorflow.python.keras.layers.convolutional....  ...           False\n",
              "2   <tensorflow.python.keras.layers.convolutional....  ...           False\n",
              "3   <tensorflow.python.keras.layers.pooling.MaxPoo...  ...           False\n",
              "4   <tensorflow.python.keras.layers.convolutional....  ...           False\n",
              "5   <tensorflow.python.keras.layers.convolutional....  ...           False\n",
              "6   <tensorflow.python.keras.layers.pooling.MaxPoo...  ...           False\n",
              "7   <tensorflow.python.keras.layers.convolutional....  ...           False\n",
              "8   <tensorflow.python.keras.layers.convolutional....  ...           False\n",
              "9   <tensorflow.python.keras.layers.convolutional....  ...           False\n",
              "10  <tensorflow.python.keras.layers.pooling.MaxPoo...  ...           False\n",
              "11  <tensorflow.python.keras.layers.convolutional....  ...            True\n",
              "12  <tensorflow.python.keras.layers.convolutional....  ...            True\n",
              "13  <tensorflow.python.keras.layers.convolutional....  ...            True\n",
              "14  <tensorflow.python.keras.layers.pooling.MaxPoo...  ...            True\n",
              "15  <tensorflow.python.keras.layers.convolutional....  ...            True\n",
              "16  <tensorflow.python.keras.layers.convolutional....  ...            True\n",
              "17  <tensorflow.python.keras.layers.convolutional....  ...            True\n",
              "18  <tensorflow.python.keras.layers.pooling.MaxPoo...  ...            True\n",
              "\n",
              "[19 rows x 3 columns]"
            ]
          },
          "metadata": {
            "tags": []
          },
          "execution_count": 8
        }
      ]
    },
    {
      "cell_type": "code",
      "metadata": {
        "id": "299SIzEr6_7d"
      },
      "source": [
        "import keras\n",
        "# Instantiate the sequential model and add the VGG16 model: \n",
        "model = keras.models.Sequential()\n",
        "model.add(vgg_model)"
      ],
      "execution_count": 5,
      "outputs": []
    },
    {
      "cell_type": "code",
      "metadata": {
        "id": "XJnobyqB0T-D"
      },
      "source": [
        "# Add the custom layers atop the VGG19 model: \n",
        "model.add(Flatten(name='flattened'))\n",
        "model.add(Dropout(0.5, name='dropout1'))\n",
        "model.add(Dense(512, activation='relu'))\n",
        "model.add(Dropout(0.3, name='dropout2'))\n",
        "model.add(Dense(1, activation='sigmoid', name='predictions'))"
      ],
      "execution_count": 6,
      "outputs": []
    },
    {
      "cell_type": "code",
      "metadata": {
        "id": "YvZZitK_0VSr"
      },
      "source": [
        "from tensorflow.keras import optimizers\n",
        "model.compile(loss='binary_crossentropy',\n",
        "              optimizer=optimizers.RMSprop(learning_rate=1e-4),\n",
        "              metrics=['accuracy'])"
      ],
      "execution_count": 8,
      "outputs": []
    },
    {
      "cell_type": "code",
      "metadata": {
        "colab": {
          "base_uri": "https://localhost:8080/"
        },
        "id": "7vJ2iytNd43A",
        "outputId": "24de991f-940f-4a6c-c590-05b79181966e"
      },
      "source": [
        "model.summary()"
      ],
      "execution_count": 9,
      "outputs": [
        {
          "output_type": "stream",
          "name": "stdout",
          "text": [
            "Model: \"sequential\"\n",
            "_________________________________________________________________\n",
            " Layer (type)                Output Shape              Param #   \n",
            "=================================================================\n",
            " vgg16 (Functional)          (None, 7, 7, 512)         14714688  \n",
            "                                                                 \n",
            " flattened (Flatten)         (None, 25088)             0         \n",
            "                                                                 \n",
            " dropout1 (Dropout)          (None, 25088)             0         \n",
            "                                                                 \n",
            " dense (Dense)               (None, 512)               12845568  \n",
            "                                                                 \n",
            " dropout2 (Dropout)          (None, 512)               0         \n",
            "                                                                 \n",
            " predictions (Dense)         (None, 1)                 513       \n",
            "                                                                 \n",
            "=================================================================\n",
            "Total params: 27,560,769\n",
            "Trainable params: 27,560,769\n",
            "Non-trainable params: 0\n",
            "_________________________________________________________________\n"
          ]
        }
      ]
    },
    {
      "cell_type": "code",
      "metadata": {
        "colab": {
          "base_uri": "https://localhost:8080/",
          "height": 661
        },
        "id": "sbteu3EVejKU",
        "outputId": "07cfdf74-ce04-4987-fdc0-32438942526a"
      },
      "source": [
        "plot_model(model)"
      ],
      "execution_count": 10,
      "outputs": [
        {
          "output_type": "execute_result",
          "data": {
            "image/png": "[encoded data removed]",
            "text/plain": [
              "<IPython.core.display.Image object>"
            ]
          },
          "metadata": {},
          "execution_count": 10
        }
      ]
    },
    {
      "cell_type": "code",
      "metadata": {
        "colab": {
          "base_uri": "https://localhost:8080/"
        },
        "id": "UB5uUlpC0ruT",
        "outputId": "8f13d638-438e-41e2-c46e-f3f2a0762053"
      },
      "source": [
        "# mount drive first\n",
        "from google.colab import drive\n",
        "drive.mount('/content/drive')"
      ],
      "execution_count": 11,
      "outputs": [
        {
          "output_type": "stream",
          "name": "stdout",
          "text": [
            "Mounted at /content/drive\n"
          ]
        }
      ]
    },
    {
      "cell_type": "code",
      "metadata": {
        "id": "lOmi1RUpIQdM"
      },
      "source": [
        "# Provide path to the dataset\n",
        "base_dir = '/content/drive/MyDrive/DataGenerator/cats_dogs_small'\n",
        "train_dir = os.path.join(base_dir, 'train')\n",
        "validation_dir = os.path.join(base_dir, 'validation')\n",
        "test_dir = os.path.join(base_dir, 'test')"
      ],
      "execution_count": 12,
      "outputs": []
    },
    {
      "cell_type": "code",
      "metadata": {
        "colab": {
          "base_uri": "https://localhost:8080/"
        },
        "id": "AdUOGyyguFCd",
        "outputId": "cd90b48f-3190-4c68-d4dd-304ffd763461"
      },
      "source": [
        "# Preparing the data\n",
        "# Batch size depends on the datset size. \n",
        "# In this example there are 2000 image in training set and 1000 in test set.\n",
        "# Both are divisible by 20. Hence batch size is chosen as 20\n",
        "\n",
        "from keras.preprocessing.image import ImageDataGenerator\n",
        "\n",
        "# All images will be rescaled by 1./255\n",
        "train_datagen = ImageDataGenerator(rescale=1./255)\n",
        "test_datagen = ImageDataGenerator(rescale=1./255)\n",
        "train_generator = train_datagen.flow_from_directory (train_dir, )\n",
        "train_generator = train_datagen.flow_from_directory(\n",
        "        # This is the target directory\n",
        "        train_dir,\n",
        "        # All images will be resized to 224x224\n",
        "        target_size=(224, 224),\n",
        "        batch_size=20,\n",
        "        # Since we use binary_crossentropy loss, we need binary labels\n",
        "        class_mode='binary')\n",
        "\n",
        "validation_generator = test_datagen.flow_from_directory(\n",
        "        validation_dir,\n",
        "        target_size=(224, 224),\n",
        "        batch_size=20,\n",
        "        class_mode='binary')"
      ],
      "execution_count": 13,
      "outputs": [
        {
          "output_type": "stream",
          "name": "stdout",
          "text": [
            "Found 2000 images belonging to 2 classes.\n",
            "Found 2000 images belonging to 2 classes.\n",
            "Found 1010 images belonging to 2 classes.\n"
          ]
        }
      ]
    },
    {
      "cell_type": "code",
      "metadata": {
        "id": "LHApP7S0e7sG",
        "colab": {
          "base_uri": "https://localhost:8080/"
        },
        "outputId": "cdae06aa-86df-42ea-b656-98765c14c6c5"
      },
      "source": [
        "# steps_per_epoch is based on the number of batches available in the training dataset\n",
        "# validation_steps is based on the number of batches in the validation dataset\n",
        "\n",
        "history = model.fit(\n",
        "      train_generator,\n",
        "      steps_per_epoch=100,\n",
        "      epochs=30,\n",
        "      validation_data=validation_generator,\n",
        "      validation_steps=50)"
      ],
      "execution_count": 14,
      "outputs": [
        {
          "output_type": "stream",
          "name": "stdout",
          "text": [
            "Epoch 1/30\n",
            "100/100 [==============================] - 480s 4s/step - loss: 0.7423 - accuracy: 0.5375 - val_loss: 0.6289 - val_accuracy: 0.6740\n",
            "Epoch 2/30\n",
            "100/100 [==============================] - 92s 916ms/step - loss: 0.6521 - accuracy: 0.6340 - val_loss: 0.5797 - val_accuracy: 0.7170\n",
            "Epoch 3/30\n",
            "100/100 [==============================] - 92s 917ms/step - loss: 0.4658 - accuracy: 0.7810 - val_loss: 0.3663 - val_accuracy: 0.8410\n",
            "Epoch 4/30\n",
            "100/100 [==============================] - 92s 917ms/step - loss: 0.3533 - accuracy: 0.8535 - val_loss: 0.3930 - val_accuracy: 0.8500\n",
            "Epoch 5/30\n",
            "100/100 [==============================] - 92s 916ms/step - loss: 0.2576 - accuracy: 0.8980 - val_loss: 0.3176 - val_accuracy: 0.8600\n",
            "Epoch 6/30\n",
            "100/100 [==============================] - 92s 916ms/step - loss: 0.2073 - accuracy: 0.9305 - val_loss: 0.2516 - val_accuracy: 0.9020\n",
            "Epoch 7/30\n",
            "100/100 [==============================] - 92s 917ms/step - loss: 0.1596 - accuracy: 0.9420 - val_loss: 0.6598 - val_accuracy: 0.6670\n",
            "Epoch 8/30\n",
            "100/100 [==============================] - 92s 916ms/step - loss: 0.1590 - accuracy: 0.9445 - val_loss: 0.7708 - val_accuracy: 0.8960\n",
            "Epoch 9/30\n",
            "100/100 [==============================] - 92s 916ms/step - loss: 0.1540 - accuracy: 0.9550 - val_loss: 1.2339 - val_accuracy: 0.8080\n",
            "Epoch 10/30\n",
            "100/100 [==============================] - 92s 916ms/step - loss: 0.0839 - accuracy: 0.9750 - val_loss: 0.8197 - val_accuracy: 0.8790\n",
            "Epoch 11/30\n",
            "100/100 [==============================] - 92s 916ms/step - loss: 0.1928 - accuracy: 0.9580 - val_loss: 0.4979 - val_accuracy: 0.8850\n",
            "Epoch 12/30\n",
            "100/100 [==============================] - 92s 916ms/step - loss: 0.1475 - accuracy: 0.9715 - val_loss: 0.3289 - val_accuracy: 0.8950\n",
            "Epoch 13/30\n",
            "100/100 [==============================] - 92s 916ms/step - loss: 0.1099 - accuracy: 0.9710 - val_loss: 0.2041 - val_accuracy: 0.9110\n",
            "Epoch 14/30\n",
            "100/100 [==============================] - 92s 916ms/step - loss: 0.1377 - accuracy: 0.9685 - val_loss: 0.4789 - val_accuracy: 0.8580\n",
            "Epoch 15/30\n",
            "100/100 [==============================] - 92s 916ms/step - loss: 0.0951 - accuracy: 0.9790 - val_loss: 1.3778 - val_accuracy: 0.7800\n",
            "Epoch 16/30\n",
            "100/100 [==============================] - 92s 916ms/step - loss: 0.0988 - accuracy: 0.9670 - val_loss: 0.4886 - val_accuracy: 0.9150\n",
            "Epoch 17/30\n",
            "100/100 [==============================] - 92s 916ms/step - loss: 0.1143 - accuracy: 0.9745 - val_loss: 0.4797 - val_accuracy: 0.8970\n",
            "Epoch 18/30\n",
            "100/100 [==============================] - 91s 915ms/step - loss: 0.0791 - accuracy: 0.9790 - val_loss: 0.9040 - val_accuracy: 0.9210\n",
            "Epoch 19/30\n",
            "100/100 [==============================] - 92s 916ms/step - loss: 0.2543 - accuracy: 0.9590 - val_loss: 0.5998 - val_accuracy: 0.9060\n",
            "Epoch 20/30\n",
            "100/100 [==============================] - 92s 915ms/step - loss: 0.1193 - accuracy: 0.9800 - val_loss: 0.4498 - val_accuracy: 0.8640\n",
            "Epoch 21/30\n",
            "100/100 [==============================] - 92s 916ms/step - loss: 0.0873 - accuracy: 0.9825 - val_loss: 0.4297 - val_accuracy: 0.9180\n",
            "Epoch 22/30\n",
            "100/100 [==============================] - 92s 916ms/step - loss: 0.1382 - accuracy: 0.9710 - val_loss: 0.7243 - val_accuracy: 0.9010\n",
            "Epoch 23/30\n",
            "100/100 [==============================] - 92s 916ms/step - loss: 0.1681 - accuracy: 0.9665 - val_loss: 0.4436 - val_accuracy: 0.9040\n",
            "Epoch 24/30\n",
            "100/100 [==============================] - 92s 916ms/step - loss: 0.1157 - accuracy: 0.9755 - val_loss: 0.6279 - val_accuracy: 0.9140\n",
            "Epoch 25/30\n",
            "100/100 [==============================] - 92s 916ms/step - loss: 0.1203 - accuracy: 0.9710 - val_loss: 0.4611 - val_accuracy: 0.9020\n",
            "Epoch 26/30\n",
            "100/100 [==============================] - 91s 915ms/step - loss: 0.0777 - accuracy: 0.9860 - val_loss: 0.7071 - val_accuracy: 0.8900\n",
            "Epoch 27/30\n",
            "100/100 [==============================] - 92s 916ms/step - loss: 0.1321 - accuracy: 0.9645 - val_loss: 0.3200 - val_accuracy: 0.9200\n",
            "Epoch 28/30\n",
            "100/100 [==============================] - 92s 916ms/step - loss: 0.1145 - accuracy: 0.9715 - val_loss: 1.3194 - val_accuracy: 0.8810\n",
            "Epoch 29/30\n",
            "100/100 [==============================] - 91s 915ms/step - loss: 0.1737 - accuracy: 0.9670 - val_loss: 4.8706 - val_accuracy: 0.8740\n",
            "Epoch 30/30\n",
            "100/100 [==============================] - 92s 916ms/step - loss: 0.1396 - accuracy: 0.9785 - val_loss: 0.3802 - val_accuracy: 0.9300\n"
          ]
        }
      ]
    },
    {
      "cell_type": "code",
      "metadata": {
        "colab": {
          "base_uri": "https://localhost:8080/",
          "height": 545
        },
        "id": "FWG14J3aSxNe",
        "outputId": "9408faad-2fa9-4b03-c367-0755ff66bbcb"
      },
      "source": [
        "import matplotlib.pyplot as plt\n",
        "\n",
        "accuracy = history.history['accuracy']\n",
        "val_acc = history.history['val_accuracy']\n",
        "loss = history.history['loss']\n",
        "val_loss = history.history['val_loss']\n",
        "\n",
        "epochs = range(len(accuracy))\n",
        "\n",
        "plt.plot(epochs, accuracy, 'bo', label='Training acc')\n",
        "plt.plot(epochs, val_acc, 'b', label='Validation acc')\n",
        "plt.title('Training and validation accuracy')\n",
        "plt.legend()\n",
        "\n",
        "plt.figure()\n",
        "\n",
        "plt.plot(epochs, loss, 'bo', label='Training loss')\n",
        "plt.plot(epochs, val_loss, 'b', label='Validation loss')\n",
        "plt.title('Training and validation loss')\n",
        "plt.legend()\n",
        "\n",
        "plt.show()"
      ],
      "execution_count": 15,
      "outputs": [
        {
          "output_type": "display_data",
          "data": {
            "image/png": "[encoded data removed]",
            "text/plain": [
              "<Figure size 432x288 with 1 Axes>"
            ]
          },
          "metadata": {
            "needs_background": "light"
          }
        },
        {
          "output_type": "display_data",
          "data": {
            "image/png": "[encoded data removed]",
            "text/plain": [
              "<Figure size 432x288 with 1 Axes>"
            ]
          },
          "metadata": {
            "needs_background": "light"
          }
        }
      ]
    },
    {
      "cell_type": "markdown",
      "metadata": {
        "id": "ofTDGNKzFO_k"
      },
      "source": [
        "At epoch 30, these are the results: loss: 0.1396 - accuracy: 0.9785 - val_loss: 0.3802 - val_accuracy: 0.9300. Compared to when all VGG layers were frozen and at the same model.fit, the maximum validation accuracy achieved was not more than 0.91. Thus, only training layers 4 and 5 is better than freezing all layers."
      ]
    },
    {
      "cell_type": "code",
      "metadata": {
        "id": "hCQWHk0ohyIB",
        "colab": {
          "base_uri": "https://localhost:8080/",
          "height": 17
        },
        "outputId": "d9d6815d-547e-4952-b35a-9cc59c368a6f"
      },
      "source": [
        "model.save('lab_7_finetune_tl.h5')\n",
        "\n",
        "from google.colab import files\n",
        "files.download('lab_7_finetune_tl.h5')\n",
        "# model.save('/content/drive/My Drive/Colab Notebooks/Teaching/finetune_transfer_learning_VGG16_cats.h5')"
      ],
      "execution_count": 16,
      "outputs": [
        {
          "output_type": "display_data",
          "data": {
            "application/javascript": [
              "\n",
              "    async function download(id, filename, size) {\n",
              "      if (!google.colab.kernel.accessAllowed) {\n",
              "        return;\n",
              "      }\n",
              "      const div = document.createElement('div');\n",
              "      const label = document.createElement('label');\n",
              "      label.textContent = `Downloading \"${filename}\": `;\n",
              "      div.appendChild(label);\n",
              "      const progress = document.createElement('progress');\n",
              "      progress.max = size;\n",
              "      div.appendChild(progress);\n",
              "      document.body.appendChild(div);\n",
              "\n",
              "      const buffers = [];\n",
              "      let downloaded = 0;\n",
              "\n",
              "      const channel = await google.colab.kernel.comms.open(id);\n",
              "      // Send a message to notify the kernel that we're ready.\n",
              "      channel.send({})\n",
              "\n",
              "      for await (const message of channel.messages) {\n",
              "        // Send a message to notify the kernel that we're ready.\n",
              "        channel.send({})\n",
              "        if (message.buffers) {\n",
              "          for (const buffer of message.buffers) {\n",
              "            buffers.push(buffer);\n",
              "            downloaded += buffer.byteLength;\n",
              "            progress.value = downloaded;\n",
              "          }\n",
              "        }\n",
              "      }\n",
              "      const blob = new Blob(buffers, {type: 'application/binary'});\n",
              "      const a = document.createElement('a');\n",
              "      a.href = window.URL.createObjectURL(blob);\n",
              "      a.download = filename;\n",
              "      div.appendChild(a);\n",
              "      a.click();\n",
              "      div.remove();\n",
              "    }\n",
              "  "
            ],
            "text/plain": [
              "<IPython.core.display.Javascript object>"
            ]
          },
          "metadata": {}
        },
        {
          "output_type": "display_data",
          "data": {
            "application/javascript": [
              "download(\"download_c0f6a606-2e77-4933-a30a-ae9880e4d6cc\", \"lab_7_finetune_tl.h5\", 220604200)"
            ],
            "text/plain": [
              "<IPython.core.display.Javascript object>"
            ]
          },
          "metadata": {}
        }
      ]
    },
    {
      "cell_type": "markdown",
      "metadata": {
        "id": "7PMvzH9VHRIT"
      },
      "source": [
        "# Testing the performance of training 1 vgg layer"
      ]
    },
    {
      "cell_type": "markdown",
      "metadata": {
        "id": "i8WQVFwiO-xd"
      },
      "source": [
        "Since animal images, including cats and dogs, are very frequently used for computer vision in general, VGG might also have been trained on similar images."
      ]
    },
    {
      "cell_type": "code",
      "metadata": {
        "id": "z552JS1oGj9r"
      },
      "source": [
        "vgg_model2 = VGG16(include_top=False,\n",
        "              weights='imagenet',\n",
        "              input_shape=(224,224,3),\n",
        "              pooling=None)"
      ],
      "execution_count": 20,
      "outputs": []
    },
    {
      "cell_type": "code",
      "metadata": {
        "id": "QepP6BFOGwp7",
        "outputId": "c967d4e7-53d9-4f3a-f148-7c0bf70fbea3",
        "colab": {
          "base_uri": "https://localhost:8080/",
          "height": 634
        }
      },
      "source": [
        "vgg_model2.trainable = True\n",
        "\n",
        "set_trainable = False\n",
        "for layer in vgg_model.layers:\n",
        "    if layer.name in ['block5_conv1']:\n",
        "        set_trainable = True\n",
        "    if set_trainable:\n",
        "        layer.trainable = True\n",
        "    else:\n",
        "        layer.trainable = False\n",
        "        \n",
        "layers = [(layer, layer.name, layer.trainable) for layer in vgg_model2.layers]\n",
        "pd.DataFrame(layers, columns=['Layer Type', 'Layer Name', 'Layer Trainable'])  "
      ],
      "execution_count": 21,
      "outputs": [
        {
          "output_type": "execute_result",
          "data": {
            "text/html": [
              "<div>\n",
              "<style scoped>\n",
              "    .dataframe tbody tr th:only-of-type {\n",
              "        vertical-align: middle;\n",
              "    }\n",
              "\n",
              "    .dataframe tbody tr th {\n",
              "        vertical-align: top;\n",
              "    }\n",
              "\n",
              "    .dataframe thead th {\n",
              "        text-align: right;\n",
              "    }\n",
              "</style>\n",
              "<table border=\"1\" class=\"dataframe\">\n",
              "  <thead>\n",
              "    <tr style=\"text-align: right;\">\n",
              "      <th></th>\n",
              "      <th>Layer Type</th>\n",
              "      <th>Layer Name</th>\n",
              "      <th>Layer Trainable</th>\n",
              "    </tr>\n",
              "  </thead>\n",
              "  <tbody>\n",
              "    <tr>\n",
              "      <th>0</th>\n",
              "      <td>&lt;keras.engine.input_layer.InputLayer object at...</td>\n",
              "      <td>input_3</td>\n",
              "      <td>True</td>\n",
              "    </tr>\n",
              "    <tr>\n",
              "      <th>1</th>\n",
              "      <td>&lt;keras.layers.convolutional.Conv2D object at 0...</td>\n",
              "      <td>block1_conv1</td>\n",
              "      <td>True</td>\n",
              "    </tr>\n",
              "    <tr>\n",
              "      <th>2</th>\n",
              "      <td>&lt;keras.layers.convolutional.Conv2D object at 0...</td>\n",
              "      <td>block1_conv2</td>\n",
              "      <td>True</td>\n",
              "    </tr>\n",
              "    <tr>\n",
              "      <th>3</th>\n",
              "      <td>&lt;keras.layers.pooling.MaxPooling2D object at 0...</td>\n",
              "      <td>block1_pool</td>\n",
              "      <td>True</td>\n",
              "    </tr>\n",
              "    <tr>\n",
              "      <th>4</th>\n",
              "      <td>&lt;keras.layers.convolutional.Conv2D object at 0...</td>\n",
              "      <td>block2_conv1</td>\n",
              "      <td>True</td>\n",
              "    </tr>\n",
              "    <tr>\n",
              "      <th>5</th>\n",
              "      <td>&lt;keras.layers.convolutional.Conv2D object at 0...</td>\n",
              "      <td>block2_conv2</td>\n",
              "      <td>True</td>\n",
              "    </tr>\n",
              "    <tr>\n",
              "      <th>6</th>\n",
              "      <td>&lt;keras.layers.pooling.MaxPooling2D object at 0...</td>\n",
              "      <td>block2_pool</td>\n",
              "      <td>True</td>\n",
              "    </tr>\n",
              "    <tr>\n",
              "      <th>7</th>\n",
              "      <td>&lt;keras.layers.convolutional.Conv2D object at 0...</td>\n",
              "      <td>block3_conv1</td>\n",
              "      <td>True</td>\n",
              "    </tr>\n",
              "    <tr>\n",
              "      <th>8</th>\n",
              "      <td>&lt;keras.layers.convolutional.Conv2D object at 0...</td>\n",
              "      <td>block3_conv2</td>\n",
              "      <td>True</td>\n",
              "    </tr>\n",
              "    <tr>\n",
              "      <th>9</th>\n",
              "      <td>&lt;keras.layers.convolutional.Conv2D object at 0...</td>\n",
              "      <td>block3_conv3</td>\n",
              "      <td>True</td>\n",
              "    </tr>\n",
              "    <tr>\n",
              "      <th>10</th>\n",
              "      <td>&lt;keras.layers.pooling.MaxPooling2D object at 0...</td>\n",
              "      <td>block3_pool</td>\n",
              "      <td>True</td>\n",
              "    </tr>\n",
              "    <tr>\n",
              "      <th>11</th>\n",
              "      <td>&lt;keras.layers.convolutional.Conv2D object at 0...</td>\n",
              "      <td>block4_conv1</td>\n",
              "      <td>True</td>\n",
              "    </tr>\n",
              "    <tr>\n",
              "      <th>12</th>\n",
              "      <td>&lt;keras.layers.convolutional.Conv2D object at 0...</td>\n",
              "      <td>block4_conv2</td>\n",
              "      <td>True</td>\n",
              "    </tr>\n",
              "    <tr>\n",
              "      <th>13</th>\n",
              "      <td>&lt;keras.layers.convolutional.Conv2D object at 0...</td>\n",
              "      <td>block4_conv3</td>\n",
              "      <td>True</td>\n",
              "    </tr>\n",
              "    <tr>\n",
              "      <th>14</th>\n",
              "      <td>&lt;keras.layers.pooling.MaxPooling2D object at 0...</td>\n",
              "      <td>block4_pool</td>\n",
              "      <td>True</td>\n",
              "    </tr>\n",
              "    <tr>\n",
              "      <th>15</th>\n",
              "      <td>&lt;keras.layers.convolutional.Conv2D object at 0...</td>\n",
              "      <td>block5_conv1</td>\n",
              "      <td>True</td>\n",
              "    </tr>\n",
              "    <tr>\n",
              "      <th>16</th>\n",
              "      <td>&lt;keras.layers.convolutional.Conv2D object at 0...</td>\n",
              "      <td>block5_conv2</td>\n",
              "      <td>True</td>\n",
              "    </tr>\n",
              "    <tr>\n",
              "      <th>17</th>\n",
              "      <td>&lt;keras.layers.convolutional.Conv2D object at 0...</td>\n",
              "      <td>block5_conv3</td>\n",
              "      <td>True</td>\n",
              "    </tr>\n",
              "    <tr>\n",
              "      <th>18</th>\n",
              "      <td>&lt;keras.layers.pooling.MaxPooling2D object at 0...</td>\n",
              "      <td>block5_pool</td>\n",
              "      <td>True</td>\n",
              "    </tr>\n",
              "  </tbody>\n",
              "</table>\n",
              "</div>"
            ],
            "text/plain": [
              "                                           Layer Type  ... Layer Trainable\n",
              "0   <keras.engine.input_layer.InputLayer object at...  ...            True\n",
              "1   <keras.layers.convolutional.Conv2D object at 0...  ...            True\n",
              "2   <keras.layers.convolutional.Conv2D object at 0...  ...            True\n",
              "3   <keras.layers.pooling.MaxPooling2D object at 0...  ...            True\n",
              "4   <keras.layers.convolutional.Conv2D object at 0...  ...            True\n",
              "5   <keras.layers.convolutional.Conv2D object at 0...  ...            True\n",
              "6   <keras.layers.pooling.MaxPooling2D object at 0...  ...            True\n",
              "7   <keras.layers.convolutional.Conv2D object at 0...  ...            True\n",
              "8   <keras.layers.convolutional.Conv2D object at 0...  ...            True\n",
              "9   <keras.layers.convolutional.Conv2D object at 0...  ...            True\n",
              "10  <keras.layers.pooling.MaxPooling2D object at 0...  ...            True\n",
              "11  <keras.layers.convolutional.Conv2D object at 0...  ...            True\n",
              "12  <keras.layers.convolutional.Conv2D object at 0...  ...            True\n",
              "13  <keras.layers.convolutional.Conv2D object at 0...  ...            True\n",
              "14  <keras.layers.pooling.MaxPooling2D object at 0...  ...            True\n",
              "15  <keras.layers.convolutional.Conv2D object at 0...  ...            True\n",
              "16  <keras.layers.convolutional.Conv2D object at 0...  ...            True\n",
              "17  <keras.layers.convolutional.Conv2D object at 0...  ...            True\n",
              "18  <keras.layers.pooling.MaxPooling2D object at 0...  ...            True\n",
              "\n",
              "[19 rows x 3 columns]"
            ]
          },
          "metadata": {},
          "execution_count": 21
        }
      ]
    },
    {
      "cell_type": "code",
      "metadata": {
        "id": "3VeRW7mbHXRL"
      },
      "source": [
        "import keras\n",
        "# Instantiate the sequential model and add the VGG16 model: \n",
        "model2 = keras.models.Sequential()\n",
        "model2.add(vgg_model2)"
      ],
      "execution_count": 22,
      "outputs": []
    },
    {
      "cell_type": "code",
      "metadata": {
        "id": "y2jCE53eHq87"
      },
      "source": [
        "# Add the custom layers atop the VGG19 model: \n",
        "model2.add(Flatten(name='flattened'))\n",
        "model2.add(Dropout(0.5, name='dropout1'))\n",
        "model2.add(Dense(512, activation='relu'))\n",
        "model2.add(Dropout(0.3, name='dropout2'))\n",
        "model2.add(Dense(1, activation='sigmoid', name='predictions'))"
      ],
      "execution_count": 23,
      "outputs": []
    },
    {
      "cell_type": "code",
      "metadata": {
        "id": "PIOLJUWKHuz7"
      },
      "source": [
        "from tensorflow.keras import optimizers\n",
        "model2.compile(loss='binary_crossentropy',\n",
        "              optimizer=optimizers.RMSprop(learning_rate=1e-4),\n",
        "              metrics=['accuracy'])"
      ],
      "execution_count": 24,
      "outputs": []
    },
    {
      "cell_type": "code",
      "metadata": {
        "id": "ngCBA_XsHyQL",
        "outputId": "29fd016a-9541-475a-a054-7f77080057f8",
        "colab": {
          "base_uri": "https://localhost:8080/"
        }
      },
      "source": [
        "model2.summary()"
      ],
      "execution_count": 25,
      "outputs": [
        {
          "output_type": "stream",
          "name": "stdout",
          "text": [
            "Model: \"sequential_2\"\n",
            "_________________________________________________________________\n",
            " Layer (type)                Output Shape              Param #   \n",
            "=================================================================\n",
            " vgg16 (Functional)          (None, 7, 7, 512)         14714688  \n",
            "                                                                 \n",
            " flattened (Flatten)         (None, 25088)             0         \n",
            "                                                                 \n",
            " dropout1 (Dropout)          (None, 25088)             0         \n",
            "                                                                 \n",
            " dense_1 (Dense)             (None, 512)               12845568  \n",
            "                                                                 \n",
            " dropout2 (Dropout)          (None, 512)               0         \n",
            "                                                                 \n",
            " predictions (Dense)         (None, 1)                 513       \n",
            "                                                                 \n",
            "=================================================================\n",
            "Total params: 27,560,769\n",
            "Trainable params: 27,560,769\n",
            "Non-trainable params: 0\n",
            "_________________________________________________________________\n"
          ]
        }
      ]
    },
    {
      "cell_type": "code",
      "metadata": {
        "id": "zDWtARfxHz1y",
        "outputId": "6539f9a8-7f09-46cc-c396-25558d5a31a3",
        "colab": {
          "base_uri": "https://localhost:8080/"
        }
      },
      "source": [
        "history = model2.fit(\n",
        "      train_generator,\n",
        "      steps_per_epoch=100,\n",
        "      epochs=30,\n",
        "      validation_data=validation_generator,\n",
        "      validation_steps=50)"
      ],
      "execution_count": 26,
      "outputs": [
        {
          "output_type": "stream",
          "name": "stdout",
          "text": [
            "Epoch 1/30\n",
            "100/100 [==============================] - 94s 918ms/step - loss: 0.7267 - accuracy: 0.5050 - val_loss: 0.7064 - val_accuracy: 0.4980\n",
            "Epoch 2/30\n",
            "100/100 [==============================] - 91s 915ms/step - loss: 0.7136 - accuracy: 0.5390 - val_loss: 0.5849 - val_accuracy: 0.6740\n",
            "Epoch 3/30\n",
            "100/100 [==============================] - 92s 915ms/step - loss: 0.6123 - accuracy: 0.6755 - val_loss: 0.4687 - val_accuracy: 0.7780\n",
            "Epoch 4/30\n",
            "100/100 [==============================] - 91s 915ms/step - loss: 0.4475 - accuracy: 0.7930 - val_loss: 0.3610 - val_accuracy: 0.8430\n",
            "Epoch 5/30\n",
            "100/100 [==============================] - 92s 915ms/step - loss: 0.3400 - accuracy: 0.8635 - val_loss: 0.2422 - val_accuracy: 0.8970\n",
            "Epoch 6/30\n",
            "100/100 [==============================] - 92s 915ms/step - loss: 0.2448 - accuracy: 0.9125 - val_loss: 0.2757 - val_accuracy: 0.8760\n",
            "Epoch 7/30\n",
            "100/100 [==============================] - 92s 915ms/step - loss: 0.1916 - accuracy: 0.9240 - val_loss: 0.3963 - val_accuracy: 0.9120\n",
            "Epoch 8/30\n",
            "100/100 [==============================] - 92s 916ms/step - loss: 0.1838 - accuracy: 0.9325 - val_loss: 0.3060 - val_accuracy: 0.9110\n",
            "Epoch 9/30\n",
            "100/100 [==============================] - 91s 915ms/step - loss: 0.2084 - accuracy: 0.9475 - val_loss: 0.2735 - val_accuracy: 0.9170\n",
            "Epoch 10/30\n",
            "100/100 [==============================] - 91s 915ms/step - loss: 0.1567 - accuracy: 0.9575 - val_loss: 0.2343 - val_accuracy: 0.9250\n",
            "Epoch 11/30\n",
            "100/100 [==============================] - 91s 915ms/step - loss: 0.1230 - accuracy: 0.9680 - val_loss: 0.2744 - val_accuracy: 0.8920\n",
            "Epoch 12/30\n",
            "100/100 [==============================] - 91s 915ms/step - loss: 0.1103 - accuracy: 0.9705 - val_loss: 0.2870 - val_accuracy: 0.9290\n",
            "Epoch 13/30\n",
            "100/100 [==============================] - 92s 917ms/step - loss: 0.1229 - accuracy: 0.9685 - val_loss: 0.3683 - val_accuracy: 0.9100\n",
            "Epoch 14/30\n",
            "100/100 [==============================] - 92s 917ms/step - loss: 0.1067 - accuracy: 0.9695 - val_loss: 0.5536 - val_accuracy: 0.8520\n",
            "Epoch 15/30\n",
            "100/100 [==============================] - 92s 916ms/step - loss: 0.1202 - accuracy: 0.9660 - val_loss: 0.2702 - val_accuracy: 0.8930\n",
            "Epoch 16/30\n",
            "100/100 [==============================] - 92s 916ms/step - loss: 0.1215 - accuracy: 0.9760 - val_loss: 0.5018 - val_accuracy: 0.9280\n",
            "Epoch 17/30\n",
            "100/100 [==============================] - 92s 916ms/step - loss: 0.1729 - accuracy: 0.9790 - val_loss: 0.4243 - val_accuracy: 0.9390\n",
            "Epoch 18/30\n",
            "100/100 [==============================] - 92s 916ms/step - loss: 0.1187 - accuracy: 0.9750 - val_loss: 0.3473 - val_accuracy: 0.9230\n",
            "Epoch 19/30\n",
            "100/100 [==============================] - 92s 916ms/step - loss: 0.1560 - accuracy: 0.9720 - val_loss: 0.3850 - val_accuracy: 0.9140\n",
            "Epoch 20/30\n",
            "100/100 [==============================] - 91s 915ms/step - loss: 0.0876 - accuracy: 0.9770 - val_loss: 0.3104 - val_accuracy: 0.9370\n",
            "Epoch 21/30\n",
            "100/100 [==============================] - 92s 916ms/step - loss: 0.1242 - accuracy: 0.9755 - val_loss: 0.3033 - val_accuracy: 0.9300\n",
            "Epoch 22/30\n",
            "100/100 [==============================] - 92s 916ms/step - loss: 0.4097 - accuracy: 0.9730 - val_loss: 0.7592 - val_accuracy: 0.8970\n",
            "Epoch 23/30\n",
            "100/100 [==============================] - 92s 916ms/step - loss: 0.1250 - accuracy: 0.9710 - val_loss: 0.3727 - val_accuracy: 0.9290\n",
            "Epoch 24/30\n",
            "100/100 [==============================] - 91s 915ms/step - loss: 0.1916 - accuracy: 0.9685 - val_loss: 1.3307 - val_accuracy: 0.8970\n",
            "Epoch 25/30\n",
            "100/100 [==============================] - 92s 916ms/step - loss: 0.0945 - accuracy: 0.9845 - val_loss: 1.6797 - val_accuracy: 0.8160\n",
            "Epoch 26/30\n",
            "100/100 [==============================] - 92s 916ms/step - loss: 0.1380 - accuracy: 0.9700 - val_loss: 0.8941 - val_accuracy: 0.8920\n",
            "Epoch 27/30\n",
            "100/100 [==============================] - 92s 917ms/step - loss: 0.1421 - accuracy: 0.9790 - val_loss: 0.6214 - val_accuracy: 0.9070\n",
            "Epoch 28/30\n",
            "100/100 [==============================] - 92s 917ms/step - loss: 0.1975 - accuracy: 0.9710 - val_loss: 0.4429 - val_accuracy: 0.9240\n",
            "Epoch 29/30\n",
            "100/100 [==============================] - 91s 915ms/step - loss: 0.1229 - accuracy: 0.9710 - val_loss: 0.2954 - val_accuracy: 0.9230\n",
            "Epoch 30/30\n",
            "100/100 [==============================] - 91s 915ms/step - loss: 0.0793 - accuracy: 0.9870 - val_loss: 0.4890 - val_accuracy: 0.9340\n"
          ]
        }
      ]
    },
    {
      "cell_type": "code",
      "metadata": {
        "id": "v_QsRwTmH4U7",
        "outputId": "fdb1725c-ce0d-489a-d323-569690b32000",
        "colab": {
          "base_uri": "https://localhost:8080/",
          "height": 545
        }
      },
      "source": [
        "import matplotlib.pyplot as plt\n",
        "\n",
        "accuracy = history.history['accuracy']\n",
        "val_acc = history.history['val_accuracy']\n",
        "loss = history.history['loss']\n",
        "val_loss = history.history['val_loss']\n",
        "\n",
        "epochs = range(len(accuracy))\n",
        "\n",
        "plt.plot(epochs, accuracy, 'bo', label='Training acc')\n",
        "plt.plot(epochs, val_acc, 'b', label='Validation acc')\n",
        "plt.title('Training and validation accuracy')\n",
        "plt.legend()\n",
        "\n",
        "plt.figure()\n",
        "\n",
        "plt.plot(epochs, loss, 'bo', label='Training loss')\n",
        "plt.plot(epochs, val_loss, 'b', label='Validation loss')\n",
        "plt.title('Training and validation loss')\n",
        "plt.legend()\n",
        "\n",
        "plt.show()"
      ],
      "execution_count": 27,
      "outputs": [
        {
          "output_type": "display_data",
          "data": {
            "image/png": "[encoded data removed]",
            "text/plain": [
              "<Figure size 432x288 with 1 Axes>"
            ]
          },
          "metadata": {
            "needs_background": "light"
          }
        },
        {
          "output_type": "display_data",
          "data": {
            "image/png": "[encoded data removed]",
            "text/plain": [
              "<Figure size 432x288 with 1 Axes>"
            ]
          },
          "metadata": {
            "needs_background": "light"
          }
        }
      ]
    },
    {
      "cell_type": "code",
      "metadata": {
        "id": "iy9jppGtIChT",
        "outputId": "cfcc8614-f6ff-4436-d1cb-f5b15393b706",
        "colab": {
          "base_uri": "https://localhost:8080/",
          "height": 17
        }
      },
      "source": [
        "model.save('lab_7_finetune_tl_2.h5')\n",
        "\n",
        "from google.colab import files\n",
        "files.download('lab_7_finetune_tl_2.h5')"
      ],
      "execution_count": 28,
      "outputs": [
        {
          "output_type": "display_data",
          "data": {
            "application/javascript": [
              "\n",
              "    async function download(id, filename, size) {\n",
              "      if (!google.colab.kernel.accessAllowed) {\n",
              "        return;\n",
              "      }\n",
              "      const div = document.createElement('div');\n",
              "      const label = document.createElement('label');\n",
              "      label.textContent = `Downloading \"${filename}\": `;\n",
              "      div.appendChild(label);\n",
              "      const progress = document.createElement('progress');\n",
              "      progress.max = size;\n",
              "      div.appendChild(progress);\n",
              "      document.body.appendChild(div);\n",
              "\n",
              "      const buffers = [];\n",
              "      let downloaded = 0;\n",
              "\n",
              "      const channel = await google.colab.kernel.comms.open(id);\n",
              "      // Send a message to notify the kernel that we're ready.\n",
              "      channel.send({})\n",
              "\n",
              "      for await (const message of channel.messages) {\n",
              "        // Send a message to notify the kernel that we're ready.\n",
              "        channel.send({})\n",
              "        if (message.buffers) {\n",
              "          for (const buffer of message.buffers) {\n",
              "            buffers.push(buffer);\n",
              "            downloaded += buffer.byteLength;\n",
              "            progress.value = downloaded;\n",
              "          }\n",
              "        }\n",
              "      }\n",
              "      const blob = new Blob(buffers, {type: 'application/binary'});\n",
              "      const a = document.createElement('a');\n",
              "      a.href = window.URL.createObjectURL(blob);\n",
              "      a.download = filename;\n",
              "      div.appendChild(a);\n",
              "      a.click();\n",
              "      div.remove();\n",
              "    }\n",
              "  "
            ],
            "text/plain": [
              "<IPython.core.display.Javascript object>"
            ]
          },
          "metadata": {}
        },
        {
          "output_type": "display_data",
          "data": {
            "application/javascript": [
              "download(\"download_9d444c5a-5dc9-479e-9789-e60289fc6aaf\", \"lab_7_finetune_tl_2.h5\", 220605296)"
            ],
            "text/plain": [
              "<IPython.core.display.Javascript object>"
            ]
          },
          "metadata": {}
        }
      ]
    },
    {
      "cell_type": "markdown",
      "metadata": {
        "id": "eq1GjYPdSfFu"
      },
      "source": [
        "At epoch 20, the result was loss: 0.0876 - accuracy: 0.9770 - val_loss: 0.3104 - val_accuracy: 0.9370. This is better than the loss: 0.1396 - accuracy: 0.9785 - val_loss: 0.3802 - val_accuracy: 0.9300 in the previous model, where VGG layers 4 and 5 were trained. Thus, when trained on only layer 5, the result is better than no layer trained and layer 4 and 5 trained."
      ]
    }
  ]
}