{
  "nbformat": 4,
  "nbformat_minor": 0,
  "metadata": {
    "colab": {
      "name": "Transfer Learning_finetune.ipynb",
      "provenance": [],
      "collapsed_sections": []
    },
    "kernelspec": {
      "name": "python3",
      "display_name": "Python 3"
    },
    "accelerator": "GPU"
  },
  "cells": [
    {
      "cell_type": "code",
      "metadata": {
        "id": "CUUTEGL1OtI3"
      },
      "source": [
        "import keras\n",
        "import os, shutil\n",
        "import pandas as pd"
      ],
      "execution_count": null,
      "outputs": []
    },
    {
      "cell_type": "code",
      "metadata": {
        "id": "MuYVpKud6_7c"
      },
      "source": [
        "from keras.applications.vgg16 import VGG16\n",
        "from keras.models import Sequential\n",
        "from keras.layers import Dense, Dropout, Flatten\n",
        "from keras.preprocessing.image import ImageDataGenerator\n",
        "from keras.utils import  plot_model\n",
        "from keras import optimizers"
      ],
      "execution_count": null,
      "outputs": []
    },
    {
      "cell_type": "code",
      "metadata": {
        "id": "FkzE78XO6_7d",
        "colab": {
          "base_uri": "https://localhost:8080/"
        },
        "outputId": "444f7ce5-1d34-429f-a742-7c75dd00ec31"
      },
      "source": [
        "vgg_model = VGG16(include_top=False,\n",
        "              weights='imagenet',\n",
        "              input_shape=(224,224,3),\n",
        "              pooling=None)"
      ],
      "execution_count": null,
      "outputs": [
        {
          "output_type": "stream",
          "text": [
            "Downloading data from https://storage.googleapis.com/tensorflow/keras-applications/vgg16/vgg16_weights_tf_dim_ordering_tf_kernels_notop.h5\n",
            "58892288/58889256 [==============================] - 1s 0us/step\n"
          ],
          "name": "stdout"
        }
      ]
    },
    {
      "cell_type": "code",
      "metadata": {
        "colab": {
          "base_uri": "https://localhost:8080/",
          "height": 638
        },
        "id": "v3WSSa1ec8aE",
        "outputId": "b32bead3-a8d5-4c9e-bd92-74063f92a4de"
      },
      "source": [
        "vgg_model.trainable = True\n",
        "\n",
        "set_trainable = False\n",
        "for layer in vgg_model.layers:\n",
        "    if layer.name in ['block5_conv1', 'block4_conv1']:\n",
        "        set_trainable = True\n",
        "    if set_trainable:\n",
        "        layer.trainable = True\n",
        "    else:\n",
        "        layer.trainable = False\n",
        "        \n",
        "layers = [(layer, layer.name, layer.trainable) for layer in vgg_model.layers]\n",
        "pd.DataFrame(layers, columns=['Layer Type', 'Layer Name', 'Layer Trainable'])       "
      ],
      "execution_count": null,
      "outputs": [
        {
          "output_type": "execute_result",
          "data": {
            "text/html": [
              "<div>\n",
              "<style scoped>\n",
              "    .dataframe tbody tr th:only-of-type {\n",
              "        vertical-align: middle;\n",
              "    }\n",
              "\n",
              "    .dataframe tbody tr th {\n",
              "        vertical-align: top;\n",
              "    }\n",
              "\n",
              "    .dataframe thead th {\n",
              "        text-align: right;\n",
              "    }\n",
              "</style>\n",
              "<table border=\"1\" class=\"dataframe\">\n",
              "  <thead>\n",
              "    <tr style=\"text-align: right;\">\n",
              "      <th></th>\n",
              "      <th>Layer Type</th>\n",
              "      <th>Layer Name</th>\n",
              "      <th>Layer Trainable</th>\n",
              "    </tr>\n",
              "  </thead>\n",
              "  <tbody>\n",
              "    <tr>\n",
              "      <th>0</th>\n",
              "      <td>&lt;tensorflow.python.keras.engine.input_layer.In...</td>\n",
              "      <td>input_1</td>\n",
              "      <td>False</td>\n",
              "    </tr>\n",
              "    <tr>\n",
              "      <th>1</th>\n",
              "      <td>&lt;tensorflow.python.keras.layers.convolutional....</td>\n",
              "      <td>block1_conv1</td>\n",
              "      <td>False</td>\n",
              "    </tr>\n",
              "    <tr>\n",
              "      <th>2</th>\n",
              "      <td>&lt;tensorflow.python.keras.layers.convolutional....</td>\n",
              "      <td>block1_conv2</td>\n",
              "      <td>False</td>\n",
              "    </tr>\n",
              "    <tr>\n",
              "      <th>3</th>\n",
              "      <td>&lt;tensorflow.python.keras.layers.pooling.MaxPoo...</td>\n",
              "      <td>block1_pool</td>\n",
              "      <td>False</td>\n",
              "    </tr>\n",
              "    <tr>\n",
              "      <th>4</th>\n",
              "      <td>&lt;tensorflow.python.keras.layers.convolutional....</td>\n",
              "      <td>block2_conv1</td>\n",
              "      <td>False</td>\n",
              "    </tr>\n",
              "    <tr>\n",
              "      <th>5</th>\n",
              "      <td>&lt;tensorflow.python.keras.layers.convolutional....</td>\n",
              "      <td>block2_conv2</td>\n",
              "      <td>False</td>\n",
              "    </tr>\n",
              "    <tr>\n",
              "      <th>6</th>\n",
              "      <td>&lt;tensorflow.python.keras.layers.pooling.MaxPoo...</td>\n",
              "      <td>block2_pool</td>\n",
              "      <td>False</td>\n",
              "    </tr>\n",
              "    <tr>\n",
              "      <th>7</th>\n",
              "      <td>&lt;tensorflow.python.keras.layers.convolutional....</td>\n",
              "      <td>block3_conv1</td>\n",
              "      <td>False</td>\n",
              "    </tr>\n",
              "    <tr>\n",
              "      <th>8</th>\n",
              "      <td>&lt;tensorflow.python.keras.layers.convolutional....</td>\n",
              "      <td>block3_conv2</td>\n",
              "      <td>False</td>\n",
              "    </tr>\n",
              "    <tr>\n",
              "      <th>9</th>\n",
              "      <td>&lt;tensorflow.python.keras.layers.convolutional....</td>\n",
              "      <td>block3_conv3</td>\n",
              "      <td>False</td>\n",
              "    </tr>\n",
              "    <tr>\n",
              "      <th>10</th>\n",
              "      <td>&lt;tensorflow.python.keras.layers.pooling.MaxPoo...</td>\n",
              "      <td>block3_pool</td>\n",
              "      <td>False</td>\n",
              "    </tr>\n",
              "    <tr>\n",
              "      <th>11</th>\n",
              "      <td>&lt;tensorflow.python.keras.layers.convolutional....</td>\n",
              "      <td>block4_conv1</td>\n",
              "      <td>True</td>\n",
              "    </tr>\n",
              "    <tr>\n",
              "      <th>12</th>\n",
              "      <td>&lt;tensorflow.python.keras.layers.convolutional....</td>\n",
              "      <td>block4_conv2</td>\n",
              "      <td>True</td>\n",
              "    </tr>\n",
              "    <tr>\n",
              "      <th>13</th>\n",
              "      <td>&lt;tensorflow.python.keras.layers.convolutional....</td>\n",
              "      <td>block4_conv3</td>\n",
              "      <td>True</td>\n",
              "    </tr>\n",
              "    <tr>\n",
              "      <th>14</th>\n",
              "      <td>&lt;tensorflow.python.keras.layers.pooling.MaxPoo...</td>\n",
              "      <td>block4_pool</td>\n",
              "      <td>True</td>\n",
              "    </tr>\n",
              "    <tr>\n",
              "      <th>15</th>\n",
              "      <td>&lt;tensorflow.python.keras.layers.convolutional....</td>\n",
              "      <td>block5_conv1</td>\n",
              "      <td>True</td>\n",
              "    </tr>\n",
              "    <tr>\n",
              "      <th>16</th>\n",
              "      <td>&lt;tensorflow.python.keras.layers.convolutional....</td>\n",
              "      <td>block5_conv2</td>\n",
              "      <td>True</td>\n",
              "    </tr>\n",
              "    <tr>\n",
              "      <th>17</th>\n",
              "      <td>&lt;tensorflow.python.keras.layers.convolutional....</td>\n",
              "      <td>block5_conv3</td>\n",
              "      <td>True</td>\n",
              "    </tr>\n",
              "    <tr>\n",
              "      <th>18</th>\n",
              "      <td>&lt;tensorflow.python.keras.layers.pooling.MaxPoo...</td>\n",
              "      <td>block5_pool</td>\n",
              "      <td>True</td>\n",
              "    </tr>\n",
              "  </tbody>\n",
              "</table>\n",
              "</div>"
            ],
            "text/plain": [
              "                                           Layer Type  ... Layer Trainable\n",
              "0   <tensorflow.python.keras.engine.input_layer.In...  ...           False\n",
              "1   <tensorflow.python.keras.layers.convolutional....  ...           False\n",
              "2   <tensorflow.python.keras.layers.convolutional....  ...           False\n",
              "3   <tensorflow.python.keras.layers.pooling.MaxPoo...  ...           False\n",
              "4   <tensorflow.python.keras.layers.convolutional....  ...           False\n",
              "5   <tensorflow.python.keras.layers.convolutional....  ...           False\n",
              "6   <tensorflow.python.keras.layers.pooling.MaxPoo...  ...           False\n",
              "7   <tensorflow.python.keras.layers.convolutional....  ...           False\n",
              "8   <tensorflow.python.keras.layers.convolutional....  ...           False\n",
              "9   <tensorflow.python.keras.layers.convolutional....  ...           False\n",
              "10  <tensorflow.python.keras.layers.pooling.MaxPoo...  ...           False\n",
              "11  <tensorflow.python.keras.layers.convolutional....  ...            True\n",
              "12  <tensorflow.python.keras.layers.convolutional....  ...            True\n",
              "13  <tensorflow.python.keras.layers.convolutional....  ...            True\n",
              "14  <tensorflow.python.keras.layers.pooling.MaxPoo...  ...            True\n",
              "15  <tensorflow.python.keras.layers.convolutional....  ...            True\n",
              "16  <tensorflow.python.keras.layers.convolutional....  ...            True\n",
              "17  <tensorflow.python.keras.layers.convolutional....  ...            True\n",
              "18  <tensorflow.python.keras.layers.pooling.MaxPoo...  ...            True\n",
              "\n",
              "[19 rows x 3 columns]"
            ]
          },
          "metadata": {
            "tags": []
          },
          "execution_count": 8
        }
      ]
    },
    {
      "cell_type": "code",
      "metadata": {
        "id": "299SIzEr6_7d"
      },
      "source": [
        "import keras\n",
        "# Instantiate the sequential model and add the VGG16 model: \n",
        "model = keras.models.Sequential()\n",
        "model.add(vgg_model)\n",
        "# Add the custom layers atop the VGG19 model: \n",
        "model.add(Flatten(name='flattened'))\n",
        "model.add(Dropout(0.5, name='dropout1'))\n",
        "model.add(Dense(512, activation='relu'))\n",
        "model.add(Dropout(0.3, name='dropout2'))\n",
        "model.add(Dense(1, activation='sigmoid', name='predictions'))\n",
        "\n",
        "model.compile(loss='binary_crossentropy',\n",
        "              optimizer=optimizers.RMSprop(lr=1e-4),\n",
        "              metrics=['accuracy'])\n",
        "\n",
        "\n"
      ],
      "execution_count": null,
      "outputs": []
    },
    {
      "cell_type": "code",
      "metadata": {
        "colab": {
          "base_uri": "https://localhost:8080/"
        },
        "id": "7vJ2iytNd43A",
        "outputId": "b37c70ad-60ab-4643-dc35-b1e9f0e7da6d"
      },
      "source": [
        "model.summary()"
      ],
      "execution_count": null,
      "outputs": [
        {
          "output_type": "stream",
          "text": [
            "Model: \"sequential_1\"\n",
            "_________________________________________________________________\n",
            "Layer (type)                 Output Shape              Param #   \n",
            "=================================================================\n",
            "vgg16 (Functional)           (None, 7, 7, 512)         14714688  \n",
            "_________________________________________________________________\n",
            "flattened (Flatten)          (None, 25088)             0         \n",
            "_________________________________________________________________\n",
            "dropout1 (Dropout)           (None, 25088)             0         \n",
            "_________________________________________________________________\n",
            "dense_1 (Dense)              (None, 512)               12845568  \n",
            "_________________________________________________________________\n",
            "dropout2 (Dropout)           (None, 512)               0         \n",
            "_________________________________________________________________\n",
            "predictions (Dense)          (None, 1)                 513       \n",
            "=================================================================\n",
            "Total params: 27,560,769\n",
            "Trainable params: 25,825,281\n",
            "Non-trainable params: 1,735,488\n",
            "_________________________________________________________________\n"
          ],
          "name": "stdout"
        }
      ]
    },
    {
      "cell_type": "code",
      "metadata": {
        "colab": {
          "base_uri": "https://localhost:8080/",
          "height": 661
        },
        "id": "sbteu3EVejKU",
        "outputId": "10c86c1d-026e-4efc-e825-5c3b70ff63e1"
      },
      "source": [
        "plot_model(model)"
      ],
      "execution_count": null,
      "outputs": [
        {
          "output_type": "execute_result",
          "data": {
            "image/png": "[encoded data removed]",
            "text/plain": [
              "<IPython.core.display.Image object>"
            ]
          },
          "metadata": {
            "tags": []
          },
          "execution_count": 7
        }
      ]
    },
    {
      "cell_type": "code",
      "metadata": {
        "id": "lOmi1RUpIQdM"
      },
      "source": [
        "# Provide path to the dataset\n",
        "base_dir = '/content/drive/My Drive/Colab Notebooks/Data/cats_dogs_small'\n",
        "train_dir = os.path.join(base_dir, 'train')\n",
        "validation_dir = os.path.join(base_dir, 'validation')\n",
        "test_dir = os.path.join(base_dir, 'test')"
      ],
      "execution_count": null,
      "outputs": []
    },
    {
      "cell_type": "code",
      "metadata": {
        "colab": {
          "base_uri": "https://localhost:8080/"
        },
        "id": "AdUOGyyguFCd",
        "outputId": "8a99e7f7-c2a6-40f8-b879-25ff4ff56649"
      },
      "source": [
        "# Preparing the data\n",
        "# Batch size depends on the datset size. \n",
        "# In this example there are 2000 image in training set and 1000 in test set.\n",
        "# Both are divisible by 20. Hence batch size is chosen as 20\n",
        "\n",
        "from keras.preprocessing.image import ImageDataGenerator\n",
        "\n",
        "# All images will be rescaled by 1./255\n",
        "train_datagen = ImageDataGenerator(rescale=1./255)\n",
        "test_datagen = ImageDataGenerator(rescale=1./255)\n",
        "train_generator = train_datagen.flow_from_directory (train_dir, )\n",
        "train_generator = train_datagen.flow_from_directory(\n",
        "        # This is the target directory\n",
        "        train_dir,\n",
        "        # All images will be resized to 224x224\n",
        "        target_size=(224, 224),\n",
        "        batch_size=20,\n",
        "        # Since we use binary_crossentropy loss, we need binary labels\n",
        "        class_mode='binary')\n",
        "\n",
        "validation_generator = test_datagen.flow_from_directory(\n",
        "        validation_dir,\n",
        "        target_size=(224, 224),\n",
        "        batch_size=20,\n",
        "        class_mode='binary')"
      ],
      "execution_count": null,
      "outputs": [
        {
          "output_type": "stream",
          "text": [
            "Found 2000 images belonging to 2 classes.\n",
            "Found 2000 images belonging to 2 classes.\n",
            "Found 1010 images belonging to 2 classes.\n"
          ],
          "name": "stdout"
        }
      ]
    },
    {
      "cell_type": "code",
      "metadata": {
        "id": "LHApP7S0e7sG",
        "colab": {
          "base_uri": "https://localhost:8080/"
        },
        "outputId": "a10b1b92-eec3-40c3-cf07-400722a3ccb2"
      },
      "source": [
        "# steps_per_epoch is based on the number of batches available in the training dataset\n",
        "# validation_steps is based on the number of batches in the validation dataset\n",
        "\n",
        "history = model.fit(\n",
        "      train_generator,\n",
        "      steps_per_epoch=100,\n",
        "      epochs=30,\n",
        "      validation_data=validation_generator,\n",
        "      validation_steps=50)"
      ],
      "execution_count": null,
      "outputs": [
        {
          "output_type": "stream",
          "text": [
            "Epoch 1/30\n",
            "100/100 [==============================] - 1723s 17s/step - loss: 0.7212 - accuracy: 0.5645 - val_loss: 0.5848 - val_accuracy: 0.6670\n",
            "Epoch 2/30\n",
            "100/100 [==============================] - 20s 199ms/step - loss: 0.5129 - accuracy: 0.7675 - val_loss: 0.3790 - val_accuracy: 0.8320\n",
            "Epoch 3/30\n",
            "100/100 [==============================] - 20s 201ms/step - loss: 0.3568 - accuracy: 0.8605 - val_loss: 0.3039 - val_accuracy: 0.8780\n",
            "Epoch 4/30\n",
            "100/100 [==============================] - 20s 202ms/step - loss: 0.2290 - accuracy: 0.9185 - val_loss: 0.6009 - val_accuracy: 0.8110\n",
            "Epoch 5/30\n",
            "100/100 [==============================] - 20s 204ms/step - loss: 0.1774 - accuracy: 0.9405 - val_loss: 0.2698 - val_accuracy: 0.9120\n",
            "Epoch 6/30\n",
            "100/100 [==============================] - 21s 206ms/step - loss: 0.1866 - accuracy: 0.9400 - val_loss: 0.2340 - val_accuracy: 0.9270\n",
            "Epoch 7/30\n",
            "100/100 [==============================] - 21s 207ms/step - loss: 0.1430 - accuracy: 0.9605 - val_loss: 0.2433 - val_accuracy: 0.9250\n",
            "Epoch 8/30\n",
            "100/100 [==============================] - 21s 208ms/step - loss: 0.1082 - accuracy: 0.9650 - val_loss: 0.2935 - val_accuracy: 0.9280\n",
            "Epoch 9/30\n",
            "100/100 [==============================] - 21s 209ms/step - loss: 0.1975 - accuracy: 0.9650 - val_loss: 0.5208 - val_accuracy: 0.9140\n",
            "Epoch 10/30\n",
            "100/100 [==============================] - 21s 210ms/step - loss: 0.1606 - accuracy: 0.9670 - val_loss: 0.5919 - val_accuracy: 0.9130\n",
            "Epoch 11/30\n",
            "100/100 [==============================] - 21s 211ms/step - loss: 0.1444 - accuracy: 0.9785 - val_loss: 0.5789 - val_accuracy: 0.9020\n",
            "Epoch 12/30\n",
            "100/100 [==============================] - 21s 210ms/step - loss: 0.1083 - accuracy: 0.9705 - val_loss: 0.3704 - val_accuracy: 0.9260\n",
            "Epoch 13/30\n",
            "100/100 [==============================] - 21s 211ms/step - loss: 0.1862 - accuracy: 0.9790 - val_loss: 1.4452 - val_accuracy: 0.8970\n",
            "Epoch 14/30\n",
            "100/100 [==============================] - 21s 212ms/step - loss: 0.0968 - accuracy: 0.9790 - val_loss: 0.6327 - val_accuracy: 0.9320\n",
            "Epoch 15/30\n",
            "100/100 [==============================] - 21s 213ms/step - loss: 0.1731 - accuracy: 0.9745 - val_loss: 4.8463 - val_accuracy: 0.8090\n",
            "Epoch 16/30\n",
            "100/100 [==============================] - 21s 212ms/step - loss: 0.1713 - accuracy: 0.9695 - val_loss: 0.4411 - val_accuracy: 0.9050\n",
            "Epoch 17/30\n",
            "100/100 [==============================] - 21s 213ms/step - loss: 0.0918 - accuracy: 0.9845 - val_loss: 1.2143 - val_accuracy: 0.8870\n",
            "Epoch 18/30\n",
            "100/100 [==============================] - 21s 215ms/step - loss: 0.1539 - accuracy: 0.9775 - val_loss: 0.5929 - val_accuracy: 0.9230\n",
            "Epoch 19/30\n",
            "100/100 [==============================] - 21s 214ms/step - loss: 0.1141 - accuracy: 0.9875 - val_loss: 3.7370 - val_accuracy: 0.8790\n",
            "Epoch 20/30\n",
            "100/100 [==============================] - 21s 215ms/step - loss: 0.2189 - accuracy: 0.9655 - val_loss: 0.4650 - val_accuracy: 0.9140\n",
            "Epoch 21/30\n",
            "100/100 [==============================] - 22s 215ms/step - loss: 0.2227 - accuracy: 0.9770 - val_loss: 0.3622 - val_accuracy: 0.9140\n",
            "Epoch 22/30\n",
            "100/100 [==============================] - 21s 214ms/step - loss: 0.4142 - accuracy: 0.9695 - val_loss: 0.5606 - val_accuracy: 0.8970\n",
            "Epoch 23/30\n",
            "100/100 [==============================] - 21s 214ms/step - loss: 0.1232 - accuracy: 0.9825 - val_loss: 0.4601 - val_accuracy: 0.9280\n",
            "Epoch 24/30\n",
            "100/100 [==============================] - 21s 215ms/step - loss: 0.3642 - accuracy: 0.9730 - val_loss: 1.0139 - val_accuracy: 0.8600\n",
            "Epoch 25/30\n",
            "100/100 [==============================] - 22s 216ms/step - loss: 0.1801 - accuracy: 0.9755 - val_loss: 0.8251 - val_accuracy: 0.9090\n",
            "Epoch 26/30\n",
            "100/100 [==============================] - 21s 215ms/step - loss: 0.1168 - accuracy: 0.9800 - val_loss: 0.8157 - val_accuracy: 0.9110\n",
            "Epoch 27/30\n",
            "100/100 [==============================] - 22s 217ms/step - loss: 0.1184 - accuracy: 0.9835 - val_loss: 2.2396 - val_accuracy: 0.9170\n",
            "Epoch 28/30\n",
            "100/100 [==============================] - 21s 215ms/step - loss: 0.4286 - accuracy: 0.9815 - val_loss: 0.6127 - val_accuracy: 0.9040\n",
            "Epoch 29/30\n",
            "100/100 [==============================] - 21s 215ms/step - loss: 0.1426 - accuracy: 0.9800 - val_loss: 0.7331 - val_accuracy: 0.9050\n",
            "Epoch 30/30\n",
            "100/100 [==============================] - 21s 215ms/step - loss: 0.1666 - accuracy: 0.9850 - val_loss: 1.3358 - val_accuracy: 0.9170\n"
          ],
          "name": "stdout"
        }
      ]
    },
    {
      "cell_type": "code",
      "metadata": {
        "colab": {
          "base_uri": "https://localhost:8080/",
          "height": 545
        },
        "id": "FWG14J3aSxNe",
        "outputId": "56e5c4ba-4250-4c2b-828f-b103658c3a72"
      },
      "source": [
        "import matplotlib.pyplot as plt\n",
        "\n",
        "accuracy = history.history['accuracy']\n",
        "val_acc = history.history['val_accuracy']\n",
        "loss = history.history['loss']\n",
        "val_loss = history.history['val_loss']\n",
        "\n",
        "epochs = range(len(accuracy))\n",
        "\n",
        "plt.plot(epochs, accuracy, 'bo', label='Training acc')\n",
        "plt.plot(epochs, val_acc, 'b', label='Validation acc')\n",
        "plt.title('Training and validation accuracy')\n",
        "plt.legend()\n",
        "\n",
        "plt.figure()\n",
        "\n",
        "plt.plot(epochs, loss, 'bo', label='Training loss')\n",
        "plt.plot(epochs, val_loss, 'b', label='Validation loss')\n",
        "plt.title('Training and validation loss')\n",
        "plt.legend()\n",
        "\n",
        "plt.show()"
      ],
      "execution_count": null,
      "outputs": [
        {
          "output_type": "display_data",
          "data": {
            "image/png": "[encoded data removed]",
            "text/plain": [
              "<Figure size 432x288 with 1 Axes>"
            ]
          },
          "metadata": {
            "tags": [],
            "needs_background": "light"
          }
        },
        {
          "output_type": "display_data",
          "data": {
            "image/png": "[encoded data removed]",
            "text/plain": [
              "<Figure size 432x288 with 1 Axes>"
            ]
          },
          "metadata": {
            "tags": [],
            "needs_background": "light"
          }
        }
      ]
    },
    {
      "cell_type": "code",
      "metadata": {
        "id": "W71Mq26C_urI"
      },
      "source": [
        ""
      ],
      "execution_count": null,
      "outputs": []
    },
    {
      "cell_type": "code",
      "metadata": {
        "id": "hCQWHk0ohyIB"
      },
      "source": [
        "\n",
        "model.save('/content/drive/My Drive/Colab Notebooks/Teaching/finetune_transfer_learning_VGG16_cats.h5')"
      ],
      "execution_count": null,
      "outputs": []
    }
  ]
}