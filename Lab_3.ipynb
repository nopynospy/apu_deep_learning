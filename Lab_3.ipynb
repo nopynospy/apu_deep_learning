{
  "nbformat": 4,
  "nbformat_minor": 0,
  "metadata": {
    "colab": {
      "name": "Lab_3.ipynb",
      "provenance": [],
      "collapsed_sections": [],
      "authorship_tag": "ABX9TyOICNZE0x3VkpOHWNyhJ4ZH",
      "include_colab_link": true
    },
    "kernelspec": {
      "name": "python3",
      "display_name": "Python 3"
    },
    "language_info": {
      "name": "python"
    }
  },
  "cells": [
    {
      "cell_type": "markdown",
      "metadata": {
        "id": "view-in-github",
        "colab_type": "text"
      },
      "source": [
        "<a href=\"https://colab.research.google.com/github/nopynospy/apu_deep_learning/blob/main/Lab_3.ipynb\" target=\"_parent\"><img src=\"https://colab.research.google.com/assets/colab-badge.svg\" alt=\"Open In Colab\"/></a>"
      ]
    },
    {
      "cell_type": "markdown",
      "metadata": {
        "id": "Ak-0a9Alvvh4"
      },
      "source": [
        "# LAB 3-Online_shopper_Call backs_cm_Regularization_Optimization\n",
        "\n",
        "## Objectives of the LAB:\n",
        "1. Introduce a variety of call backs, plotting, file and history saving, viewing weights of layers and performance metrics.\n",
        "2. Perform regularization and Batch normalization.\n",
        "3. Evaluate performace of the models.\n",
        "4. Compare performance of the models"
      ]
    },
    {
      "cell_type": "markdown",
      "metadata": {
        "id": "sYAvdOT8v8MF"
      },
      "source": [
        "## 1. Importing Libraries and mounting drive"
      ]
    },
    {
      "cell_type": "code",
      "metadata": {
        "id": "OlexlzUwtF2S"
      },
      "source": [
        "import pandas as pd\n",
        "import numpy as np\n",
        "import seaborn as sns\n",
        "import matplotlib.pyplot as plt\n",
        "import tensorflow as tf\n",
        "import pickle\n",
        "from tensorflow import keras\n",
        "from keras import utils as np_utils\n",
        "from keras.models import Sequential\n",
        "from keras.layers import Dense\n",
        "from keras.utils.vis_utils import plot_model\n",
        "from keras.callbacks import EarlyStopping\n",
        "from sklearn.model_selection import train_test_split\n",
        "pd.set_option('display.max_rows', 500)\n",
        "pd.set_option('display.max_columns', 500)\n",
        "pd.set_option('display.width', 1000)"
      ],
      "execution_count": 1,
      "outputs": []
    },
    {
      "cell_type": "markdown",
      "metadata": {
        "id": "4ymtCWNzw6Bt"
      },
      "source": [
        "# 2. Loading and Preparing Dataset"
      ]
    },
    {
      "cell_type": "code",
      "metadata": {
        "id": "qf0jEwKIw765"
      },
      "source": [
        "train_df = pd.read_csv('https://raw.githubusercontent.com/nopynospy/apu_deep_learning/main/online%20shop_train.csv')\n",
        "test_df = pd.read_csv('https://raw.githubusercontent.com/nopynospy/apu_deep_learning/main/online%20shop_test.csv')"
      ],
      "execution_count": 2,
      "outputs": []
    },
    {
      "cell_type": "code",
      "metadata": {
        "colab": {
          "base_uri": "https://localhost:8080/"
        },
        "id": "8x8NPHMXxSsP",
        "outputId": "5fc54f71-aeab-4fd4-8f9c-10b78fb41f54"
      },
      "source": [
        "train_df.shape"
      ],
      "execution_count": 3,
      "outputs": [
        {
          "output_type": "execute_result",
          "data": {
            "text/plain": [
              "(16626, 13)"
            ]
          },
          "metadata": {},
          "execution_count": 3
        }
      ]
    },
    {
      "cell_type": "code",
      "metadata": {
        "colab": {
          "base_uri": "https://localhost:8080/"
        },
        "id": "KZ1tMO2sxUIt",
        "outputId": "1e7c7db0-cdfa-4fde-9b38-19becf0f62d0"
      },
      "source": [
        "test_df.shape"
      ],
      "execution_count": 4,
      "outputs": [
        {
          "output_type": "execute_result",
          "data": {
            "text/plain": [
              "(2466, 13)"
            ]
          },
          "metadata": {},
          "execution_count": 4
        }
      ]
    },
    {
      "cell_type": "code",
      "metadata": {
        "id": "TifJ7ZZrxYf9"
      },
      "source": [
        "# Split dataset to independent (X) and target (y) variables\n",
        "X_train = train_df.iloc[:,:-1]\n",
        "y_train = train_df.iloc[:,-1]\n",
        "X_test = test_df.iloc[:,:-1]\n",
        "y_test = test_df.iloc[:,-1]\n",
        "# One-hot encoding the target variables from the training, validation and test datasets for classification\n",
        "y_train_cat = tf.keras.utils.to_categorical(y_train, num_classes=None, dtype=\"int\")\n",
        "y_test_cat = tf.keras.utils.to_categorical(y_test, num_classes=None, dtype=\"int\")\n",
        "# Clearing the nodes left behind in the previous session to free up memory and preventing slowdown.\n",
        "keras.backend.clear_session()\n",
        "np.random.seed(42)\n",
        "tf.random.set_seed(42)"
      ],
      "execution_count": 5,
      "outputs": []
    },
    {
      "cell_type": "markdown",
      "metadata": {
        "id": "KZoGguA5xu9s"
      },
      "source": [
        "# 4. Misc features\n",
        "## 4.1 Layer Weights"
      ]
    }
  ]
}